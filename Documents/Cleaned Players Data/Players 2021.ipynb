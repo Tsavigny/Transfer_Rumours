{
 "cells": [
  {
   "cell_type": "markdown",
   "id": "ec62edfa",
   "metadata": {},
   "source": [
    "#### Cleaning Players Data"
   ]
  },
  {
   "cell_type": "code",
   "execution_count": 20,
   "id": "0bf1faad",
   "metadata": {},
   "outputs": [],
   "source": [
    "import pandas as pd\n",
    "import regex as re\n",
    "from datetime import datetime    \n",
    "from unidecode import unidecode"
   ]
  },
  {
   "cell_type": "code",
   "execution_count": 21,
   "id": "6eab05b3",
   "metadata": {},
   "outputs": [],
   "source": [
    "players = pd.read_csv(\"2021.csv\", index_col = [0])"
   ]
  },
  {
   "cell_type": "code",
   "execution_count": 22,
   "id": "9cc1429d",
   "metadata": {},
   "outputs": [],
   "source": [
    "players[\"Year\"] = 2021"
   ]
  },
  {
   "cell_type": "code",
   "execution_count": 23,
   "id": "9039408a",
   "metadata": {},
   "outputs": [],
   "source": [
    "#Reformatting how club are written\n",
    "players[\"Club\"] =[unidecode(w) for w in players[\"Club\"]]\n",
    "\n",
    "players[\"Player\"] =[unidecode(w) for w in players[\"Player\"]]"
   ]
  },
  {
   "cell_type": "code",
   "execution_count": 24,
   "id": "1e4a2926",
   "metadata": {},
   "outputs": [],
   "source": [
    "players[\"Player\"] = [re.sub(' +', ' ', w) for w in players[\"Player\"]]"
   ]
  },
  {
   "cell_type": "markdown",
   "id": "0221cbc4",
   "metadata": {},
   "source": [
    "#### Transforming Values"
   ]
  },
  {
   "cell_type": "code",
   "execution_count": 25,
   "id": "cb81e060",
   "metadata": {},
   "outputs": [],
   "source": [
    "#Getting the number of days left on contract\n",
    "Contract_end = []\n",
    "\n",
    "for w in players[\"Contract\"] : \n",
    "    try:\n",
    "        length = datetime.strptime(str(w), '%b %d, %Y') - datetime(2022,7,1,0,0,0,0)\n",
    "        Contract_end.append(length.days)  \n",
    "    except (ValueError, AttributeError): \n",
    "        Contract_end.append(\"NA\")\n",
    "\n",
    "players[\"Contract\"] = Contract_end"
   ]
  },
  {
   "cell_type": "code",
   "execution_count": 26,
   "id": "ad8dfa35",
   "metadata": {},
   "outputs": [],
   "source": [
    "#Getting the Age\n",
    "Age = []\n",
    "\n",
    "for row in players[\"Date of Birth\"] :\n",
    "    try : \n",
    "        Age.append(re.search(r'\\((.*?)\\)',row[row.rindex(',')+1:]).group(1))\n",
    "    except (ValueError, AttributeError): \n",
    "        Age.append(\"NA\")\n",
    "        \n",
    "players[\"Date of Birth\"] = Age\n",
    "\n",
    "players = players.rename(columns={'Date of Birth': 'Age'})"
   ]
  },
  {
   "cell_type": "code",
   "execution_count": 27,
   "id": "a6d1eda1",
   "metadata": {},
   "outputs": [],
   "source": [
    "#Number of days since they joined the club\n",
    "Longetivity = []\n",
    "for w in players[\"Join\"] : \n",
    "    try:\n",
    "        length = datetime(2022,7,1,0,0,0,0) - datetime.strptime(str(w), '%b %d, %Y')\n",
    "        Longetivity.append(length.days) \n",
    "    except (ValueError, AttributeError): \n",
    "        Longetivity.append(\"NA\")\n",
    "\n",
    "players[\"Join\"] = Longetivity"
   ]
  },
  {
   "cell_type": "code",
   "execution_count": 28,
   "id": "f9949801",
   "metadata": {},
   "outputs": [],
   "source": [
    "#Converting to numeric\n",
    "players[['Age', 'Join', 'Contract']] = players[['Age', 'Join', 'Contract']].apply(pd.to_numeric, errors='coerce', axis=1)"
   ]
  },
  {
   "cell_type": "code",
   "execution_count": 29,
   "id": "a5dc1c13",
   "metadata": {},
   "outputs": [],
   "source": [
    "#Transforming the market value column\n",
    "def value_to_float(x):\n",
    "    x = str(x).replace('€', '')\n",
    "    if 'k' in x:\n",
    "        return float(x.replace('k', '')) / 1000\n",
    "    if 'm' in x:\n",
    "        return float(x.replace('m', ''))\n",
    "    return 0"
   ]
  },
  {
   "cell_type": "code",
   "execution_count": 30,
   "id": "2518d022",
   "metadata": {},
   "outputs": [],
   "source": [
    "#Formatting\n",
    "players['Market Value'] = players['Market Value'].apply(value_to_float)"
   ]
  },
  {
   "cell_type": "code",
   "execution_count": 31,
   "id": "ed051aa9",
   "metadata": {},
   "outputs": [],
   "source": [
    "#In case of January transfer/ loan keep the original club\n",
    "players = players.sort_values('Join', ascending=False).drop_duplicates('Player').sort_index()"
   ]
  },
  {
   "cell_type": "markdown",
   "id": "5915011d",
   "metadata": {},
   "source": [
    "#### Dropping Columns"
   ]
  },
  {
   "cell_type": "code",
   "execution_count": 32,
   "id": "a583dcba",
   "metadata": {},
   "outputs": [],
   "source": [
    "#Contract Column dropped even though I could be kept however contract is new contract\n",
    "players = players.drop([ \"Season\", \"Club Link\", \"Contract\"], axis=1)"
   ]
  },
  {
   "cell_type": "markdown",
   "id": "82a1568a",
   "metadata": {},
   "source": [
    "#### Club Cleaning"
   ]
  },
  {
   "cell_type": "code",
   "execution_count": 33,
   "id": "e6f5e328",
   "metadata": {},
   "outputs": [],
   "source": [
    "players[\"Club\"] = [l.replace('FC', '') for l in players[\"Club\"]]"
   ]
  },
  {
   "cell_type": "code",
   "execution_count": 34,
   "id": "b85bf3c7",
   "metadata": {},
   "outputs": [],
   "source": [
    "players[\"Club\"] = [l.replace('Wolverhampton Wanderers', 'Wolves') for l in players[\"Club\"]]"
   ]
  },
  {
   "cell_type": "code",
   "execution_count": 35,
   "id": "47777b7d",
   "metadata": {},
   "outputs": [],
   "source": [
    "players[\"Club\"] = [l.replace('Olympique', '') for l in players[\"Club\"]]"
   ]
  },
  {
   "cell_type": "code",
   "execution_count": 36,
   "id": "6f6488aa",
   "metadata": {},
   "outputs": [],
   "source": [
    "players[\"Club\"] = [l.replace('Hertha BSC', 'Hertha') for l in players[\"Club\"]]"
   ]
  },
  {
   "cell_type": "code",
   "execution_count": 37,
   "id": "1b41f094",
   "metadata": {},
   "outputs": [
    {
     "data": {
      "text/html": [
       "<div>\n",
       "<style scoped>\n",
       "    .dataframe tbody tr th:only-of-type {\n",
       "        vertical-align: middle;\n",
       "    }\n",
       "\n",
       "    .dataframe tbody tr th {\n",
       "        vertical-align: top;\n",
       "    }\n",
       "\n",
       "    .dataframe thead th {\n",
       "        text-align: right;\n",
       "    }\n",
       "</style>\n",
       "<table border=\"1\" class=\"dataframe\">\n",
       "  <thead>\n",
       "    <tr style=\"text-align: right;\">\n",
       "      <th></th>\n",
       "      <th>Player Link</th>\n",
       "      <th>Player</th>\n",
       "      <th>Position</th>\n",
       "      <th>Age</th>\n",
       "      <th>Country</th>\n",
       "      <th>Join</th>\n",
       "      <th>Market Value</th>\n",
       "      <th>Club</th>\n",
       "      <th>Year</th>\n",
       "    </tr>\n",
       "    <tr>\n",
       "      <th>League</th>\n",
       "      <th></th>\n",
       "      <th></th>\n",
       "      <th></th>\n",
       "      <th></th>\n",
       "      <th></th>\n",
       "      <th></th>\n",
       "      <th></th>\n",
       "      <th></th>\n",
       "      <th></th>\n",
       "    </tr>\n",
       "  </thead>\n",
       "  <tbody>\n",
       "    <tr>\n",
       "      <th>Bundesliga</th>\n",
       "      <td>https://www.transfermarkt.co.uk/konrad-laimer/...</td>\n",
       "      <td>Konrad Laimer</td>\n",
       "      <td>Central Midfield</td>\n",
       "      <td>24.0</td>\n",
       "      <td>Austria</td>\n",
       "      <td>1826.0</td>\n",
       "      <td>26.000</td>\n",
       "      <td>RB Leipzig</td>\n",
       "      <td>2021</td>\n",
       "    </tr>\n",
       "    <tr>\n",
       "      <th>Bundesliga</th>\n",
       "      <td>https://www.transfermarkt.co.uk/steven-zuber/p...</td>\n",
       "      <td>Steven Zuber</td>\n",
       "      <td>Left Winger</td>\n",
       "      <td>29.0</td>\n",
       "      <td>Switzerland</td>\n",
       "      <td>696.0</td>\n",
       "      <td>2.500</td>\n",
       "      <td>Eintracht Frankfurt</td>\n",
       "      <td>2021</td>\n",
       "    </tr>\n",
       "    <tr>\n",
       "      <th>Bundesliga</th>\n",
       "      <td>https://www.transfermarkt.co.uk/steven-skrzybs...</td>\n",
       "      <td>Steven Skrzybski</td>\n",
       "      <td>Centre-Forward</td>\n",
       "      <td>28.0</td>\n",
       "      <td>Germany</td>\n",
       "      <td>1461.0</td>\n",
       "      <td>1.500</td>\n",
       "      <td>Schalke 04</td>\n",
       "      <td>2021</td>\n",
       "    </tr>\n",
       "    <tr>\n",
       "      <th>Bundesliga</th>\n",
       "      <td>https://www.transfermarkt.co.uk/eric-martel/pr...</td>\n",
       "      <td>Eric Martel</td>\n",
       "      <td>Defensive Midfield</td>\n",
       "      <td>19.0</td>\n",
       "      <td>Germany</td>\n",
       "      <td>533.0</td>\n",
       "      <td>1.800</td>\n",
       "      <td>RB Leipzig</td>\n",
       "      <td>2021</td>\n",
       "    </tr>\n",
       "    <tr>\n",
       "      <th>Bundesliga</th>\n",
       "      <td>https://www.transfermarkt.co.uk/frederik-soren...</td>\n",
       "      <td>Frederik Sorensen</td>\n",
       "      <td>Centre-Back</td>\n",
       "      <td>29.0</td>\n",
       "      <td>Denmark</td>\n",
       "      <td>2547.0</td>\n",
       "      <td>0.650</td>\n",
       "      <td>1. Koln</td>\n",
       "      <td>2021</td>\n",
       "    </tr>\n",
       "    <tr>\n",
       "      <th>...</th>\n",
       "      <td>...</td>\n",
       "      <td>...</td>\n",
       "      <td>...</td>\n",
       "      <td>...</td>\n",
       "      <td>...</td>\n",
       "      <td>...</td>\n",
       "      <td>...</td>\n",
       "      <td>...</td>\n",
       "      <td>...</td>\n",
       "    </tr>\n",
       "    <tr>\n",
       "      <th>Süper Lig</th>\n",
       "      <td>https://www.transfermarkt.co.uk/arvydas-noviko...</td>\n",
       "      <td>Arvydas Novikovas</td>\n",
       "      <td>Right Winger</td>\n",
       "      <td>30.0</td>\n",
       "      <td>Lithuania</td>\n",
       "      <td>676.0</td>\n",
       "      <td>0.600</td>\n",
       "      <td>Buyuksehir Belediye Erzurumspor</td>\n",
       "      <td>2021</td>\n",
       "    </tr>\n",
       "    <tr>\n",
       "      <th>Süper Lig</th>\n",
       "      <td>https://www.transfermarkt.co.uk/burak-camoglu/...</td>\n",
       "      <td>Burak Camoglu</td>\n",
       "      <td>Right-Back</td>\n",
       "      <td>24.0</td>\n",
       "      <td>Turkey</td>\n",
       "      <td>676.0</td>\n",
       "      <td>0.350</td>\n",
       "      <td>Hatayspor</td>\n",
       "      <td>2021</td>\n",
       "    </tr>\n",
       "    <tr>\n",
       "      <th>Süper Lig</th>\n",
       "      <td>https://www.transfermarkt.co.uk/yasin-pehlivan...</td>\n",
       "      <td>Yasin Pehlivan</td>\n",
       "      <td>Defensive Midfield</td>\n",
       "      <td>32.0</td>\n",
       "      <td>Austria</td>\n",
       "      <td>676.0</td>\n",
       "      <td>0.175</td>\n",
       "      <td>Caykur Rizespor</td>\n",
       "      <td>2021</td>\n",
       "    </tr>\n",
       "    <tr>\n",
       "      <th>Süper Lig</th>\n",
       "      <td>https://www.transfermarkt.co.uk/zvonimir-sarli...</td>\n",
       "      <td>Zvonimir Sarlija</td>\n",
       "      <td>Centre-Back</td>\n",
       "      <td>24.0</td>\n",
       "      <td>Croatia</td>\n",
       "      <td>668.0</td>\n",
       "      <td>0.875</td>\n",
       "      <td>MKE Ankaragucu</td>\n",
       "      <td>2021</td>\n",
       "    </tr>\n",
       "    <tr>\n",
       "      <th>Süper Lig</th>\n",
       "      <td>https://www.transfermarkt.co.uk/ali-riza-aslan...</td>\n",
       "      <td>Ali Riza Aslan</td>\n",
       "      <td>Left Winger</td>\n",
       "      <td>19.0</td>\n",
       "      <td>Turkey</td>\n",
       "      <td>NaN</td>\n",
       "      <td>0.000</td>\n",
       "      <td>Fatih Karagumruk</td>\n",
       "      <td>2021</td>\n",
       "    </tr>\n",
       "  </tbody>\n",
       "</table>\n",
       "<p>7686 rows × 9 columns</p>\n",
       "</div>"
      ],
      "text/plain": [
       "                                                  Player Link  \\\n",
       "League                                                          \n",
       "Bundesliga  https://www.transfermarkt.co.uk/konrad-laimer/...   \n",
       "Bundesliga  https://www.transfermarkt.co.uk/steven-zuber/p...   \n",
       "Bundesliga  https://www.transfermarkt.co.uk/steven-skrzybs...   \n",
       "Bundesliga  https://www.transfermarkt.co.uk/eric-martel/pr...   \n",
       "Bundesliga  https://www.transfermarkt.co.uk/frederik-soren...   \n",
       "...                                                       ...   \n",
       "Süper Lig   https://www.transfermarkt.co.uk/arvydas-noviko...   \n",
       "Süper Lig   https://www.transfermarkt.co.uk/burak-camoglu/...   \n",
       "Süper Lig   https://www.transfermarkt.co.uk/yasin-pehlivan...   \n",
       "Süper Lig   https://www.transfermarkt.co.uk/zvonimir-sarli...   \n",
       "Süper Lig   https://www.transfermarkt.co.uk/ali-riza-aslan...   \n",
       "\n",
       "                       Player            Position   Age      Country    Join  \\\n",
       "League                                                                         \n",
       "Bundesliga      Konrad Laimer    Central Midfield  24.0      Austria  1826.0   \n",
       "Bundesliga       Steven Zuber         Left Winger  29.0  Switzerland   696.0   \n",
       "Bundesliga   Steven Skrzybski      Centre-Forward  28.0      Germany  1461.0   \n",
       "Bundesliga        Eric Martel  Defensive Midfield  19.0      Germany   533.0   \n",
       "Bundesliga  Frederik Sorensen         Centre-Back  29.0      Denmark  2547.0   \n",
       "...                       ...                 ...   ...          ...     ...   \n",
       "Süper Lig   Arvydas Novikovas        Right Winger  30.0    Lithuania   676.0   \n",
       "Süper Lig       Burak Camoglu          Right-Back  24.0       Turkey   676.0   \n",
       "Süper Lig      Yasin Pehlivan  Defensive Midfield  32.0      Austria   676.0   \n",
       "Süper Lig    Zvonimir Sarlija         Centre-Back  24.0      Croatia   668.0   \n",
       "Süper Lig      Ali Riza Aslan         Left Winger  19.0       Turkey     NaN   \n",
       "\n",
       "            Market Value                             Club  Year  \n",
       "League                                                           \n",
       "Bundesliga        26.000                       RB Leipzig  2021  \n",
       "Bundesliga         2.500              Eintracht Frankfurt  2021  \n",
       "Bundesliga         1.500                       Schalke 04  2021  \n",
       "Bundesliga         1.800                       RB Leipzig  2021  \n",
       "Bundesliga         0.650                          1. Koln  2021  \n",
       "...                  ...                              ...   ...  \n",
       "Süper Lig          0.600  Buyuksehir Belediye Erzurumspor  2021  \n",
       "Süper Lig          0.350                        Hatayspor  2021  \n",
       "Süper Lig          0.175                  Caykur Rizespor  2021  \n",
       "Süper Lig          0.875                   MKE Ankaragucu  2021  \n",
       "Süper Lig          0.000                 Fatih Karagumruk  2021  \n",
       "\n",
       "[7686 rows x 9 columns]"
      ]
     },
     "execution_count": 37,
     "metadata": {},
     "output_type": "execute_result"
    }
   ],
   "source": [
    "players"
   ]
  },
  {
   "cell_type": "code",
   "execution_count": 38,
   "id": "28f894dd",
   "metadata": {},
   "outputs": [],
   "source": [
    "players.to_csv('Players_2021.csv', encoding='utf-8')"
   ]
  }
 ],
 "metadata": {
  "kernelspec": {
   "display_name": "Python 3 (ipykernel)",
   "language": "python",
   "name": "python3"
  },
  "language_info": {
   "codemirror_mode": {
    "name": "ipython",
    "version": 3
   },
   "file_extension": ".py",
   "mimetype": "text/x-python",
   "name": "python",
   "nbconvert_exporter": "python",
   "pygments_lexer": "ipython3",
   "version": "3.10.9"
  }
 },
 "nbformat": 4,
 "nbformat_minor": 5
}
