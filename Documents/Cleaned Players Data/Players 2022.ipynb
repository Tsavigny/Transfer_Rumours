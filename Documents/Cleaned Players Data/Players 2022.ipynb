{
 "cells": [
  {
   "cell_type": "markdown",
   "id": "ec62edfa",
   "metadata": {},
   "source": [
    "#### Cleaning Players Data"
   ]
  },
  {
   "cell_type": "code",
   "execution_count": 1,
   "id": "0bf1faad",
   "metadata": {},
   "outputs": [],
   "source": [
    "import pandas as pd\n",
    "import regex as re\n",
    "from datetime import datetime    \n",
    "from unidecode import unidecode"
   ]
  },
  {
   "cell_type": "code",
   "execution_count": 2,
   "id": "6eab05b3",
   "metadata": {},
   "outputs": [],
   "source": [
    "players = pd.read_csv(\"2022.csv\")"
   ]
  },
  {
   "cell_type": "code",
   "execution_count": 3,
   "id": "6615f28c",
   "metadata": {},
   "outputs": [],
   "source": [
    "players[\"Year\"] = 2022"
   ]
  },
  {
   "cell_type": "code",
   "execution_count": 4,
   "id": "9039408a",
   "metadata": {},
   "outputs": [],
   "source": [
    "#Reformatting how club are written\n",
    "players[\"Club\"] =[unidecode(w) for w in players[\"Club\"]]\n",
    "\n",
    "players[\"Player\"] =[unidecode(w) for w in players[\"Player\"]]"
   ]
  },
  {
   "cell_type": "code",
   "execution_count": 5,
   "id": "1e4a2926",
   "metadata": {},
   "outputs": [],
   "source": [
    "players[\"Player\"] = [re.sub(' +', ' ', w) for w in players[\"Player\"]]"
   ]
  },
  {
   "cell_type": "markdown",
   "id": "2f197758",
   "metadata": {},
   "source": [
    "#### Transforming Values"
   ]
  },
  {
   "cell_type": "code",
   "execution_count": 6,
   "id": "cb81e060",
   "metadata": {},
   "outputs": [],
   "source": [
    "#Getting the number of days left on contract\n",
    "Contract_end = []\n",
    "\n",
    "for w in players[\"Contract\"] : \n",
    "    try:\n",
    "        length = datetime.strptime(str(w), '%b %d, %Y') - datetime(2022,7,1,0,0,0,0)\n",
    "        Contract_end.append(length.days)  \n",
    "    except (ValueError, AttributeError): \n",
    "        Contract_end.append(\"NA\")\n",
    "\n",
    "players[\"Contract\"] = Contract_end"
   ]
  },
  {
   "cell_type": "code",
   "execution_count": 7,
   "id": "ad8dfa35",
   "metadata": {},
   "outputs": [],
   "source": [
    "#Getting the Age\n",
    "Age = []\n",
    "\n",
    "for row in players[\"Date of Birth\"] :\n",
    "    try : \n",
    "        Age.append(re.search(r'\\((.*?)\\)',row[row.rindex(',')+1:]).group(1))\n",
    "    except (ValueError, AttributeError): \n",
    "        Age.append(\"NA\")\n",
    "        \n",
    "players[\"Date of Birth\"] = Age\n",
    "\n",
    "players = players.rename(columns={'Date of Birth': 'Age'})"
   ]
  },
  {
   "cell_type": "code",
   "execution_count": 8,
   "id": "a6d1eda1",
   "metadata": {},
   "outputs": [],
   "source": [
    "#Number of days since they joined the club\n",
    "Longetivity = []\n",
    "for w in players[\"Join\"] : \n",
    "    try:\n",
    "        length = datetime(2022,7,1,0,0,0,0) - datetime.strptime(str(w), '%b %d, %Y')\n",
    "        Longetivity.append(length.days) \n",
    "    except (ValueError, AttributeError): \n",
    "        Longetivity.append(\"NA\")\n",
    "\n",
    "players[\"Join\"] = Longetivity"
   ]
  },
  {
   "cell_type": "code",
   "execution_count": 9,
   "id": "f9949801",
   "metadata": {},
   "outputs": [],
   "source": [
    "#Converting to numeric\n",
    "players[['Age', 'Join', 'Contract']] = players[['Age', 'Join', 'Contract']].apply(pd.to_numeric, errors='coerce', axis=1)"
   ]
  },
  {
   "cell_type": "code",
   "execution_count": 10,
   "id": "a5dc1c13",
   "metadata": {},
   "outputs": [],
   "source": [
    "#Transforming the market value column\n",
    "def value_to_float(x):\n",
    "    x = str(x).replace('€', '')\n",
    "    if 'k' in x:\n",
    "        return float(x.replace('k', '')) / 1000\n",
    "    if 'm' in x:\n",
    "        return float(x.replace('m', ''))\n",
    "    return 0"
   ]
  },
  {
   "cell_type": "code",
   "execution_count": 11,
   "id": "2518d022",
   "metadata": {},
   "outputs": [],
   "source": [
    "#Formatting\n",
    "players['Market Value'] = players['Market Value'].apply(value_to_float)"
   ]
  },
  {
   "cell_type": "code",
   "execution_count": 12,
   "id": "4d239c5b",
   "metadata": {},
   "outputs": [],
   "source": [
    "names = [\"Alisson\", \"Neymar\", \"Denilson\", \"Vitinho\", \"Martinelli\", \"Hulk\", \"Koke\", \"Raphinha\", \"Casemiro\", \"Marcelo\", \"Jorginho\", \"Ederson\", \"Willian\", \"Antony\", \"Marquinhos\", \"Thiago\"]\n",
    "\n",
    "for name in names : \n",
    "    row = players.loc[players[\"Player\"] == name,].sort_values('Market Value', ascending=False).drop_duplicates('Player').iloc[:,:]\n",
    "    players = players.loc[players[\"Player\"] != name,]\n",
    "    players = pd.concat([players, row], axis=0, ignore_index=True)"
   ]
  },
  {
   "cell_type": "code",
   "execution_count": 13,
   "id": "ed051aa9",
   "metadata": {},
   "outputs": [],
   "source": [
    "#In case of January transfer/ loan keep the original club\n",
    "players = players.sort_values('Join', ascending=False).drop_duplicates('Player').sort_index()"
   ]
  },
  {
   "cell_type": "markdown",
   "id": "71274a7c",
   "metadata": {},
   "source": [
    "#### Dropping Columns"
   ]
  },
  {
   "cell_type": "code",
   "execution_count": 14,
   "id": "c50323c1",
   "metadata": {},
   "outputs": [],
   "source": [
    "#Contract Column dropped even though I could be kept however contract is new contract\n",
    "players = players.drop([ \"Season\", \"Club Link\", \"Contract\"], axis=1)"
   ]
  },
  {
   "cell_type": "markdown",
   "id": "653b8315",
   "metadata": {},
   "source": [
    "#### Club Cleaning"
   ]
  },
  {
   "cell_type": "code",
   "execution_count": 15,
   "id": "e6f5e328",
   "metadata": {},
   "outputs": [],
   "source": [
    "players[\"Club\"] = [l.replace('FC', '') for l in players[\"Club\"]]"
   ]
  },
  {
   "cell_type": "code",
   "execution_count": 16,
   "id": "b85bf3c7",
   "metadata": {},
   "outputs": [],
   "source": [
    "players[\"Club\"] = [l.replace('Wolverhampton Wanderers', 'Wolves') for l in players[\"Club\"]]"
   ]
  },
  {
   "cell_type": "code",
   "execution_count": 17,
   "id": "47777b7d",
   "metadata": {},
   "outputs": [],
   "source": [
    "players[\"Club\"] = [l.replace('Olympique', '') for l in players[\"Club\"]]"
   ]
  },
  {
   "cell_type": "code",
   "execution_count": 18,
   "id": "6f6488aa",
   "metadata": {},
   "outputs": [],
   "source": [
    "players[\"Club\"] = [l.replace('Hertha BSC', 'Hertha') for l in players[\"Club\"]]"
   ]
  },
  {
   "cell_type": "code",
   "execution_count": 19,
   "id": "24734312",
   "metadata": {},
   "outputs": [],
   "source": [
    "players.to_csv('Players_2022.csv', encoding='utf-8')"
   ]
  }
 ],
 "metadata": {
  "kernelspec": {
   "display_name": "Python 3 (ipykernel)",
   "language": "python",
   "name": "python3"
  },
  "language_info": {
   "codemirror_mode": {
    "name": "ipython",
    "version": 3
   },
   "file_extension": ".py",
   "mimetype": "text/x-python",
   "name": "python",
   "nbconvert_exporter": "python",
   "pygments_lexer": "ipython3",
   "version": "3.10.9"
  }
 },
 "nbformat": 4,
 "nbformat_minor": 5
}
