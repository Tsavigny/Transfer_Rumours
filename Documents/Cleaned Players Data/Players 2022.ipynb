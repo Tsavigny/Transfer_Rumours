{
 "cells": [
  {
   "cell_type": "markdown",
   "id": "ec62edfa",
   "metadata": {},
   "source": [
    "#### Cleaning Players Data"
   ]
  },
  {
   "cell_type": "code",
   "execution_count": 21,
   "id": "0bf1faad",
   "metadata": {},
   "outputs": [],
   "source": [
    "import pandas as pd\n",
    "import regex as re\n",
    "from datetime import datetime    \n",
    "from unidecode import unidecode"
   ]
  },
  {
   "cell_type": "code",
   "execution_count": 22,
   "id": "6eab05b3",
   "metadata": {},
   "outputs": [],
   "source": [
    "players = pd.read_csv(\"2022.csv\", index_col = [0])"
   ]
  },
  {
   "cell_type": "code",
   "execution_count": 23,
   "id": "6615f28c",
   "metadata": {},
   "outputs": [],
   "source": [
    "players[\"Year\"] = 2022"
   ]
  },
  {
   "cell_type": "code",
   "execution_count": 24,
   "id": "9039408a",
   "metadata": {},
   "outputs": [],
   "source": [
    "#Reformatting how club are written\n",
    "players[\"Club\"] =[unidecode(w) for w in players[\"Club\"]]\n",
    "\n",
    "players[\"Player\"] =[unidecode(w) for w in players[\"Player\"]]"
   ]
  },
  {
   "cell_type": "code",
   "execution_count": 25,
   "id": "1e4a2926",
   "metadata": {},
   "outputs": [],
   "source": [
    "players[\"Player\"] = [re.sub(' +', ' ', w) for w in players[\"Player\"]]"
   ]
  },
  {
   "cell_type": "markdown",
   "id": "2f197758",
   "metadata": {},
   "source": [
    "#### Transforming Values"
   ]
  },
  {
   "cell_type": "code",
   "execution_count": 26,
   "id": "cb81e060",
   "metadata": {},
   "outputs": [],
   "source": [
    "#Getting the number of days left on contract\n",
    "Contract_end = []\n",
    "\n",
    "for w in players[\"Contract\"] : \n",
    "    try:\n",
    "        length = datetime.strptime(str(w), '%b %d, %Y') - datetime(2022,7,1,0,0,0,0)\n",
    "        Contract_end.append(length.days)  \n",
    "    except (ValueError, AttributeError): \n",
    "        Contract_end.append(\"NA\")\n",
    "\n",
    "players[\"Contract\"] = Contract_end"
   ]
  },
  {
   "cell_type": "code",
   "execution_count": 27,
   "id": "ad8dfa35",
   "metadata": {},
   "outputs": [],
   "source": [
    "#Getting the Age\n",
    "Age = []\n",
    "\n",
    "for row in players[\"Date of Birth\"] :\n",
    "    try : \n",
    "        Age.append(re.search(r'\\((.*?)\\)',row[row.rindex(',')+1:]).group(1))\n",
    "    except (ValueError, AttributeError): \n",
    "        Age.append(\"NA\")\n",
    "        \n",
    "players[\"Date of Birth\"] = Age\n",
    "\n",
    "players = players.rename(columns={'Date of Birth': 'Age'})"
   ]
  },
  {
   "cell_type": "code",
   "execution_count": 28,
   "id": "a6d1eda1",
   "metadata": {},
   "outputs": [],
   "source": [
    "#Number of days since they joined the club\n",
    "Longetivity = []\n",
    "for w in players[\"Join\"] : \n",
    "    try:\n",
    "        length = datetime(2022,7,1,0,0,0,0) - datetime.strptime(str(w), '%b %d, %Y')\n",
    "        Longetivity.append(length.days) \n",
    "    except (ValueError, AttributeError): \n",
    "        Longetivity.append(\"NA\")\n",
    "\n",
    "players[\"Join\"] = Longetivity"
   ]
  },
  {
   "cell_type": "code",
   "execution_count": 29,
   "id": "f9949801",
   "metadata": {},
   "outputs": [],
   "source": [
    "#Converting to numeric\n",
    "players[['Age', 'Join', 'Contract']] = players[['Age', 'Join', 'Contract']].apply(pd.to_numeric, errors='coerce', axis=1)"
   ]
  },
  {
   "cell_type": "code",
   "execution_count": 30,
   "id": "a5dc1c13",
   "metadata": {},
   "outputs": [],
   "source": [
    "#Transforming the market value column\n",
    "def value_to_float(x):\n",
    "    x = str(x).replace('€', '')\n",
    "    if 'k' in x:\n",
    "        return float(x.replace('k', '')) / 1000\n",
    "    if 'm' in x:\n",
    "        return float(x.replace('m', ''))\n",
    "    return 0"
   ]
  },
  {
   "cell_type": "code",
   "execution_count": 31,
   "id": "2518d022",
   "metadata": {},
   "outputs": [],
   "source": [
    "#Formatting\n",
    "players['Market Value'] = players['Market Value'].apply(value_to_float)"
   ]
  },
  {
   "cell_type": "code",
   "execution_count": 32,
   "id": "ed051aa9",
   "metadata": {},
   "outputs": [],
   "source": [
    "#In case of January transfer/ loan keep the original club\n",
    "players = players.sort_values('Join', ascending=False).drop_duplicates('Player').sort_index()"
   ]
  },
  {
   "cell_type": "code",
   "execution_count": 33,
   "id": "3308d42d",
   "metadata": {},
   "outputs": [
    {
     "data": {
      "text/html": [
       "<div>\n",
       "<style scoped>\n",
       "    .dataframe tbody tr th:only-of-type {\n",
       "        vertical-align: middle;\n",
       "    }\n",
       "\n",
       "    .dataframe tbody tr th {\n",
       "        vertical-align: top;\n",
       "    }\n",
       "\n",
       "    .dataframe thead th {\n",
       "        text-align: right;\n",
       "    }\n",
       "</style>\n",
       "<table border=\"1\" class=\"dataframe\">\n",
       "  <thead>\n",
       "    <tr style=\"text-align: right;\">\n",
       "      <th></th>\n",
       "      <th>Player Link</th>\n",
       "      <th>Player</th>\n",
       "      <th>Position</th>\n",
       "      <th>Age</th>\n",
       "      <th>Country</th>\n",
       "      <th>Join</th>\n",
       "      <th>Contract</th>\n",
       "      <th>Market Value</th>\n",
       "      <th>Club</th>\n",
       "      <th>Club Link</th>\n",
       "      <th>Season</th>\n",
       "      <th>Year</th>\n",
       "    </tr>\n",
       "    <tr>\n",
       "      <th>League</th>\n",
       "      <th></th>\n",
       "      <th></th>\n",
       "      <th></th>\n",
       "      <th></th>\n",
       "      <th></th>\n",
       "      <th></th>\n",
       "      <th></th>\n",
       "      <th></th>\n",
       "      <th></th>\n",
       "      <th></th>\n",
       "      <th></th>\n",
       "      <th></th>\n",
       "    </tr>\n",
       "  </thead>\n",
       "  <tbody>\n",
       "    <tr>\n",
       "      <th>Ligue 1</th>\n",
       "      <td>https://www.transfermarkt.co.uk/lionel-messi/p...</td>\n",
       "      <td>Lionel Messi</td>\n",
       "      <td>Right Winger</td>\n",
       "      <td>35.0</td>\n",
       "      <td>Argentina</td>\n",
       "      <td>325.0</td>\n",
       "      <td>364.0</td>\n",
       "      <td>50.0</td>\n",
       "      <td>Paris Saint-Germain</td>\n",
       "      <td>https://www.transfermarkt.co.uk/fc-paris-saint...</td>\n",
       "      <td>https://www.transfermarkt.co.uk/ligue-1/starts...</td>\n",
       "      <td>2022</td>\n",
       "    </tr>\n",
       "  </tbody>\n",
       "</table>\n",
       "</div>"
      ],
      "text/plain": [
       "                                               Player Link        Player  \\\n",
       "League                                                                     \n",
       "Ligue 1  https://www.transfermarkt.co.uk/lionel-messi/p...  Lionel Messi   \n",
       "\n",
       "             Position   Age    Country   Join  Contract  Market Value  \\\n",
       "League                                                                  \n",
       "Ligue 1  Right Winger  35.0  Argentina  325.0     364.0          50.0   \n",
       "\n",
       "                        Club  \\\n",
       "League                         \n",
       "Ligue 1  Paris Saint-Germain   \n",
       "\n",
       "                                                 Club Link  \\\n",
       "League                                                       \n",
       "Ligue 1  https://www.transfermarkt.co.uk/fc-paris-saint...   \n",
       "\n",
       "                                                    Season  Year  \n",
       "League                                                            \n",
       "Ligue 1  https://www.transfermarkt.co.uk/ligue-1/starts...  2022  "
      ]
     },
     "execution_count": 33,
     "metadata": {},
     "output_type": "execute_result"
    }
   ],
   "source": [
    "players.loc[players[\"Player\"] == \"Lionel Messi\"]"
   ]
  },
  {
   "cell_type": "markdown",
   "id": "71274a7c",
   "metadata": {},
   "source": [
    "#### Dropping Columns"
   ]
  },
  {
   "cell_type": "code",
   "execution_count": 34,
   "id": "c50323c1",
   "metadata": {},
   "outputs": [],
   "source": [
    "#Contract Column dropped even though I could be kept however contract is new contract\n",
    "players = players.drop([ \"Season\", \"Club Link\", \"Contract\"], axis=1)"
   ]
  },
  {
   "cell_type": "markdown",
   "id": "653b8315",
   "metadata": {},
   "source": [
    "#### Club Cleaning"
   ]
  },
  {
   "cell_type": "code",
   "execution_count": 35,
   "id": "e6f5e328",
   "metadata": {},
   "outputs": [],
   "source": [
    "players[\"Club\"] = [l.replace('FC', '') for l in players[\"Club\"]]"
   ]
  },
  {
   "cell_type": "code",
   "execution_count": 36,
   "id": "b85bf3c7",
   "metadata": {},
   "outputs": [],
   "source": [
    "players[\"Club\"] = [l.replace('Wolverhampton Wanderers', 'Wolves') for l in players[\"Club\"]]"
   ]
  },
  {
   "cell_type": "code",
   "execution_count": 37,
   "id": "47777b7d",
   "metadata": {},
   "outputs": [],
   "source": [
    "players[\"Club\"] = [l.replace('Olympique', '') for l in players[\"Club\"]]"
   ]
  },
  {
   "cell_type": "code",
   "execution_count": 38,
   "id": "6f6488aa",
   "metadata": {},
   "outputs": [],
   "source": [
    "players[\"Club\"] = [l.replace('Hertha BSC', 'Hertha') for l in players[\"Club\"]]"
   ]
  },
  {
   "cell_type": "code",
   "execution_count": 39,
   "id": "67582431",
   "metadata": {},
   "outputs": [
    {
     "data": {
      "text/html": [
       "<div>\n",
       "<style scoped>\n",
       "    .dataframe tbody tr th:only-of-type {\n",
       "        vertical-align: middle;\n",
       "    }\n",
       "\n",
       "    .dataframe tbody tr th {\n",
       "        vertical-align: top;\n",
       "    }\n",
       "\n",
       "    .dataframe thead th {\n",
       "        text-align: right;\n",
       "    }\n",
       "</style>\n",
       "<table border=\"1\" class=\"dataframe\">\n",
       "  <thead>\n",
       "    <tr style=\"text-align: right;\">\n",
       "      <th></th>\n",
       "      <th>Player Link</th>\n",
       "      <th>Player</th>\n",
       "      <th>Position</th>\n",
       "      <th>Age</th>\n",
       "      <th>Country</th>\n",
       "      <th>Join</th>\n",
       "      <th>Market Value</th>\n",
       "      <th>Club</th>\n",
       "      <th>Year</th>\n",
       "    </tr>\n",
       "    <tr>\n",
       "      <th>League</th>\n",
       "      <th></th>\n",
       "      <th></th>\n",
       "      <th></th>\n",
       "      <th></th>\n",
       "      <th></th>\n",
       "      <th></th>\n",
       "      <th></th>\n",
       "      <th></th>\n",
       "      <th></th>\n",
       "    </tr>\n",
       "  </thead>\n",
       "  <tbody>\n",
       "    <tr>\n",
       "      <th>Bundesliga</th>\n",
       "      <td>https://www.transfermarkt.co.uk/sebastian-vasi...</td>\n",
       "      <td>Sebastian Vasiliadis</td>\n",
       "      <td>Central Midfield</td>\n",
       "      <td>24.0</td>\n",
       "      <td>Greece</td>\n",
       "      <td>365.0</td>\n",
       "      <td>1.800</td>\n",
       "      <td>Arminia Bielefeld</td>\n",
       "      <td>2022</td>\n",
       "    </tr>\n",
       "    <tr>\n",
       "      <th>Bundesliga</th>\n",
       "      <td>https://www.transfermarkt.co.uk/julian-albrech...</td>\n",
       "      <td>Julian Albrecht</td>\n",
       "      <td>Central Midfield</td>\n",
       "      <td>20.0</td>\n",
       "      <td>Germany</td>\n",
       "      <td>1096.0</td>\n",
       "      <td>0.175</td>\n",
       "      <td>Hertha</td>\n",
       "      <td>2022</td>\n",
       "    </tr>\n",
       "    <tr>\n",
       "      <th>Bundesliga</th>\n",
       "      <td>https://www.transfermarkt.co.uk/jacob-barrett-...</td>\n",
       "      <td>Jacob Barrett Laursen</td>\n",
       "      <td>Left-Back</td>\n",
       "      <td>27.0</td>\n",
       "      <td>Denmark</td>\n",
       "      <td>730.0</td>\n",
       "      <td>1.700</td>\n",
       "      <td>Arminia Bielefeld</td>\n",
       "      <td>2022</td>\n",
       "    </tr>\n",
       "    <tr>\n",
       "      <th>Bundesliga</th>\n",
       "      <td>https://www.transfermarkt.co.uk/dickson-abiama...</td>\n",
       "      <td>Dickson Abiama</td>\n",
       "      <td>Centre-Forward</td>\n",
       "      <td>23.0</td>\n",
       "      <td>Nigeria</td>\n",
       "      <td>730.0</td>\n",
       "      <td>0.800</td>\n",
       "      <td>SpVgg Greuther Furth</td>\n",
       "      <td>2022</td>\n",
       "    </tr>\n",
       "    <tr>\n",
       "      <th>Bundesliga</th>\n",
       "      <td>https://www.transfermarkt.co.uk/melayro-bogard...</td>\n",
       "      <td>Melayro Bogarde</td>\n",
       "      <td>Defensive Midfield</td>\n",
       "      <td>20.0</td>\n",
       "      <td>Netherlands</td>\n",
       "      <td>730.0</td>\n",
       "      <td>1.200</td>\n",
       "      <td>TSG 1899 Hoffenheim</td>\n",
       "      <td>2022</td>\n",
       "    </tr>\n",
       "    <tr>\n",
       "      <th>...</th>\n",
       "      <td>...</td>\n",
       "      <td>...</td>\n",
       "      <td>...</td>\n",
       "      <td>...</td>\n",
       "      <td>...</td>\n",
       "      <td>...</td>\n",
       "      <td>...</td>\n",
       "      <td>...</td>\n",
       "      <td>...</td>\n",
       "    </tr>\n",
       "    <tr>\n",
       "      <th>Süper Lig</th>\n",
       "      <td>https://www.transfermarkt.co.uk/konrad-michala...</td>\n",
       "      <td>Konrad Michalak</td>\n",
       "      <td>Right Winger</td>\n",
       "      <td>24.0</td>\n",
       "      <td>Poland</td>\n",
       "      <td>0.0</td>\n",
       "      <td>1.700</td>\n",
       "      <td>Konyaspor</td>\n",
       "      <td>2022</td>\n",
       "    </tr>\n",
       "    <tr>\n",
       "      <th>Süper Lig</th>\n",
       "      <td>https://www.transfermarkt.co.uk/hakan-ozmert/p...</td>\n",
       "      <td>Hakan Ozmert</td>\n",
       "      <td>Central Midfield</td>\n",
       "      <td>37.0</td>\n",
       "      <td>Turkey</td>\n",
       "      <td>1617.0</td>\n",
       "      <td>0.150</td>\n",
       "      <td>Antalyaspor</td>\n",
       "      <td>2022</td>\n",
       "    </tr>\n",
       "    <tr>\n",
       "      <th>Süper Lig</th>\n",
       "      <td>https://www.transfermarkt.co.uk/mehmet-albayra...</td>\n",
       "      <td>Mehmet Albayrak</td>\n",
       "      <td>Centre-Back</td>\n",
       "      <td>18.0</td>\n",
       "      <td>Turkey</td>\n",
       "      <td>0.0</td>\n",
       "      <td>0.050</td>\n",
       "      <td>Sivasspor</td>\n",
       "      <td>2022</td>\n",
       "    </tr>\n",
       "    <tr>\n",
       "      <th>Süper Lig</th>\n",
       "      <td>https://www.transfermarkt.co.uk/enzo-crivelli/...</td>\n",
       "      <td>Enzo Crivelli</td>\n",
       "      <td>Centre-Forward</td>\n",
       "      <td>27.0</td>\n",
       "      <td>France</td>\n",
       "      <td>297.0</td>\n",
       "      <td>1.800</td>\n",
       "      <td>Antalyaspor</td>\n",
       "      <td>2022</td>\n",
       "    </tr>\n",
       "    <tr>\n",
       "      <th>Süper Lig</th>\n",
       "      <td>https://www.transfermarkt.co.uk/alin-tosca/pro...</td>\n",
       "      <td>Alin Tosca</td>\n",
       "      <td>Centre-Back</td>\n",
       "      <td>30.0</td>\n",
       "      <td>Romania</td>\n",
       "      <td>1076.0</td>\n",
       "      <td>1.800</td>\n",
       "      <td>Gaziantep FK</td>\n",
       "      <td>2022</td>\n",
       "    </tr>\n",
       "  </tbody>\n",
       "</table>\n",
       "<p>7820 rows × 9 columns</p>\n",
       "</div>"
      ],
      "text/plain": [
       "                                                  Player Link  \\\n",
       "League                                                          \n",
       "Bundesliga  https://www.transfermarkt.co.uk/sebastian-vasi...   \n",
       "Bundesliga  https://www.transfermarkt.co.uk/julian-albrech...   \n",
       "Bundesliga  https://www.transfermarkt.co.uk/jacob-barrett-...   \n",
       "Bundesliga  https://www.transfermarkt.co.uk/dickson-abiama...   \n",
       "Bundesliga  https://www.transfermarkt.co.uk/melayro-bogard...   \n",
       "...                                                       ...   \n",
       "Süper Lig   https://www.transfermarkt.co.uk/konrad-michala...   \n",
       "Süper Lig   https://www.transfermarkt.co.uk/hakan-ozmert/p...   \n",
       "Süper Lig   https://www.transfermarkt.co.uk/mehmet-albayra...   \n",
       "Süper Lig   https://www.transfermarkt.co.uk/enzo-crivelli/...   \n",
       "Süper Lig   https://www.transfermarkt.co.uk/alin-tosca/pro...   \n",
       "\n",
       "                           Player            Position   Age      Country  \\\n",
       "League                                                                     \n",
       "Bundesliga   Sebastian Vasiliadis    Central Midfield  24.0       Greece   \n",
       "Bundesliga        Julian Albrecht    Central Midfield  20.0      Germany   \n",
       "Bundesliga  Jacob Barrett Laursen           Left-Back  27.0      Denmark   \n",
       "Bundesliga         Dickson Abiama      Centre-Forward  23.0      Nigeria   \n",
       "Bundesliga        Melayro Bogarde  Defensive Midfield  20.0  Netherlands   \n",
       "...                           ...                 ...   ...          ...   \n",
       "Süper Lig         Konrad Michalak        Right Winger  24.0       Poland   \n",
       "Süper Lig            Hakan Ozmert    Central Midfield  37.0       Turkey   \n",
       "Süper Lig         Mehmet Albayrak         Centre-Back  18.0       Turkey   \n",
       "Süper Lig           Enzo Crivelli      Centre-Forward  27.0       France   \n",
       "Süper Lig              Alin Tosca         Centre-Back  30.0      Romania   \n",
       "\n",
       "              Join  Market Value                  Club  Year  \n",
       "League                                                        \n",
       "Bundesliga   365.0         1.800     Arminia Bielefeld  2022  \n",
       "Bundesliga  1096.0         0.175                Hertha  2022  \n",
       "Bundesliga   730.0         1.700     Arminia Bielefeld  2022  \n",
       "Bundesliga   730.0         0.800  SpVgg Greuther Furth  2022  \n",
       "Bundesliga   730.0         1.200   TSG 1899 Hoffenheim  2022  \n",
       "...            ...           ...                   ...   ...  \n",
       "Süper Lig      0.0         1.700             Konyaspor  2022  \n",
       "Süper Lig   1617.0         0.150           Antalyaspor  2022  \n",
       "Süper Lig      0.0         0.050             Sivasspor  2022  \n",
       "Süper Lig    297.0         1.800           Antalyaspor  2022  \n",
       "Süper Lig   1076.0         1.800          Gaziantep FK  2022  \n",
       "\n",
       "[7820 rows x 9 columns]"
      ]
     },
     "execution_count": 39,
     "metadata": {},
     "output_type": "execute_result"
    }
   ],
   "source": [
    "players"
   ]
  },
  {
   "cell_type": "code",
   "execution_count": 40,
   "id": "24734312",
   "metadata": {},
   "outputs": [],
   "source": [
    "players.to_csv('Players_2022.csv', encoding='utf-8')"
   ]
  }
 ],
 "metadata": {
  "kernelspec": {
   "display_name": "Python 3 (ipykernel)",
   "language": "python",
   "name": "python3"
  },
  "language_info": {
   "codemirror_mode": {
    "name": "ipython",
    "version": 3
   },
   "file_extension": ".py",
   "mimetype": "text/x-python",
   "name": "python",
   "nbconvert_exporter": "python",
   "pygments_lexer": "ipython3",
   "version": "3.10.9"
  }
 },
 "nbformat": 4,
 "nbformat_minor": 5
}
