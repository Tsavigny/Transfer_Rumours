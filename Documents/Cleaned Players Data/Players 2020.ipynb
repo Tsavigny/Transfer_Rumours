{
 "cells": [
  {
   "cell_type": "markdown",
   "id": "ec62edfa",
   "metadata": {},
   "source": [
    "#### Cleaning Players Data"
   ]
  },
  {
   "cell_type": "code",
   "execution_count": 23,
   "id": "0bf1faad",
   "metadata": {},
   "outputs": [],
   "source": [
    "import pandas as pd\n",
    "import regex as re\n",
    "from datetime import datetime    \n",
    "from unidecode import unidecode"
   ]
  },
  {
   "cell_type": "code",
   "execution_count": 24,
   "id": "6eab05b3",
   "metadata": {},
   "outputs": [],
   "source": [
    "players = pd.read_csv(\"2020.csv\", index_col = [0])"
   ]
  },
  {
   "cell_type": "code",
   "execution_count": 25,
   "id": "6615f28c",
   "metadata": {},
   "outputs": [],
   "source": [
    "players[\"Year\"] = 2020"
   ]
  },
  {
   "cell_type": "code",
   "execution_count": 26,
   "id": "9039408a",
   "metadata": {},
   "outputs": [],
   "source": [
    "#Reformatting how club are written\n",
    "players[\"Club\"] =[unidecode(w) for w in players[\"Club\"]]\n",
    "\n",
    "players[\"Player\"] =[unidecode(w) for w in players[\"Player\"]]"
   ]
  },
  {
   "cell_type": "code",
   "execution_count": 27,
   "id": "1e4a2926",
   "metadata": {},
   "outputs": [],
   "source": [
    "players[\"Player\"] = [re.sub(' +', ' ', w) for w in players[\"Player\"]]"
   ]
  },
  {
   "cell_type": "markdown",
   "id": "2f197758",
   "metadata": {},
   "source": [
    "#### Transforming Values"
   ]
  },
  {
   "cell_type": "code",
   "execution_count": 28,
   "id": "cb81e060",
   "metadata": {},
   "outputs": [],
   "source": [
    "#Getting the number of days left on contract\n",
    "Contract_end = []\n",
    "\n",
    "for w in players[\"Contract\"] : \n",
    "    try:\n",
    "        length = datetime.strptime(str(w), '%b %d, %Y') - datetime(2022,7,1,0,0,0,0)\n",
    "        Contract_end.append(length.days)  \n",
    "    except (ValueError, AttributeError): \n",
    "        Contract_end.append(\"NA\")\n",
    "\n",
    "players[\"Contract\"] = Contract_end"
   ]
  },
  {
   "cell_type": "code",
   "execution_count": 29,
   "id": "ad8dfa35",
   "metadata": {},
   "outputs": [],
   "source": [
    "#Getting the Age\n",
    "Age = []\n",
    "\n",
    "for row in players[\"Date of Birth\"] :\n",
    "    try : \n",
    "        Age.append(re.search(r'\\((.*?)\\)',row[row.rindex(',')+1:]).group(1))\n",
    "    except (ValueError, AttributeError): \n",
    "        Age.append(\"NA\")\n",
    "        \n",
    "players[\"Date of Birth\"] = Age\n",
    "\n",
    "players = players.rename(columns={'Date of Birth': 'Age'})"
   ]
  },
  {
   "cell_type": "code",
   "execution_count": 30,
   "id": "a6d1eda1",
   "metadata": {},
   "outputs": [],
   "source": [
    "#Number of days since they joined the club\n",
    "Longetivity = []\n",
    "for w in players[\"Join\"] : \n",
    "    try:\n",
    "        length = datetime(2022,7,1,0,0,0,0) - datetime.strptime(str(w), '%b %d, %Y')\n",
    "        Longetivity.append(length.days) \n",
    "    except (ValueError, AttributeError): \n",
    "        Longetivity.append(\"NA\")\n",
    "\n",
    "players[\"Join\"] = Longetivity"
   ]
  },
  {
   "cell_type": "code",
   "execution_count": 31,
   "id": "f9949801",
   "metadata": {},
   "outputs": [],
   "source": [
    "#Converting to numeric\n",
    "players[['Age', 'Join', 'Contract']] = players[['Age', 'Join', 'Contract']].apply(pd.to_numeric, errors='coerce', axis=1)"
   ]
  },
  {
   "cell_type": "code",
   "execution_count": 32,
   "id": "a5dc1c13",
   "metadata": {},
   "outputs": [],
   "source": [
    "#Transforming the market value column\n",
    "def value_to_float(x):\n",
    "    x = str(x).replace('€', '')\n",
    "    if 'k' in x:\n",
    "        return float(x.replace('k', '')) / 1000\n",
    "    if 'm' in x:\n",
    "        return float(x.replace('m', ''))\n",
    "    return 0"
   ]
  },
  {
   "cell_type": "code",
   "execution_count": 33,
   "id": "2518d022",
   "metadata": {},
   "outputs": [],
   "source": [
    "#Formatting\n",
    "players['Market Value'] = players['Market Value'].apply(value_to_float)"
   ]
  },
  {
   "cell_type": "code",
   "execution_count": 34,
   "id": "ed051aa9",
   "metadata": {},
   "outputs": [],
   "source": [
    "#In case of January transfer/ loan keep the original club\n",
    "players = players.sort_values('Join', ascending=False).drop_duplicates('Player').sort_index()"
   ]
  },
  {
   "cell_type": "code",
   "execution_count": 35,
   "id": "3308d42d",
   "metadata": {},
   "outputs": [
    {
     "data": {
      "text/html": [
       "<div>\n",
       "<style scoped>\n",
       "    .dataframe tbody tr th:only-of-type {\n",
       "        vertical-align: middle;\n",
       "    }\n",
       "\n",
       "    .dataframe tbody tr th {\n",
       "        vertical-align: top;\n",
       "    }\n",
       "\n",
       "    .dataframe thead th {\n",
       "        text-align: right;\n",
       "    }\n",
       "</style>\n",
       "<table border=\"1\" class=\"dataframe\">\n",
       "  <thead>\n",
       "    <tr style=\"text-align: right;\">\n",
       "      <th></th>\n",
       "      <th>Player Link</th>\n",
       "      <th>Player</th>\n",
       "      <th>Position</th>\n",
       "      <th>Age</th>\n",
       "      <th>Country</th>\n",
       "      <th>Join</th>\n",
       "      <th>Contract</th>\n",
       "      <th>Market Value</th>\n",
       "      <th>Club</th>\n",
       "      <th>Club Link</th>\n",
       "      <th>Season</th>\n",
       "      <th>Year</th>\n",
       "    </tr>\n",
       "    <tr>\n",
       "      <th>League</th>\n",
       "      <th></th>\n",
       "      <th></th>\n",
       "      <th></th>\n",
       "      <th></th>\n",
       "      <th></th>\n",
       "      <th></th>\n",
       "      <th></th>\n",
       "      <th></th>\n",
       "      <th></th>\n",
       "      <th></th>\n",
       "      <th></th>\n",
       "      <th></th>\n",
       "    </tr>\n",
       "  </thead>\n",
       "  <tbody>\n",
       "    <tr>\n",
       "      <th>LaLiga</th>\n",
       "      <td>https://www.transfermarkt.co.uk/lionel-messi/p...</td>\n",
       "      <td>Lionel Messi</td>\n",
       "      <td>Right Winger</td>\n",
       "      <td>34.0</td>\n",
       "      <td>Argentina</td>\n",
       "      <td>6209.0</td>\n",
       "      <td>1279.0</td>\n",
       "      <td>80.0</td>\n",
       "      <td>FC Barcelona</td>\n",
       "      <td>https://www.transfermarkt.co.uk/fc-barcelona/s...</td>\n",
       "      <td>https://www.transfermarkt.co.uk/laliga/startse...</td>\n",
       "      <td>2020</td>\n",
       "    </tr>\n",
       "  </tbody>\n",
       "</table>\n",
       "</div>"
      ],
      "text/plain": [
       "                                              Player Link        Player  \\\n",
       "League                                                                    \n",
       "LaLiga  https://www.transfermarkt.co.uk/lionel-messi/p...  Lionel Messi   \n",
       "\n",
       "            Position   Age    Country    Join  Contract  Market Value  \\\n",
       "League                                                                  \n",
       "LaLiga  Right Winger  34.0  Argentina  6209.0    1279.0          80.0   \n",
       "\n",
       "                Club                                          Club Link  \\\n",
       "League                                                                    \n",
       "LaLiga  FC Barcelona  https://www.transfermarkt.co.uk/fc-barcelona/s...   \n",
       "\n",
       "                                                   Season  Year  \n",
       "League                                                           \n",
       "LaLiga  https://www.transfermarkt.co.uk/laliga/startse...  2020  "
      ]
     },
     "execution_count": 35,
     "metadata": {},
     "output_type": "execute_result"
    }
   ],
   "source": [
    "players.loc[players[\"Player\"] == \"Lionel Messi\"]"
   ]
  },
  {
   "cell_type": "markdown",
   "id": "71274a7c",
   "metadata": {},
   "source": [
    "#### Dropping Columns"
   ]
  },
  {
   "cell_type": "code",
   "execution_count": 36,
   "id": "c50323c1",
   "metadata": {},
   "outputs": [],
   "source": [
    "#Contract Column dropped even though I could be kept however contract is new contract\n",
    "players = players.drop([ \"Season\", \"Club Link\", \"Contract\"], axis=1)"
   ]
  },
  {
   "cell_type": "markdown",
   "id": "653b8315",
   "metadata": {},
   "source": [
    "#### Club Cleaning"
   ]
  },
  {
   "cell_type": "code",
   "execution_count": 37,
   "id": "e6f5e328",
   "metadata": {},
   "outputs": [],
   "source": [
    "players[\"Club\"] = [l.replace('FC', '') for l in players[\"Club\"]]"
   ]
  },
  {
   "cell_type": "code",
   "execution_count": 38,
   "id": "b85bf3c7",
   "metadata": {},
   "outputs": [],
   "source": [
    "players[\"Club\"] = [l.replace('Wolverhampton Wanderers', 'Wolves') for l in players[\"Club\"]]"
   ]
  },
  {
   "cell_type": "code",
   "execution_count": 39,
   "id": "47777b7d",
   "metadata": {},
   "outputs": [],
   "source": [
    "players[\"Club\"] = [l.replace('Olympique', '') for l in players[\"Club\"]]"
   ]
  },
  {
   "cell_type": "code",
   "execution_count": 40,
   "id": "6f6488aa",
   "metadata": {},
   "outputs": [],
   "source": [
    "players[\"Club\"] = [l.replace('Hertha BSC', 'Hertha') for l in players[\"Club\"]]"
   ]
  },
  {
   "cell_type": "code",
   "execution_count": 41,
   "id": "37c61643",
   "metadata": {},
   "outputs": [
    {
     "data": {
      "text/html": [
       "<div>\n",
       "<style scoped>\n",
       "    .dataframe tbody tr th:only-of-type {\n",
       "        vertical-align: middle;\n",
       "    }\n",
       "\n",
       "    .dataframe tbody tr th {\n",
       "        vertical-align: top;\n",
       "    }\n",
       "\n",
       "    .dataframe thead th {\n",
       "        text-align: right;\n",
       "    }\n",
       "</style>\n",
       "<table border=\"1\" class=\"dataframe\">\n",
       "  <thead>\n",
       "    <tr style=\"text-align: right;\">\n",
       "      <th></th>\n",
       "      <th>Player Link</th>\n",
       "      <th>Player</th>\n",
       "      <th>Position</th>\n",
       "      <th>Age</th>\n",
       "      <th>Country</th>\n",
       "      <th>Join</th>\n",
       "      <th>Market Value</th>\n",
       "      <th>Club</th>\n",
       "      <th>Year</th>\n",
       "    </tr>\n",
       "    <tr>\n",
       "      <th>League</th>\n",
       "      <th></th>\n",
       "      <th></th>\n",
       "      <th></th>\n",
       "      <th></th>\n",
       "      <th></th>\n",
       "      <th></th>\n",
       "      <th></th>\n",
       "      <th></th>\n",
       "      <th></th>\n",
       "    </tr>\n",
       "  </thead>\n",
       "  <tbody>\n",
       "    <tr>\n",
       "      <th>Bundesliga</th>\n",
       "      <td>https://www.transfermarkt.co.uk/florian-muller...</td>\n",
       "      <td>Florian Muller</td>\n",
       "      <td>Goalkeeper</td>\n",
       "      <td>23.0</td>\n",
       "      <td>Germany</td>\n",
       "      <td>1826.0</td>\n",
       "      <td>8.000</td>\n",
       "      <td>1.FSV Mainz 05</td>\n",
       "      <td>2020</td>\n",
       "    </tr>\n",
       "    <tr>\n",
       "      <th>Bundesliga</th>\n",
       "      <td>https://www.transfermarkt.co.uk/edmond-tapsoba...</td>\n",
       "      <td>Edmond Tapsoba</td>\n",
       "      <td>Centre-Back</td>\n",
       "      <td>22.0</td>\n",
       "      <td>Burkina Faso</td>\n",
       "      <td>882.0</td>\n",
       "      <td>40.000</td>\n",
       "      <td>Bayer 04 Leverkusen</td>\n",
       "      <td>2020</td>\n",
       "    </tr>\n",
       "    <tr>\n",
       "      <th>Bundesliga</th>\n",
       "      <td>https://www.transfermarkt.co.uk/clinton-mola/p...</td>\n",
       "      <td>Clinton Mola</td>\n",
       "      <td>Centre-Back</td>\n",
       "      <td>20.0</td>\n",
       "      <td>England</td>\n",
       "      <td>882.0</td>\n",
       "      <td>1.000</td>\n",
       "      <td>VfB Stuttgart</td>\n",
       "      <td>2020</td>\n",
       "    </tr>\n",
       "    <tr>\n",
       "      <th>Bundesliga</th>\n",
       "      <td>https://www.transfermarkt.co.uk/matheus-cunha/...</td>\n",
       "      <td>Matheus Cunha</td>\n",
       "      <td>Centre-Forward</td>\n",
       "      <td>22.0</td>\n",
       "      <td>Brazil</td>\n",
       "      <td>882.0</td>\n",
       "      <td>30.000</td>\n",
       "      <td>Hertha</td>\n",
       "      <td>2020</td>\n",
       "    </tr>\n",
       "    <tr>\n",
       "      <th>Bundesliga</th>\n",
       "      <td>https://www.transfermarkt.co.uk/stefan-ilsanke...</td>\n",
       "      <td>Stefan Ilsanker</td>\n",
       "      <td>Defensive Midfield</td>\n",
       "      <td>32.0</td>\n",
       "      <td>Austria</td>\n",
       "      <td>882.0</td>\n",
       "      <td>1.700</td>\n",
       "      <td>Eintracht Frankfurt</td>\n",
       "      <td>2020</td>\n",
       "    </tr>\n",
       "    <tr>\n",
       "      <th>...</th>\n",
       "      <td>...</td>\n",
       "      <td>...</td>\n",
       "      <td>...</td>\n",
       "      <td>...</td>\n",
       "      <td>...</td>\n",
       "      <td>...</td>\n",
       "      <td>...</td>\n",
       "      <td>...</td>\n",
       "      <td>...</td>\n",
       "    </tr>\n",
       "    <tr>\n",
       "      <th>Süper Lig</th>\n",
       "      <td>https://www.transfermarkt.co.uk/enes-karakus/p...</td>\n",
       "      <td>Enes Karakus</td>\n",
       "      <td>Centre-Forward</td>\n",
       "      <td>20.0</td>\n",
       "      <td>Turkey</td>\n",
       "      <td>696.0</td>\n",
       "      <td>0.075</td>\n",
       "      <td>Basaksehir FK</td>\n",
       "      <td>2020</td>\n",
       "    </tr>\n",
       "    <tr>\n",
       "      <th>Süper Lig</th>\n",
       "      <td>https://www.transfermarkt.co.uk/abdulkadir-tas...</td>\n",
       "      <td>Abdulkadir Tasdan</td>\n",
       "      <td>Goalkeeper</td>\n",
       "      <td>18.0</td>\n",
       "      <td>Turkey</td>\n",
       "      <td>696.0</td>\n",
       "      <td>0.050</td>\n",
       "      <td>Kayserispor</td>\n",
       "      <td>2020</td>\n",
       "    </tr>\n",
       "    <tr>\n",
       "      <th>Süper Lig</th>\n",
       "      <td>https://www.transfermarkt.co.uk/adem-metin-tur...</td>\n",
       "      <td>Adem Metin Turk</td>\n",
       "      <td>Right Winger</td>\n",
       "      <td>17.0</td>\n",
       "      <td>Turkey</td>\n",
       "      <td>696.0</td>\n",
       "      <td>0.075</td>\n",
       "      <td>Antalyaspor</td>\n",
       "      <td>2020</td>\n",
       "    </tr>\n",
       "    <tr>\n",
       "      <th>Süper Lig</th>\n",
       "      <td>https://www.transfermarkt.co.uk/emre-bilgin/pr...</td>\n",
       "      <td>Emre Bilgin</td>\n",
       "      <td>Goalkeeper</td>\n",
       "      <td>17.0</td>\n",
       "      <td>Turkey</td>\n",
       "      <td>696.0</td>\n",
       "      <td>0.050</td>\n",
       "      <td>Besiktas JK</td>\n",
       "      <td>2020</td>\n",
       "    </tr>\n",
       "    <tr>\n",
       "      <th>Süper Lig</th>\n",
       "      <td>https://www.transfermarkt.co.uk/ugur-kaan-yild...</td>\n",
       "      <td>Ugur Kaan Yildiz</td>\n",
       "      <td>Right-Back</td>\n",
       "      <td>18.0</td>\n",
       "      <td>Turkey</td>\n",
       "      <td>NaN</td>\n",
       "      <td>0.050</td>\n",
       "      <td>Fenerbahce</td>\n",
       "      <td>2020</td>\n",
       "    </tr>\n",
       "  </tbody>\n",
       "</table>\n",
       "<p>7698 rows × 9 columns</p>\n",
       "</div>"
      ],
      "text/plain": [
       "                                                  Player Link  \\\n",
       "League                                                          \n",
       "Bundesliga  https://www.transfermarkt.co.uk/florian-muller...   \n",
       "Bundesliga  https://www.transfermarkt.co.uk/edmond-tapsoba...   \n",
       "Bundesliga  https://www.transfermarkt.co.uk/clinton-mola/p...   \n",
       "Bundesliga  https://www.transfermarkt.co.uk/matheus-cunha/...   \n",
       "Bundesliga  https://www.transfermarkt.co.uk/stefan-ilsanke...   \n",
       "...                                                       ...   \n",
       "Süper Lig   https://www.transfermarkt.co.uk/enes-karakus/p...   \n",
       "Süper Lig   https://www.transfermarkt.co.uk/abdulkadir-tas...   \n",
       "Süper Lig   https://www.transfermarkt.co.uk/adem-metin-tur...   \n",
       "Süper Lig   https://www.transfermarkt.co.uk/emre-bilgin/pr...   \n",
       "Süper Lig   https://www.transfermarkt.co.uk/ugur-kaan-yild...   \n",
       "\n",
       "                       Player            Position   Age       Country    Join  \\\n",
       "League                                                                          \n",
       "Bundesliga     Florian Muller          Goalkeeper  23.0       Germany  1826.0   \n",
       "Bundesliga     Edmond Tapsoba         Centre-Back  22.0  Burkina Faso   882.0   \n",
       "Bundesliga       Clinton Mola         Centre-Back  20.0       England   882.0   \n",
       "Bundesliga      Matheus Cunha      Centre-Forward  22.0        Brazil   882.0   \n",
       "Bundesliga    Stefan Ilsanker  Defensive Midfield  32.0       Austria   882.0   \n",
       "...                       ...                 ...   ...           ...     ...   \n",
       "Süper Lig        Enes Karakus      Centre-Forward  20.0        Turkey   696.0   \n",
       "Süper Lig   Abdulkadir Tasdan          Goalkeeper  18.0        Turkey   696.0   \n",
       "Süper Lig     Adem Metin Turk        Right Winger  17.0        Turkey   696.0   \n",
       "Süper Lig         Emre Bilgin          Goalkeeper  17.0        Turkey   696.0   \n",
       "Süper Lig    Ugur Kaan Yildiz          Right-Back  18.0        Turkey     NaN   \n",
       "\n",
       "            Market Value                 Club  Year  \n",
       "League                                               \n",
       "Bundesliga         8.000       1.FSV Mainz 05  2020  \n",
       "Bundesliga        40.000  Bayer 04 Leverkusen  2020  \n",
       "Bundesliga         1.000        VfB Stuttgart  2020  \n",
       "Bundesliga        30.000               Hertha  2020  \n",
       "Bundesliga         1.700  Eintracht Frankfurt  2020  \n",
       "...                  ...                  ...   ...  \n",
       "Süper Lig          0.075        Basaksehir FK  2020  \n",
       "Süper Lig          0.050          Kayserispor  2020  \n",
       "Süper Lig          0.075          Antalyaspor  2020  \n",
       "Süper Lig          0.050          Besiktas JK  2020  \n",
       "Süper Lig          0.050           Fenerbahce  2020  \n",
       "\n",
       "[7698 rows x 9 columns]"
      ]
     },
     "execution_count": 41,
     "metadata": {},
     "output_type": "execute_result"
    }
   ],
   "source": [
    "players"
   ]
  },
  {
   "cell_type": "code",
   "execution_count": 42,
   "id": "4abc6298",
   "metadata": {},
   "outputs": [],
   "source": [
    "players.to_csv('Players_2020.csv', encoding='utf-8')"
   ]
  }
 ],
 "metadata": {
  "kernelspec": {
   "display_name": "Python 3 (ipykernel)",
   "language": "python",
   "name": "python3"
  },
  "language_info": {
   "codemirror_mode": {
    "name": "ipython",
    "version": 3
   },
   "file_extension": ".py",
   "mimetype": "text/x-python",
   "name": "python",
   "nbconvert_exporter": "python",
   "pygments_lexer": "ipython3",
   "version": "3.10.9"
  }
 },
 "nbformat": 4,
 "nbformat_minor": 5
}
