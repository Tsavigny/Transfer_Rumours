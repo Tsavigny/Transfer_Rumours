{
 "cells": [
  {
   "cell_type": "code",
   "execution_count": 20,
   "id": "03da41fd",
   "metadata": {},
   "outputs": [],
   "source": [
    "import pandas as pd \n",
    "from unidecode import unidecode"
   ]
  },
  {
   "cell_type": "code",
   "execution_count": 21,
   "id": "b9863ea4",
   "metadata": {},
   "outputs": [],
   "source": [
    "championship = pd.read_csv(\"championship.csv\")\n",
    "PL           = pd.read_csv(\"premier-league.csv\")\n",
    "Liga_Nos     = pd.read_csv(\"liga-nos.csv\")\n",
    "La_Liga      = pd.read_csv(\"primera-division.csv\")\n",
    "Serie_A      = pd.read_csv(\"serie-a.csv\")\n",
    "Ligue_1      = pd.read_csv(\"ligue-1.csv\")\n",
    "Dutch        = pd.read_csv(\"eredivisie.csv\")\n",
    "BL           = pd.read_csv(\"germany.csv\")\n"
   ]
  },
  {
   "cell_type": "code",
   "execution_count": 22,
   "id": "60a21cbe",
   "metadata": {},
   "outputs": [],
   "source": [
    "leagues = pd.concat([PL, BL, championship, Liga_Nos, La_Liga, Serie_A, Ligue_1, Dutch], axis=0)"
   ]
  },
  {
   "cell_type": "markdown",
   "id": "4ad044c2",
   "metadata": {},
   "source": [
    "#### Cleaning the Data"
   ]
  },
  {
   "cell_type": "code",
   "execution_count": 24,
   "id": "a3552a91",
   "metadata": {},
   "outputs": [],
   "source": [
    "#Reformatting how club are written\n",
    "leagues[\"club_name\"] =[unidecode(w) for w in leagues[\"club_name\"]]\n",
    "leagues[\"club_involved_name\"] =[unidecode(w) for w in leagues[\"club_involved_name\"]]\n",
    "leagues[\"player_name\"] =[unidecode(w) for w in leagues[\"player_name\"]]"
   ]
  },
  {
   "cell_type": "code",
   "execution_count": 25,
   "id": "8a377228",
   "metadata": {},
   "outputs": [],
   "source": [
    "#Trailing Spaces\n",
    "leagues = leagues.applymap(lambda x: x.strip() if isinstance(x, str) else x)"
   ]
  },
  {
   "cell_type": "code",
   "execution_count": 26,
   "id": "33e50120",
   "metadata": {},
   "outputs": [],
   "source": [
    "leagues = leagues.loc[(leagues[\"year\"] == 2020) | (leagues[\"year\"] == 2021) | (leagues[\"year\"] == 2022) & (leagues[\"transfer_period\"] == \"Summer\") ]"
   ]
  },
  {
   "cell_type": "markdown",
   "id": "0782c2bf",
   "metadata": {},
   "source": [
    "#### Renaming for simplification of identifying"
   ]
  },
  {
   "cell_type": "code",
   "execution_count": 27,
   "id": "61453861",
   "metadata": {},
   "outputs": [],
   "source": [
    "leagues[\"club_involved_name\"] = [l.replace('Olympique', '') for l in leagues[\"club_involved_name\"]]\n",
    "leagues[\"club_name\"] = [l.replace('Olympique', '') for l in leagues[\"club_name\"]]"
   ]
  },
  {
   "cell_type": "code",
   "execution_count": 28,
   "id": "e95eb777",
   "metadata": {},
   "outputs": [],
   "source": [
    "leagues[\"club_involved_name\"] = [l.replace('Wolverhampton Wanderers', 'Wolves') for l in leagues[\"club_involved_name\"]]\n",
    "leagues[\"club_name\"] = [l.replace('Wolverhampton Wanderers', 'Wolves') for l in leagues[\"club_name\"]]"
   ]
  },
  {
   "cell_type": "code",
   "execution_count": 29,
   "id": "cc36717a",
   "metadata": {},
   "outputs": [],
   "source": [
    "leagues[\"club_involved_name\"] = [l.replace('FC', '') for l in leagues[\"club_involved_name\"]]\n",
    "leagues[\"club_name\"] = [l.replace('FC', '') for l in leagues[\"club_name\"]]"
   ]
  },
  {
   "cell_type": "code",
   "execution_count": 30,
   "id": "a6d2c22a",
   "metadata": {},
   "outputs": [],
   "source": [
    "leagues[\"club_involved_name\"] = [l.replace('Hertha BSC', 'Hertha') for l in leagues[\"club_involved_name\"]]\n",
    "leagues[\"club_name\"] = [l.replace('Hertha BSC', 'Hertha') for l in leagues[\"club_name\"]]"
   ]
  },
  {
   "cell_type": "code",
   "execution_count": 31,
   "id": "d8d52c11",
   "metadata": {},
   "outputs": [],
   "source": [
    "#Removing empty spaces\n",
    "leagues = leagues.applymap(lambda x: x.strip() if isinstance(x, str) else x)"
   ]
  },
  {
   "cell_type": "code",
   "execution_count": 32,
   "id": "3fda5f6c",
   "metadata": {},
   "outputs": [],
   "source": [
    "leagues = leagues.loc[(leagues[\"transfer_movement\"] == \"in\")]"
   ]
  },
  {
   "cell_type": "code",
   "execution_count": 33,
   "id": "521796c8",
   "metadata": {},
   "outputs": [],
   "source": [
    "leagues = leagues.loc[(leagues[\"fee\"] != \"End of loanJun 30, 2021\")]"
   ]
  },
  {
   "cell_type": "code",
   "execution_count": 35,
   "id": "6301335d",
   "metadata": {},
   "outputs": [],
   "source": [
    "leagues.to_csv('transfers.csv', encoding='utf-8')"
   ]
  },
  {
   "cell_type": "code",
   "execution_count": null,
   "id": "2fdbd610",
   "metadata": {},
   "outputs": [],
   "source": []
  }
 ],
 "metadata": {
  "kernelspec": {
   "display_name": "Python 3 (ipykernel)",
   "language": "python",
   "name": "python3"
  },
  "language_info": {
   "codemirror_mode": {
    "name": "ipython",
    "version": 3
   },
   "file_extension": ".py",
   "mimetype": "text/x-python",
   "name": "python",
   "nbconvert_exporter": "python",
   "pygments_lexer": "ipython3",
   "version": "3.10.9"
  }
 },
 "nbformat": 4,
 "nbformat_minor": 5
}
