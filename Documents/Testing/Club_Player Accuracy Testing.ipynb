{
 "cells": [
  {
   "cell_type": "code",
   "execution_count": 1,
   "id": "8691f77a",
   "metadata": {},
   "outputs": [],
   "source": [
    "import random\n",
    "import pandas as pd \n",
    "import numpy as np\n",
    "import regex as re"
   ]
  },
  {
   "cell_type": "markdown",
   "id": "32fd6680",
   "metadata": {},
   "source": [
    "#### Getting the sample of the data"
   ]
  },
  {
   "cell_type": "code",
   "execution_count": 36,
   "id": "09f4540c",
   "metadata": {},
   "outputs": [],
   "source": [
    "df = pd.read_csv(\"C:/Users/Titoran/Documents/2.Cleaning/Accuracy_Testing.csv\", index_col = [0] )"
   ]
  },
  {
   "cell_type": "code",
   "execution_count": 37,
   "id": "2287c997",
   "metadata": {},
   "outputs": [],
   "source": [
    "df = df.sample(n = 50)"
   ]
  },
  {
   "cell_type": "code",
   "execution_count": null,
   "id": "f28b3ac6",
   "metadata": {},
   "outputs": [],
   "source": [
    "df = df.drop(['Year', 'Outlet'], axis=1)"
   ]
  },
  {
   "cell_type": "code",
   "execution_count": null,
   "id": "e81eab61",
   "metadata": {},
   "outputs": [],
   "source": [
    "df.to_csv('Accuracy_Data.csv', encoding='utf-8')"
   ]
  },
  {
   "cell_type": "markdown",
   "id": "0af4b33b",
   "metadata": {},
   "source": [
    "#### Testing Club/ Player Accuracy"
   ]
  },
  {
   "cell_type": "markdown",
   "id": "1676bde1",
   "metadata": {},
   "source": [
    "Next step is to manually verify the entries in excel and re open to calculate accuracy"
   ]
  },
  {
   "cell_type": "code",
   "execution_count": 7,
   "id": "9b2573a7",
   "metadata": {},
   "outputs": [],
   "source": [
    "df = pd.read_csv(\"C:/Users/Titoran/Documents/Testing/Manual Transfer Accuracy.csv\")"
   ]
  },
  {
   "cell_type": "code",
   "execution_count": 8,
   "id": "07f00a46",
   "metadata": {},
   "outputs": [],
   "source": [
    "n = 0 \n",
    "count_clubs = 0\n",
    "count_players = 0\n",
    "negative = 0 \n",
    "\n",
    "for i in range(len(df)) : \n",
    "    if df.iloc[i,1] == df.iloc[i,2] : \n",
    "        count_clubs += 1\n",
    "    \n",
    "    if df.iloc[i,3] == df.iloc[i,4] : \n",
    "        count_players += 1 \n",
    "        \n",
    "    if df.iloc[i,5] == \"NEGATIVE\" : \n",
    "        negative += 1 "
   ]
  },
  {
   "cell_type": "code",
   "execution_count": 9,
   "id": "1feaa4e2",
   "metadata": {},
   "outputs": [],
   "source": [
    "accuracy_clubs = round(count_clubs/len(df) * 100,2)"
   ]
  },
  {
   "cell_type": "code",
   "execution_count": 10,
   "id": "a8f80222",
   "metadata": {},
   "outputs": [],
   "source": [
    "accuracy_players = round(count_players/len(df)*100,2)"
   ]
  },
  {
   "cell_type": "code",
   "execution_count": 11,
   "id": "376ae155",
   "metadata": {},
   "outputs": [],
   "source": [
    "proportion_negative =  round(negative/len(df)*100,2)"
   ]
  },
  {
   "cell_type": "code",
   "execution_count": 12,
   "id": "9ebbac55",
   "metadata": {},
   "outputs": [
    {
     "name": "stdout",
     "output_type": "stream",
     "text": [
      "club accuracy : 93.88\n",
      "players accuracy : 89.8\n",
      "proportion negative sentiment : 10.2\n"
     ]
    }
   ],
   "source": [
    "print(\"club accuracy : \" + str(accuracy_clubs))\n",
    "print(\"players accuracy : \" + str(accuracy_players))\n",
    "print(\"proportion negative sentiment : \" + str(proportion_negative))"
   ]
  },
  {
   "cell_type": "code",
   "execution_count": null,
   "id": "8316e5e1",
   "metadata": {},
   "outputs": [],
   "source": []
  }
 ],
 "metadata": {
  "kernelspec": {
   "display_name": "Python 3 (ipykernel)",
   "language": "python",
   "name": "python3"
  },
  "language_info": {
   "codemirror_mode": {
    "name": "ipython",
    "version": 3
   },
   "file_extension": ".py",
   "mimetype": "text/x-python",
   "name": "python",
   "nbconvert_exporter": "python",
   "pygments_lexer": "ipython3",
   "version": "3.10.9"
  }
 },
 "nbformat": 4,
 "nbformat_minor": 5
}
