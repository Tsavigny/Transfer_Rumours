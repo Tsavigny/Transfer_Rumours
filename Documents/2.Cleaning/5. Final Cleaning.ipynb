{
 "cells": [
  {
   "cell_type": "code",
   "execution_count": 1,
   "id": "7408f66a",
   "metadata": {},
   "outputs": [],
   "source": [
    "import pandas as pd \n",
    "import numpy as np\n",
    "import regex as re"
   ]
  },
  {
   "cell_type": "code",
   "execution_count": 2,
   "id": "a54345ac",
   "metadata": {},
   "outputs": [],
   "source": [
    "df = pd.read_csv(\"Outlets_Cleaned.csv\", index_col = [0] )"
   ]
  },
  {
   "cell_type": "markdown",
   "id": "8a91deff",
   "metadata": {},
   "source": [
    "#### Handling NA Values"
   ]
  },
  {
   "cell_type": "code",
   "execution_count": 17,
   "id": "0d2e62cc",
   "metadata": {},
   "outputs": [],
   "source": [
    "#Sometimes there is no join date, therefore rather than removing these entries we take the average join date and input that\n",
    "round(df.describe(),0)\n",
    "df.loc[df['Join'].isna() == True, \"Join\"] = df['Join'].median()"
   ]
  },
  {
   "cell_type": "code",
   "execution_count": 18,
   "id": "eb7bf0a2",
   "metadata": {},
   "outputs": [],
   "source": [
    "df = df.dropna().reset_index(drop=True)"
   ]
  },
  {
   "cell_type": "code",
   "execution_count": 3,
   "id": "b91de6c0",
   "metadata": {},
   "outputs": [],
   "source": [
    "#Rows wich have the same rumour by the same outlet\n",
    "df = df.drop_duplicates(subset=['Outlet','Year','Player','Interested_clubs'], keep='first')"
   ]
  },
  {
   "cell_type": "markdown",
   "id": "342db851",
   "metadata": {},
   "source": [
    "#### Converting the positions to Attack, Midfield, Defence"
   ]
  },
  {
   "cell_type": "code",
   "execution_count": 6,
   "id": "e5467889",
   "metadata": {},
   "outputs": [],
   "source": [
    "Attackers = [\"Left Winger\", \"Centre-Forward\", \"Right Winger\", \"Second Striker\"]\n",
    "Midfielders = ['Attacking Midfield', 'Central Midfield','Left Midfield', 'Defensive Midfield','Right Midfield']\n",
    "Defenders = ['Left-Back','Right-Back', 'Centre-Back', 'Goalkeeper']"
   ]
  },
  {
   "cell_type": "code",
   "execution_count": 7,
   "id": "66a27367",
   "metadata": {},
   "outputs": [],
   "source": [
    "df.loc[df[\"Position\"].isin(Attackers) , \"Position\"] = \"Attacker\"\n",
    "df.loc[df[\"Position\"].isin(Midfielders) , \"Position\"] = \"Midfielder\"\n",
    "df.loc[df[\"Position\"].isin(Defenders) , \"Position\"] = \"Defender\""
   ]
  },
  {
   "cell_type": "markdown",
   "id": "d1591b2f",
   "metadata": {},
   "source": [
    "#### Adding Player Agents"
   ]
  },
  {
   "cell_type": "code",
   "execution_count": 8,
   "id": "c91992bd",
   "metadata": {},
   "outputs": [],
   "source": [
    "from bs4 import BeautifulSoup\n",
    "import requests"
   ]
  },
  {
   "cell_type": "code",
   "execution_count": 9,
   "id": "c4a5bba2",
   "metadata": {},
   "outputs": [],
   "source": [
    "headers = {\n",
    "    # 'Host' : 'https://www.zim.com/',\n",
    "    'Connection': 'keep-alive',\n",
    "    'User-Agent': 'Chrome/102.0.5005.63 Mozilla/5.0 (Windows NT 6.1; WOW64) AppleWebKit/536.5 (KHTML, like Gecko) Safari/536.5',\n",
    "    'Accept': '*/*',\n",
    "    'Accept-Encoding': 'gzip, deflate',\n",
    "    'Content-Type': 'text',\n",
    "    'Accept-Language': 'en-US,en;q=0.8'\n",
    "}\n",
    "\n",
    "def get_data(URL):\n",
    "    soup = BeautifulSoup(requests.get(URL, headers=headers).content, 'lxml')\n",
    "    agent = 'Unknown'\n",
    "    try:\n",
    "        agent = soup.find('span', {'onclick': 'tmEvent(\"spielerprofil\", \"click\", \"berater-spielerdaten\")'}).text.replace('\\n', '')\n",
    "    except:\n",
    "        pass\n",
    "    \n",
    "    try:\n",
    "        agent = soup.find('a', {'onclick': 'tmEvent(\"spielerprofil\", \"click\", \"berater-spielerdaten\")'}).text.replace('\\n', '')\n",
    "    except:\n",
    "        pass\n",
    "    \n",
    "    return agent"
   ]
  },
  {
   "cell_type": "code",
   "execution_count": 10,
   "id": "6ea9b72b",
   "metadata": {},
   "outputs": [],
   "source": [
    "#In case a line causes problems\n",
    "#df = df.drop(df.index[395])"
   ]
  },
  {
   "cell_type": "code",
   "execution_count": 11,
   "id": "e223f76f",
   "metadata": {},
   "outputs": [],
   "source": [
    "df.insert(3, \"Agent\", agent)"
   ]
  },
  {
   "cell_type": "code",
   "execution_count": 231,
   "id": "9e8589b8",
   "metadata": {},
   "outputs": [],
   "source": [
    "df.to_csv('Agents_Data.csv', encoding='utf-8')"
   ]
  },
  {
   "cell_type": "markdown",
   "id": "32f98a51",
   "metadata": {},
   "source": [
    "#### Data for Regression"
   ]
  },
  {
   "cell_type": "code",
   "execution_count": 3,
   "id": "c287d7f0",
   "metadata": {},
   "outputs": [],
   "source": [
    "df_reg = pd.read_csv('Agents_Data.csv', index_col = [0] )"
   ]
  },
  {
   "cell_type": "code",
   "execution_count": 14,
   "id": "ae2fc97a",
   "metadata": {},
   "outputs": [],
   "source": [
    "df_reg = df_reg.drop_duplicates(subset=['Outlet','Year','Player'], keep='first')"
   ]
  },
  {
   "cell_type": "code",
   "execution_count": 15,
   "id": "882228b4",
   "metadata": {},
   "outputs": [
    {
     "data": {
      "text/plain": [
       "1638"
      ]
     },
     "execution_count": 15,
     "metadata": {},
     "output_type": "execute_result"
    }
   ],
   "source": [
    "len(df_reg)"
   ]
  },
  {
   "cell_type": "code",
   "execution_count": 16,
   "id": "9e919eaa",
   "metadata": {},
   "outputs": [],
   "source": [
    "n = 20"
   ]
  },
  {
   "cell_type": "code",
   "execution_count": 17,
   "id": "12f56060",
   "metadata": {},
   "outputs": [],
   "source": [
    "df_reg.loc[df_reg[\"League\"].value_counts()[df_reg[\"League\"]].values < n, \"League\"] = \"Other\"\n",
    "df_reg.loc[df_reg[\"Country\"].value_counts()[df_reg[\"Country\"]].values < n, \"Country\"] = \"Other\"\n",
    "df_reg.loc[df_reg[\"Outlet\"].value_counts()[df_reg[\"Outlet\"]].values < n, \"Outlet\"] = \"Other\"\n",
    "df_reg.loc[df_reg[\"Agent\"].value_counts()[df_reg[\"Agent\"]].values < 10, \"Agent\"] = \"Other\""
   ]
  },
  {
   "cell_type": "code",
   "execution_count": 18,
   "id": "5e1bf022",
   "metadata": {},
   "outputs": [],
   "source": [
    "#n = 14\n",
    "#df_reg = df_reg.groupby('League').filter(lambda x : len(x)>n)\n",
    "#df_reg = df_reg.groupby('Country').filter(lambda x : len(x)>n)\n",
    "#df_reg = df_reg.groupby('Outlet').filter(lambda x : len(x)>n)\n",
    "#df_reg = df_reg.groupby('Agent').filter(lambda x : len(x)>7)"
   ]
  },
  {
   "cell_type": "code",
   "execution_count": 19,
   "id": "1b5c6f89",
   "metadata": {},
   "outputs": [],
   "source": [
    "#Storing for later\n",
    "continuous = df_reg[[\"Market Value\", \"Join\", \"Age\"]]"
   ]
  },
  {
   "cell_type": "code",
   "execution_count": 20,
   "id": "08e2167b",
   "metadata": {},
   "outputs": [],
   "source": [
    "df_reg = df_reg.iloc[:,[2,3,6,8,10,15]]\n",
    "#df_reg = df_reg.drop(['Rumour', 'Year', 'Player', 'Club', 'Interested_clubs', \"Market Value\", \"Join\", \"Age\"], axis=1)"
   ]
  },
  {
   "cell_type": "code",
   "execution_count": 21,
   "id": "73940f38",
   "metadata": {},
   "outputs": [],
   "source": [
    "features = pd.get_dummies(df_reg)"
   ]
  },
  {
   "cell_type": "code",
   "execution_count": 22,
   "id": "708912fe",
   "metadata": {},
   "outputs": [],
   "source": [
    "df_reg = pd.concat([continuous, features], axis=1)"
   ]
  },
  {
   "cell_type": "code",
   "execution_count": 23,
   "id": "71c18b06",
   "metadata": {},
   "outputs": [],
   "source": [
    "df_reg.to_csv('Regression_Data.csv', encoding='utf-8')"
   ]
  },
  {
   "cell_type": "markdown",
   "id": "4698abc4",
   "metadata": {},
   "source": [
    "#### Categorical Variables Thresholds"
   ]
  },
  {
   "cell_type": "code",
   "execution_count": 5,
   "id": "d2d45ab8",
   "metadata": {},
   "outputs": [],
   "source": [
    "df_analysis = pd.read_csv('Agents_Data.csv', index_col = [0] )"
   ]
  },
  {
   "cell_type": "code",
   "execution_count": 6,
   "id": "b70cb387",
   "metadata": {},
   "outputs": [],
   "source": [
    "df_analysis = df_analysis.drop_duplicates(subset=['Outlet','Year','Player'], keep='first')"
   ]
  },
  {
   "cell_type": "code",
   "execution_count": 7,
   "id": "09b4882c",
   "metadata": {},
   "outputs": [],
   "source": [
    "df_analysis = df_analysis.drop(['Rumour', 'Year', 'Player', 'Club', 'Interested_clubs', 'Clubs', 'Player Link'], axis=1)"
   ]
  },
  {
   "cell_type": "code",
   "execution_count": null,
   "id": "fe80be2d",
   "metadata": {},
   "outputs": [],
   "source": [
    "#Checking lengths of categorical variables\n",
    "print(len(df_analysis[\"League\"].value_counts()))\n",
    "print(len(df_analysis[\"Country\"].value_counts()))\n",
    "print(len(df_analysis[\"Outlet\"].value_counts()))\n",
    "print(len(df_analysis[\"Agent\"].value_counts()))\n",
    "print(len(df_analysis))"
   ]
  },
  {
   "cell_type": "code",
   "execution_count": null,
   "id": "f7867a65",
   "metadata": {},
   "outputs": [],
   "source": [
    "n = 20"
   ]
  },
  {
   "cell_type": "code",
   "execution_count": null,
   "id": "4116619c",
   "metadata": {},
   "outputs": [],
   "source": [
    "df_analysis.loc[df_analysis[\"League\"].value_counts()[df_analysis[\"League\"]].values < n, \"League\"] = \"Other\"\n",
    "df_analysis.loc[df_analysis[\"Country\"].value_counts()[df_analysis[\"Country\"]].values < n, \"Country\"] = \"Other\"\n",
    "df_analysis.loc[df_analysis[\"Outlet\"].value_counts()[df_analysis[\"Outlet\"]].values < n, \"Outlet\"] = \"Other\"\n",
    "df_analysis.loc[df_analysis[\"Agent\"].value_counts()[df_analysis[\"Agent\"]].values < 10, \"Agent\"] = \"Other\""
   ]
  },
  {
   "cell_type": "code",
   "execution_count": null,
   "id": "049e064d",
   "metadata": {},
   "outputs": [],
   "source": [
    "#If we wish to remove low occuring entries rather than renaming then\n",
    "\n",
    "#df_analysis = df_analysis.groupby('League').filter(lambda x : len(x)>n)\n",
    "#df_analysis = df_analysis.groupby('Country').filter(lambda x : len(x)>n)\n",
    "#df_analysis = df_analysis.groupby('Outlet').filter(lambda x : len(x)>n)\n",
    "#df_analysis = df_analysis.groupby('Agent').filter(lambda x : len(x)>10)"
   ]
  },
  {
   "cell_type": "code",
   "execution_count": null,
   "id": "0f8b4976",
   "metadata": {},
   "outputs": [],
   "source": [
    "df_analysis[\"Outlet\"].value_counts()"
   ]
  },
  {
   "cell_type": "code",
   "execution_count": null,
   "id": "4a22c434",
   "metadata": {},
   "outputs": [],
   "source": [
    "#Shortening Names\n",
    "df_analysis.loc[df_analysis['Outlet'].str.contains(\"Independent Journalists\"), \"Outlet\"] = \"Journalists\"\n",
    "df_analysis.loc[df_analysis['Outlet'].str.contains(\"Fabrizio Romano\"), \"Outlet\"] = \"F. Romano\" \n",
    "df_analysis.loc[df_analysis['Outlet'].str.contains(\"Manchester Evening News\"), \"Outlet\"] = \"Manchester N.\" \n",
    "df_analysis.loc[df_analysis['Outlet'].str.contains(\"Evening Standard\"), \"Outlet\"] = \"Evening Std\" \n",
    "df_analysis.loc[df_analysis['Outlet'].str.contains(\"Liverpool Echo\"), \"Outlet\"] = \"Liverpool E.\" \n",
    "df_analysis.loc[df_analysis['Outlet'].str.contains(\"Corriere dello Sport\"), \"Outlet\"] = \"Corriere S.\" \n",
    "df_analysis.loc[df_analysis['Outlet'].str.contains(\"Football Insider\"), \"Outlet\"] = \"Insider\" \n",
    "df_analysis.loc[df_analysis['Outlet'].str.contains(\"Calcio mercato\"), \"Outlet\"] = \"Calcio M.\" \n",
    "df_analysis.loc[df_analysis['Outlet'].str.contains(\"Mundo Deportivo\"), \"Outlet\"] = \"Mundo D.\" "
   ]
  },
  {
   "cell_type": "code",
   "execution_count": 12,
   "id": "095a3db4",
   "metadata": {},
   "outputs": [],
   "source": [
    "df_analysis.to_csv('Analysis_Data.csv', encoding='utf-8')"
   ]
  },
  {
   "cell_type": "code",
   "execution_count": null,
   "id": "d415c28a",
   "metadata": {},
   "outputs": [],
   "source": []
  }
 ],
 "metadata": {
  "kernelspec": {
   "display_name": "Python 3 (ipykernel)",
   "language": "python",
   "name": "python3"
  },
  "language_info": {
   "codemirror_mode": {
    "name": "ipython",
    "version": 3
   },
   "file_extension": ".py",
   "mimetype": "text/x-python",
   "name": "python",
   "nbconvert_exporter": "python",
   "pygments_lexer": "ipython3",
   "version": "3.10.9"
  }
 },
 "nbformat": 4,
 "nbformat_minor": 5
}
