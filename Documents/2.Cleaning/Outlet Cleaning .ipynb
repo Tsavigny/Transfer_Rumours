{
 "cells": [
  {
   "cell_type": "code",
   "execution_count": 8,
   "id": "7408f66a",
   "metadata": {},
   "outputs": [],
   "source": [
    "import pandas as pd \n",
    "import numpy as np\n",
    "import regex as re"
   ]
  },
  {
   "cell_type": "code",
   "execution_count": 9,
   "id": "a54345ac",
   "metadata": {},
   "outputs": [],
   "source": [
    "df_players = pd.read_csv(\"Uncleaned_Data.csv\", index_col = [0] )"
   ]
  },
  {
   "cell_type": "code",
   "execution_count": 10,
   "id": "6b4e8b89",
   "metadata": {},
   "outputs": [
    {
     "data": {
      "text/plain": [
       "459"
      ]
     },
     "execution_count": 10,
     "metadata": {},
     "output_type": "execute_result"
    }
   ],
   "source": [
    "len(df_players['Outlet'].unique())"
   ]
  },
  {
   "cell_type": "markdown",
   "id": "846a47d3",
   "metadata": {},
   "source": [
    "#### Outlet Cleaning"
   ]
  },
  {
   "cell_type": "code",
   "execution_count": 11,
   "id": "7c618262",
   "metadata": {},
   "outputs": [],
   "source": [
    "#Removes trailing spaces\n",
    "df_players = df_players.applymap(lambda x: x.strip() if isinstance(x, str) else x)"
   ]
  },
  {
   "cell_type": "code",
   "execution_count": 12,
   "id": "cae61d82",
   "metadata": {},
   "outputs": [],
   "source": [
    "#Sometimes the outlet says outlet x via outlet y meaning y reported on it but x said it. Therefore we only want to keep outlet xx.\n",
    "for outlet in df_players.loc[df_players['Outlet'].str.contains(\"via\"), \"Outlet\"] : \n",
    "    df_players.loc[df_players['Outlet'] == outlet, \"Outlet\"] = outlet.split(\"via\")[0]\n",
    "    \n",
    "for outlet in df_players.loc[df_players['Outlet'].str.contains(\"on Sunday\"), \"Outlet\"] : \n",
    "    df_players.loc[df_players['Outlet'] == outlet, \"Outlet\"] = outlet.split(\"on Sunday\")[0]"
   ]
  },
  {
   "cell_type": "code",
   "execution_count": 13,
   "id": "649ed2b6",
   "metadata": {},
   "outputs": [],
   "source": [
    "#Cleaning the outlet text\n",
    "df_players['Outlet'] = [str(w).replace('external', '') for w in df_players['Outlet']]"
   ]
  },
  {
   "cell_type": "code",
   "execution_count": 14,
   "id": "4647bb68",
   "metadata": {},
   "outputs": [],
   "source": [
    "df_players.loc[df_players['Outlet'].str.contains(\"Fabrizio Romano\"), \"Outlet\"] = \"Fabrizio Romano\""
   ]
  },
  {
   "cell_type": "code",
   "execution_count": 15,
   "id": "574ccdca",
   "metadata": {},
   "outputs": [],
   "source": [
    "df_players.loc[df_players['Outlet'].str.contains(\"Mail Online\"), \"Outlet\"] = \"Mail\"\n",
    "df_players.loc[df_players['Outlet'].str.contains(\"MailOnline\"), \"Outlet\"] = \"Mail\" \n",
    "df_players.loc[df_players['Outlet'].str.contains(\"Daily Mail\"), \"Outlet\"] = \"Mail\" \n",
    "df_players.loc[df_players['Outlet'].str.contains(\"Mail\"), \"Outlet\"] = \"Mail\" "
   ]
  },
  {
   "cell_type": "code",
   "execution_count": 16,
   "id": "34846199",
   "metadata": {},
   "outputs": [],
   "source": [
    "df_players.loc[df_players['Outlet'].str.contains(\"Sun\"), \"Outlet\"] = \"The Sun\" "
   ]
  },
  {
   "cell_type": "code",
   "execution_count": 17,
   "id": "b4fef7dd",
   "metadata": {},
   "outputs": [],
   "source": [
    "df_players.loc[df_players['Outlet'].str.contains(\"Give Me Sport\"), \"Outlet\"] = \"Sport\""
   ]
  },
  {
   "cell_type": "code",
   "execution_count": 18,
   "id": "1cbe1464",
   "metadata": {},
   "outputs": [],
   "source": [
    "df_players.loc[df_players['Outlet'].str.contains(\"Chronicle\"), \"Outlet\"] = \"Chronicle\" "
   ]
  },
  {
   "cell_type": "code",
   "execution_count": 19,
   "id": "2a244745",
   "metadata": {},
   "outputs": [],
   "source": [
    "df_players.loc[df_players['Outlet'].str.contains(\"Star\"), \"Outlet\"] = \"Star\""
   ]
  },
  {
   "cell_type": "code",
   "execution_count": 20,
   "id": "c74179b3",
   "metadata": {},
   "outputs": [],
   "source": [
    "df_players.loc[df_players['Outlet'].str.contains(\"90\"), \"Outlet\"] = \"90 Min\""
   ]
  },
  {
   "cell_type": "code",
   "execution_count": 21,
   "id": "5aee57f4",
   "metadata": {},
   "outputs": [],
   "source": [
    "df_players.loc[df_players['Outlet'].str.contains(\"Sky\"), \"Outlet\"] = \"Sky Sports\""
   ]
  },
  {
   "cell_type": "code",
   "execution_count": 22,
   "id": "118f8246",
   "metadata": {},
   "outputs": [],
   "source": [
    "df_players.loc[df_players['Outlet'].str.contains(\"Sunday Mirror\"), \"Outlet\"] = \"Mirror\" "
   ]
  },
  {
   "cell_type": "code",
   "execution_count": 23,
   "id": "9824a847",
   "metadata": {},
   "outputs": [],
   "source": [
    "df_players.loc[df_players['Outlet'].str.contains(\"talkSPORT\"), \"Outlet\"] = \"TalkSPORT\" \n",
    "df_players.loc[df_players['Outlet'].str.contains(\"TalkSPORT\"), \"Outlet\"] = \"TalkSport\" "
   ]
  },
  {
   "cell_type": "code",
   "execution_count": 24,
   "id": "61fc92cf",
   "metadata": {},
   "outputs": [],
   "source": [
    "df_players.loc[df_players['Outlet'].str.contains(\"Express\"), \"Outlet\"] = \"Express\""
   ]
  },
  {
   "cell_type": "code",
   "execution_count": 25,
   "id": "3de1c0e3",
   "metadata": {},
   "outputs": [],
   "source": [
    "df_players.loc[df_players['Outlet'].str.contains(\"FourFourTwo\"), \"Outlet\"] = \"The Athletic\"\n",
    "df_players.loc[df_players['Outlet'].str.contains(\"AS\"), \"Outlet\"] = \"The Athletic\"\n",
    "\n",
    "df_players.loc[df_players['Outlet'].str.contains(\"Athletic\"), \"Outlet\"] = \"The Athletic\""
   ]
  },
  {
   "cell_type": "code",
   "execution_count": 26,
   "id": "536988ff",
   "metadata": {},
   "outputs": [],
   "source": [
    "df_players.loc[df_players['Outlet'].str.contains(\"Twitter\"), \"Outlet\"] = \"Independent Journalists\" \n",
    "df_players.loc[df_players['Outlet'].str.contains(\"Nicolo Schira\"), \"Outlet\"] = \"Independent Journalists\" \n",
    "df_players.loc[df_players['Outlet'].str.contains(\"Sport Witness\"), \"Outlet\"] = \"Independent Journalists\"\n",
    "df_players.loc[df_players['Outlet'].str.contains(\"Transfer Window Podcast\"), \"Outlet\"] = \"Independent Journalists\"\n",
    "df_players.loc[df_players['Outlet'].str.contains(\"Gianluigi Longari\"), \"Outlet\"] = \"Independent Journalists\"\n",
    "df_players.loc[df_players['Outlet'].str.contains(\"Gianluca\"), \"Outlet\"] = \"Independent Journalists\"\n",
    "df_players.loc[df_players['Outlet'].str.contains(\"Florian Plettenberg\"), \"Outlet\"] = \"Independent Journalists\"\n",
    "df_players.loc[df_players['Outlet'].str.contains(\"Mit Geredet\"), \"Outlet\"] = \"Independent Journalists\"\n",
    "df_players.loc[df_players['Outlet'].str.contains(\"Gokhan Dinc\"), \"Outlet\"] = \"Independent Journalists\"\n",
    "df_players.loc[df_players['Outlet'].str.contains(\"Marco Barzaghi\"), \"Outlet\"] = \"Independent Journalists\"\n",
    "df_players.loc[df_players['Outlet'].str.contains(\"Ruhr Nachrichten\"), \"Outlet\"] = \"Independent Journalists\"\n",
    "df_players.loc[df_players['Outlet'].str.contains(\"Lucas Navarrete\"), \"Outlet\"] = \"Independent Journalists\"\n",
    "df_players.loc[df_players['Outlet'].str.contains(\"Alan Nixon\"), \"Outlet\"] = \"Independent Journalists\"\n",
    "df_players.loc[df_players['Outlet'].str.contains(\"Tancredi Palmeri\"), \"Outlet\"] = \"Independent Journalists\"\n",
    "df_players.loc[df_players['Outlet'].str.contains(\"Gianluigi Longari\"), \"Outlet\"] = \"Independent Journalists\"\n",
    "df_players.loc[df_players['Outlet'].str.contains(\"Independent\"), \"Outlet\"] = \"Independent Journalists\"\n",
    "df_players.loc[df_players['Outlet'].str.contains(\"Gerard Romero\"), \"Outlet\"] = \"Independent Journalists\"\n",
    "df_players.loc[df_players['Outlet'].str.contains(\"Sebastian Giovanelli\"), \"Outlet\"] = \"Independent Journalists\"\n",
    "df_players.loc[df_players['Outlet'].str.contains(\"Fabrice Hawkins\"), \"Outlet\"] = \"Independent Journalists\"\n",
    "df_players.loc[df_players['Outlet'].str.contains(\"Algemeen Dagblad\"), \"Outlet\"] = \"Independent Journalists\"\n",
    "df_players.loc[df_players['Outlet'].str.contains(\"Jacque Talbot\"), \"Outlet\"] = \"Independent Journalists\""
   ]
  },
  {
   "cell_type": "code",
   "execution_count": 27,
   "id": "165a51ef",
   "metadata": {},
   "outputs": [],
   "source": [
    "df_players.loc[df_players['Outlet'].str.contains(\"Standard\"), \"Outlet\"] = \"Evening Standard\""
   ]
  },
  {
   "cell_type": "code",
   "execution_count": 28,
   "id": "3b3e2242",
   "metadata": {},
   "outputs": [],
   "source": [
    "df_players.loc[df_players['Outlet'].str.contains(\"Marca\"), \"Outlet\"] = \"Marca\""
   ]
  },
  {
   "cell_type": "code",
   "execution_count": 29,
   "id": "2f2bdf57",
   "metadata": {},
   "outputs": [],
   "source": [
    "df_players.loc[df_players['Outlet'].str.contains(\"Inside Futbol\"), \"Outlet\"] = \"Mundo Deportivo\"  \n",
    "df_players.loc[df_players['Outlet'].str.contains(\"Football Espana\"), \"Outlet\"] = \"Mundo Deportivo\" \n",
    "df_players.loc[df_players['Outlet'].str.contains(\"Fichajes\"), \"Outlet\"] = \"Mundo Deportivo\"\n",
    "df_players.loc[df_players['Outlet'].str.contains(\"El Nacional\"), \"Outlet\"] = \"Mundo Deportivo\" \n",
    "\n",
    "df_players.loc[df_players['Outlet'].str.contains(\"Mundo Deportivo\"), \"Outlet\"] = \"Mundo Deportivo\" "
   ]
  },
  {
   "cell_type": "code",
   "execution_count": 30,
   "id": "ee93f884",
   "metadata": {},
   "outputs": [],
   "source": [
    "df_players.loc[df_players['Outlet'].str.contains(\"CalcioMercato\"), \"Outlet\"] = \"Calcio mercato\" \n",
    "df_players.loc[df_players['Outlet'].str.contains(\"Calciomercato\"), \"Outlet\"] = \"Calcio mercato\" "
   ]
  },
  {
   "cell_type": "code",
   "execution_count": 31,
   "id": "fa2a7aa8",
   "metadata": {},
   "outputs": [],
   "source": [
    "df_players.loc[df_players['Outlet'].str.contains(\"Football Italia\"), \"Outlet\"] = \"Corriere dello Sport\" \n",
    "df_players.loc[df_players['Outlet'].str.contains(\"Tuttosport\"), \"Outlet\"] = \"Corriere dello Sport\" \n",
    "df_players.loc[df_players['Outlet'].str.contains(\"Gazzetta dello Sport\"), \"Outlet\"] = \"Corriere dello Sport\"\n",
    "df_players.loc[df_players['Outlet'].str.contains(\"La Repubblica\"), \"Outlet\"] = \"Corriere dello Sport\""
   ]
  },
  {
   "cell_type": "code",
   "execution_count": 32,
   "id": "6e7b65fc",
   "metadata": {},
   "outputs": [],
   "source": [
    "df_players.loc[df_players['Outlet'].str.contains(\"Foot Mercato\"), \"Outlet\"] = \"L'Equipe\"\n",
    "df_players.loc[df_players['Outlet'].str.contains(\"Le Parisien\"), \"Outlet\"] = \"L'Equipe\""
   ]
  },
  {
   "cell_type": "code",
   "execution_count": 33,
   "id": "2083e925",
   "metadata": {},
   "outputs": [],
   "source": [
    "df_players.loc[df_players['Outlet'].str.contains(\"Bild\"), \"Outlet\"] = \"Bild\""
   ]
  },
  {
   "cell_type": "markdown",
   "id": "e6177b84",
   "metadata": {},
   "source": [
    "#### Language to Journal"
   ]
  },
  {
   "cell_type": "code",
   "execution_count": 34,
   "id": "2f965d8a",
   "metadata": {},
   "outputs": [],
   "source": [
    "df_players.loc[df_players['Outlet'].str.contains(\"Portuguese\"), \"Outlet\"] = \"Portuguese\""
   ]
  },
  {
   "cell_type": "code",
   "execution_count": 35,
   "id": "fa2f944f",
   "metadata": {},
   "outputs": [],
   "source": [
    "df_players.loc[df_players['Outlet'].str.contains(\"Dutch\"), \"Outlet\"] = \"Dutch\""
   ]
  },
  {
   "cell_type": "code",
   "execution_count": 36,
   "id": "3cea0fe8",
   "metadata": {},
   "outputs": [],
   "source": [
    "df_players.loc[df_players['Outlet'].str.contains(\"Spanish\"), \"Outlet\"] = \"Marca\""
   ]
  },
  {
   "cell_type": "code",
   "execution_count": 37,
   "id": "39b28c05",
   "metadata": {},
   "outputs": [],
   "source": [
    "df_players.loc[df_players['Outlet'].str.contains(\"German\"), \"Outlet\"] = \"Bild\""
   ]
  },
  {
   "cell_type": "code",
   "execution_count": 38,
   "id": "f792b870",
   "metadata": {},
   "outputs": [],
   "source": [
    "df_players.loc[df_players['Outlet'].str.contains(\"French\"), \"Outlet\"] = \"L'Equipe\""
   ]
  },
  {
   "cell_type": "code",
   "execution_count": 39,
   "id": "7ca344a7",
   "metadata": {},
   "outputs": [],
   "source": [
    "df_players.loc[df_players['Outlet'].str.contains(\"Italian\"), \"Outlet\"] = \"Calcio mercato\""
   ]
  },
  {
   "cell_type": "code",
   "execution_count": 40,
   "id": "4c245031",
   "metadata": {},
   "outputs": [],
   "source": [
    "df_players = df_players.applymap(lambda x: x.strip() if isinstance(x, str) else x)"
   ]
  },
  {
   "cell_type": "markdown",
   "id": "4dbb5804",
   "metadata": {},
   "source": [
    "#### Special Cases"
   ]
  },
  {
   "cell_type": "code",
   "execution_count": 41,
   "id": "baacb647",
   "metadata": {},
   "outputs": [],
   "source": [
    "#LAST CHECK\n",
    "for outlet in df_players.loc[df_players['Outlet'].str.contains(\"-\"), \"Outlet\"] : \n",
    "    df_players.loc[df_players['Outlet'] == outlet, \"Outlet\"] = outlet.split(\"-\")[0]\n",
    "\n",
    "for outlet in df_players.loc[df_players['Outlet'].str.contains(\",\"), \"Outlet\"] : \n",
    "    df_players.loc[df_players['Outlet'] == outlet, \"Outlet\"] = outlet.split(\",\")[0]"
   ]
  },
  {
   "cell_type": "markdown",
   "id": "7f169c4a",
   "metadata": {},
   "source": [
    "#### Analysis of unique"
   ]
  },
  {
   "cell_type": "code",
   "execution_count": 42,
   "id": "16d34bf0",
   "metadata": {},
   "outputs": [
    {
     "data": {
      "text/plain": [
       "140"
      ]
     },
     "execution_count": 42,
     "metadata": {},
     "output_type": "execute_result"
    }
   ],
   "source": [
    "len(df_players['Outlet'].unique())"
   ]
  },
  {
   "cell_type": "code",
   "execution_count": 43,
   "id": "d8749785",
   "metadata": {},
   "outputs": [],
   "source": [
    "testing = df_players['Outlet'].value_counts()"
   ]
  },
  {
   "cell_type": "code",
   "execution_count": 44,
   "id": "6d3488b5",
   "metadata": {},
   "outputs": [],
   "source": [
    "#testing[0:50]"
   ]
  },
  {
   "cell_type": "code",
   "execution_count": 37,
   "id": "306175b4",
   "metadata": {},
   "outputs": [],
   "source": [
    "#testing[50:100]"
   ]
  },
  {
   "cell_type": "code",
   "execution_count": 38,
   "id": "f4c4c9cd",
   "metadata": {},
   "outputs": [],
   "source": [
    "df_players.to_csv(\"Outlets_Cleaned.csv\", encoding='utf-8')"
   ]
  }
 ],
 "metadata": {
  "kernelspec": {
   "display_name": "Python 3 (ipykernel)",
   "language": "python",
   "name": "python3"
  },
  "language_info": {
   "codemirror_mode": {
    "name": "ipython",
    "version": 3
   },
   "file_extension": ".py",
   "mimetype": "text/x-python",
   "name": "python",
   "nbconvert_exporter": "python",
   "pygments_lexer": "ipython3",
   "version": "3.10.9"
  }
 },
 "nbformat": 4,
 "nbformat_minor": 5
}
