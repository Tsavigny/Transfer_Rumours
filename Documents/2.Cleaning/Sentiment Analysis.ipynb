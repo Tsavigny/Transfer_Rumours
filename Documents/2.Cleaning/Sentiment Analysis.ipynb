{
 "cells": [
  {
   "cell_type": "code",
   "execution_count": 1,
   "id": "7408f66a",
   "metadata": {},
   "outputs": [],
   "source": [
    "import pandas as pd \n",
    "import numpy as np\n",
    "import regex as re"
   ]
  },
  {
   "cell_type": "markdown",
   "id": "13643640",
   "metadata": {},
   "source": [
    "#### Sentiment Analysis"
   ]
  },
  {
   "cell_type": "code",
   "execution_count": 2,
   "id": "4497ca6b",
   "metadata": {},
   "outputs": [],
   "source": [
    "import nltk\n",
    "from nltk.sentiment.vader import SentimentIntensityAnalyzer"
   ]
  },
  {
   "cell_type": "code",
   "execution_count": 3,
   "id": "eb1839b4",
   "metadata": {},
   "outputs": [],
   "source": [
    "df_sent = pd.read_csv(\"Rumours_NER.csv\", index_col = [0] )\n",
    "df = df_sent"
   ]
  },
  {
   "cell_type": "code",
   "execution_count": 4,
   "id": "c952f18b",
   "metadata": {},
   "outputs": [],
   "source": [
    "#Words which affect in the wrong way, remove them from the rumours text\n",
    "df_sent[\"Rumour\"] = df_sent[\"Rumour\"].str.replace(\"attacking\", \"\")\n",
    "df_sent[\"Rumour\"] = df_sent[\"Rumour\"].str.replace(\"attack\", \"\")\n",
    "df_sent[\"Rumour\"] = df_sent[\"Rumour\"].str.replace(\"Rob\", \"\")\n",
    "df_sent[\"Rumour\"] = df_sent[\"Rumour\"].str.replace(\"Angers\", \"\")\n",
    "df_sent[\"Rumour\"] = df_sent[\"Rumour\"].str.replace(\"lower\", \"\")\n",
    "df_sent[\"Rumour\"] = df_sent[\"Rumour\"].str.replace(\"contenders\", \"\")\n",
    "df_sent[\"Rumour\"] = df_sent[\"Rumour\"].str.replace(\"battle\", \"\")\n",
    "df_sent[\"Rumour\"] = df_sent[\"Rumour\"].str.replace(\"serious\", \"\")\n",
    "df_sent[\"Rumour\"] = df_sent[\"Rumour\"].str.replace(\"cancel\", \"\")\n",
    "df_sent[\"Rumour\"] = df_sent[\"Rumour\"].str.replace(\"struggling\", \"\")\n",
    "df_sent[\"Rumour\"] = df_sent[\"Rumour\"].str.replace(\"accidentally\", \"\")\n",
    "df_sent[\"Rumour\"] = df_sent[\"Rumour\"].str.replace(\"must\", \"\")\n",
    "df_sent[\"Rumour\"] = df_sent[\"Rumour\"].str.replace(\"demanding\", \"\")\n"
   ]
  },
  {
   "cell_type": "code",
   "execution_count": 5,
   "id": "6cedbe7e",
   "metadata": {},
   "outputs": [],
   "source": [
    "#nltk.download(\"vader_lexicon\")"
   ]
  },
  {
   "cell_type": "code",
   "execution_count": 6,
   "id": "98913010",
   "metadata": {},
   "outputs": [],
   "source": [
    "analyzer = SentimentIntensityAnalyzer()"
   ]
  },
  {
   "cell_type": "code",
   "execution_count": 7,
   "id": "7c60f319",
   "metadata": {},
   "outputs": [],
   "source": [
    "def get_sentiment(text):\n",
    "    scores = analyzer.polarity_scores(text)\n",
    "    compound_score = scores[\"compound\"]\n",
    "\n",
    "    if compound_score >= 0.05:\n",
    "        return \"Positive\"\n",
    "    elif compound_score > -0.05 and compound_score < 0.05:\n",
    "        return \"Neutral\"\n",
    "    else:\n",
    "        return \"Negative\""
   ]
  },
  {
   "cell_type": "code",
   "execution_count": 8,
   "id": "74c11cea",
   "metadata": {},
   "outputs": [],
   "source": [
    "#This allows to iterate through the clubs despite it being converted to string rather than list when opening\n",
    "from ast import literal_eval"
   ]
  },
  {
   "cell_type": "code",
   "execution_count": 9,
   "id": "baf11dca",
   "metadata": {},
   "outputs": [],
   "source": [
    "#Splitting the rumour where a club name is recognised, then taking the 3 following words and getting a sentiment. \n",
    "#If for one of the clubs is negative, we say the rumour has a negative score\n",
    "score = [] \n",
    "for i in range(len(df_sent)) : #len(df\n",
    "    temp = []\n",
    "    for club in literal_eval(df_sent.iloc[i,3]) :\n",
    "        my_regex = r'\\b' + club + r'\\b(?:\\s*\\S+\\s*?){3}'\n",
    "        text = re.findall(my_regex, df.iloc[i,0])\n",
    "        temp.append(get_sentiment(\"\".join(text)))\n",
    "    if \"Negative\" in temp : \n",
    "        score.append(\"Negative\")\n",
    "    else : \n",
    "         score.append(\"Positive\")    "
   ]
  },
  {
   "cell_type": "code",
   "execution_count": 10,
   "id": "a1908bdd",
   "metadata": {},
   "outputs": [],
   "source": [
    "#Code to print which lines are negative\n",
    "\n",
    "#for i in range(len(df_sent)) : #len(df\n",
    "#    temp = []\n",
    "#    for club in literal_eval(df_sent.iloc[i,3]) :\n",
    "#        my_regex = r'\\b' + club + r'\\b(?:\\s*\\S+\\s*?){3}'\n",
    "#        text = re.findall(my_regex, df.iloc[i,0])\n",
    "#        if get_sentiment(\"\".join(text)) == \"Negative\" : \n",
    "#            print(text)\n",
    "#            print(df_sent.iloc[i,0])\n",
    "#"
   ]
  },
  {
   "cell_type": "code",
   "execution_count": 11,
   "id": "ffabd1b9",
   "metadata": {},
   "outputs": [],
   "source": [
    "df[\"Score\"] = score"
   ]
  },
  {
   "cell_type": "code",
   "execution_count": 12,
   "id": "874fc846",
   "metadata": {},
   "outputs": [],
   "source": [
    "df.to_csv('Rumours_Sent.csv', encoding='utf-8')"
   ]
  },
  {
   "cell_type": "code",
   "execution_count": 13,
   "id": "bdb22b4a",
   "metadata": {},
   "outputs": [
    {
     "data": {
      "text/plain": [
       "71"
      ]
     },
     "execution_count": 13,
     "metadata": {},
     "output_type": "execute_result"
    }
   ],
   "source": [
    "len(list(df_sent.loc[df_sent[\"Score\"] == \"Negative\", \"Rumour\"]))"
   ]
  }
 ],
 "metadata": {
  "kernelspec": {
   "display_name": "Python 3 (ipykernel)",
   "language": "python",
   "name": "python3"
  },
  "language_info": {
   "codemirror_mode": {
    "name": "ipython",
    "version": 3
   },
   "file_extension": ".py",
   "mimetype": "text/x-python",
   "name": "python",
   "nbconvert_exporter": "python",
   "pygments_lexer": "ipython3",
   "version": "3.10.9"
  }
 },
 "nbformat": 4,
 "nbformat_minor": 5
}
