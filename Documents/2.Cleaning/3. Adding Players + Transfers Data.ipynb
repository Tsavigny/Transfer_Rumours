{
 "cells": [
  {
   "cell_type": "code",
   "execution_count": 1,
   "id": "7408f66a",
   "metadata": {},
   "outputs": [],
   "source": [
    "import pandas as pd \n",
    "import numpy as np\n",
    "import regex as re"
   ]
  },
  {
   "cell_type": "markdown",
   "id": "6dcda2af",
   "metadata": {},
   "source": [
    "#### Adding The Player Info"
   ]
  },
  {
   "cell_type": "code",
   "execution_count": 2,
   "id": "98364b4d",
   "metadata": {},
   "outputs": [],
   "source": [
    "players_2020 = pd.read_csv(\"C:/Users/Titoran/Documents/Cleaned Players Data/Players_2020.csv\", index_col = [0])\n",
    "players_2021 = pd.read_csv(\"C:/Users/Titoran/Documents/Cleaned Players Data/Players_2021.csv\", index_col = [0])\n",
    "players_2022 = pd.read_csv(\"C:/Users/Titoran/Documents/Cleaned Players Data/Players_2022.csv\", index_col = [0])"
   ]
  },
  {
   "cell_type": "code",
   "execution_count": 3,
   "id": "4af784f0",
   "metadata": {},
   "outputs": [],
   "source": [
    "df_NER = pd.read_csv('Rumours_Sent.csv', index_col = [0] )"
   ]
  },
  {
   "cell_type": "code",
   "execution_count": 4,
   "id": "bc81f863",
   "metadata": {},
   "outputs": [],
   "source": [
    "df_NER = df_NER.loc[df_NER[\"Score\"] == \"Positive\",]\n",
    "df_NER = df_NER.drop(['Score'], axis=1)"
   ]
  },
  {
   "cell_type": "code",
   "execution_count": 5,
   "id": "196b4f79",
   "metadata": {},
   "outputs": [],
   "source": [
    "#Unlisting the players to then join them\n",
    "#df_NER[\"Player\"] = [str(''.join(map(str, l))) for l in df_NER['Player']]"
   ]
  },
  {
   "cell_type": "code",
   "execution_count": 6,
   "id": "bfdf53c1",
   "metadata": {},
   "outputs": [],
   "source": [
    "#Maing sure just the player name is in the column\n",
    "df_NER[\"Player\"] = df_NER[\"Player\"].apply(lambda x: x[2:-2])"
   ]
  },
  {
   "cell_type": "code",
   "execution_count": 7,
   "id": "63b2a3ab",
   "metadata": {},
   "outputs": [],
   "source": [
    "df2020 = df_NER.loc[df_NER[\"Year\"] == 2020,]"
   ]
  },
  {
   "cell_type": "code",
   "execution_count": 8,
   "id": "1f966328",
   "metadata": {},
   "outputs": [],
   "source": [
    "df2021 = df_NER.loc[df_NER[\"Year\"] == 2021,]"
   ]
  },
  {
   "cell_type": "code",
   "execution_count": 9,
   "id": "d6c1d624",
   "metadata": {},
   "outputs": [],
   "source": [
    "df2022 = df_NER.loc[df_NER[\"Year\"] == 2022,]"
   ]
  },
  {
   "cell_type": "code",
   "execution_count": 10,
   "id": "671cc5cd",
   "metadata": {},
   "outputs": [],
   "source": [
    "df0 = df2020.merge(players_2020, how='left', on='Player')"
   ]
  },
  {
   "cell_type": "code",
   "execution_count": 11,
   "id": "911fe34c",
   "metadata": {},
   "outputs": [],
   "source": [
    "df0 = df0.drop(['Year_y'], axis=1)\n",
    "df0 = df0.rename(columns={'Year_x': 'Year'})"
   ]
  },
  {
   "cell_type": "code",
   "execution_count": 12,
   "id": "83d01dc2",
   "metadata": {},
   "outputs": [],
   "source": [
    "df1 = df2021.merge(players_2021, how='left', on='Player')"
   ]
  },
  {
   "cell_type": "code",
   "execution_count": 13,
   "id": "0df46a61",
   "metadata": {},
   "outputs": [],
   "source": [
    "df1 = df1.drop(['Year_y'], axis=1)\n",
    "df1 = df1.rename(columns={'Year_x': 'Year'})"
   ]
  },
  {
   "cell_type": "code",
   "execution_count": 14,
   "id": "b3706a6f",
   "metadata": {},
   "outputs": [],
   "source": [
    "df2 = df2022.merge(players_2022, how='left', on='Player')"
   ]
  },
  {
   "cell_type": "code",
   "execution_count": 15,
   "id": "bc819b64",
   "metadata": {},
   "outputs": [],
   "source": [
    "df2 = df2.drop(['Year_y'], axis=1)\n",
    "df2 = df2.rename(columns={'Year_x': 'Year'})"
   ]
  },
  {
   "cell_type": "code",
   "execution_count": 16,
   "id": "3df8541a",
   "metadata": {},
   "outputs": [],
   "source": [
    "df_players = pd.concat([ df0, df1, df2], axis=0)"
   ]
  },
  {
   "cell_type": "markdown",
   "id": "902fa599",
   "metadata": {},
   "source": [
    "#### Club Name Cleaning"
   ]
  },
  {
   "cell_type": "markdown",
   "id": "52ccec41",
   "metadata": {},
   "source": [
    "In the dictionary of clubs for NER, I added common nicknames of clubs which could be used. This section retransforms these names to the clubs proper name"
   ]
  },
  {
   "cell_type": "code",
   "execution_count": 17,
   "id": "d9f71b89",
   "metadata": {},
   "outputs": [],
   "source": [
    "df_players[\"Clubs\"] = [l.replace(\"PSG\", \"Paris Saint-Germain\") for l in df_players[\"Clubs\"]]"
   ]
  },
  {
   "cell_type": "code",
   "execution_count": 18,
   "id": "f33ffc79",
   "metadata": {},
   "outputs": [],
   "source": [
    "df_players[\"Clubs\"] = [l.replace(\"Reds\", \"Manchester United\") for l in df_players[\"Clubs\"]]\n",
    "df_players[\"Clubs\"] = [l.replace(\"Red Devils\", \"Manchester United\") for l in df_players[\"Clubs\"]]"
   ]
  },
  {
   "cell_type": "code",
   "execution_count": 19,
   "id": "6f71b26a",
   "metadata": {},
   "outputs": [],
   "source": [
    "df_players[\"Clubs\"] = [l.replace(\"Blues\", \"Chelsea\") for l in df_players[\"Clubs\"]]"
   ]
  },
  {
   "cell_type": "code",
   "execution_count": 20,
   "id": "df55ff2d",
   "metadata": {},
   "outputs": [],
   "source": [
    "df_players[\"Clubs\"] = [l.replace(\"Gunners\", \"Arsenal\") for l in df_players[\"Clubs\"]]"
   ]
  },
  {
   "cell_type": "code",
   "execution_count": 21,
   "id": "f426c397",
   "metadata": {},
   "outputs": [],
   "source": [
    "df_players[\"Clubs\"] = [l.replace(\"Spurs\", \"Tottenham\") for l in df_players[\"Clubs\"]]"
   ]
  },
  {
   "cell_type": "markdown",
   "id": "b1fcef12",
   "metadata": {},
   "source": [
    "#### Finding the interested club"
   ]
  },
  {
   "cell_type": "code",
   "execution_count": 22,
   "id": "22cac80f",
   "metadata": {},
   "outputs": [],
   "source": [
    "#Similiarty between words function to account for small differences in how cubs are spelt\n",
    "from difflib import SequenceMatcher\n",
    "def similar(a, b):\n",
    "    return SequenceMatcher(None, a, b).ratio()"
   ]
  },
  {
   "cell_type": "code",
   "execution_count": 23,
   "id": "11f9fd16",
   "metadata": {},
   "outputs": [],
   "source": [
    "#This allows to iterate through a list\n",
    "from ast import literal_eval"
   ]
  },
  {
   "cell_type": "code",
   "execution_count": 24,
   "id": "fe8b272b",
   "metadata": {},
   "outputs": [],
   "source": [
    "#For each club in the clubs column, we check if the name is, or is similar to the name of the players club.\n",
    "#If its not , we assume this club is interested in buying the player and add it to a new column which will contain the interested clubs.\n",
    "n = 0\n",
    "interested_club = []\n",
    "for row in df_players[\"Clubs\"] : \n",
    "    temp = []\n",
    "    for club in literal_eval(row) : \n",
    "        if (similar(club, str(df_players.iloc[n,12])) < 0.7) & (club not in str(df_players.iloc[n,12]))  :\n",
    "            temp.append(club)\n",
    "    interested_club.append(temp)\n",
    "    n += 1"
   ]
  },
  {
   "cell_type": "code",
   "execution_count": 25,
   "id": "c5d4a8b6",
   "metadata": {},
   "outputs": [],
   "source": [
    "df_players[\"Interested_clubs\"] = interested_club"
   ]
  },
  {
   "cell_type": "code",
   "execution_count": 26,
   "id": "8c301d2b",
   "metadata": {},
   "outputs": [],
   "source": [
    "#df_players.iloc[0:50,[3,4,12,13]]"
   ]
  },
  {
   "cell_type": "markdown",
   "id": "ab02ea4a",
   "metadata": {},
   "source": [
    "#### Checking for the Transfer"
   ]
  },
  {
   "cell_type": "code",
   "execution_count": 27,
   "id": "f16136b0",
   "metadata": {},
   "outputs": [],
   "source": [
    "transfers = pd.read_csv(\"C:/Users/Titoran/Documents/Transfers Data/transfers.csv\", index_col = [0])"
   ]
  },
  {
   "cell_type": "code",
   "execution_count": 28,
   "id": "2f189ee9",
   "metadata": {},
   "outputs": [],
   "source": [
    "#For each row, we check if the player has been involved in a transfer to one of the interested clubs. If yes, we consider the outcome to be True\n",
    "\n",
    "Outcome = []\n",
    "#n allows to keep track of which row we are iterating through\n",
    "n = 0 \n",
    "for player in df_players[\"Player\"] :\n",
    "    temp = 0 \n",
    "    try : \n",
    "        for interested in df_players.iloc[n,13] : \n",
    "            for club in transfers.loc[(transfers[\"player_name\"] == player), \"club_name\"] :\n",
    "                if ((similar(club, str(interested)) > 0.7) | (club in str(interested)) | (str(interested) in club)):  \n",
    "                    temp = 1\n",
    "        if temp == 1 : \n",
    "            Outcome.append(\"True\")\n",
    "        else : \n",
    "            Outcome.append(\"False\")\n",
    "    except IndexError : \n",
    "            Outcome.append(\"False\")\n",
    "    n += 1"
   ]
  },
  {
   "cell_type": "code",
   "execution_count": 29,
   "id": "ec7a975a",
   "metadata": {},
   "outputs": [],
   "source": [
    "df_players[\"Outcome\"] = Outcome"
   ]
  },
  {
   "cell_type": "code",
   "execution_count": 30,
   "id": "da48d6a1",
   "metadata": {},
   "outputs": [
    {
     "data": {
      "text/html": [
       "<div>\n",
       "<style scoped>\n",
       "    .dataframe tbody tr th:only-of-type {\n",
       "        vertical-align: middle;\n",
       "    }\n",
       "\n",
       "    .dataframe tbody tr th {\n",
       "        vertical-align: top;\n",
       "    }\n",
       "\n",
       "    .dataframe thead th {\n",
       "        text-align: right;\n",
       "    }\n",
       "</style>\n",
       "<table border=\"1\" class=\"dataframe\">\n",
       "  <thead>\n",
       "    <tr style=\"text-align: right;\">\n",
       "      <th></th>\n",
       "      <th>Rumour</th>\n",
       "      <th>Year</th>\n",
       "      <th>Outlet</th>\n",
       "      <th>Clubs</th>\n",
       "      <th>Player</th>\n",
       "      <th>League</th>\n",
       "      <th>Player Link</th>\n",
       "      <th>Position</th>\n",
       "      <th>Age</th>\n",
       "      <th>Country</th>\n",
       "      <th>Join</th>\n",
       "      <th>Market Value</th>\n",
       "      <th>Club</th>\n",
       "      <th>Interested_clubs</th>\n",
       "      <th>Outcome</th>\n",
       "    </tr>\n",
       "  </thead>\n",
       "  <tbody>\n",
       "    <tr>\n",
       "      <th>0</th>\n",
       "      <td>Newly-crowned Premier League champions Liverpo...</td>\n",
       "      <td>2020</td>\n",
       "      <td>Tuttomercato, via Mail</td>\n",
       "      <td>['Liverpool', 'Napoli']</td>\n",
       "      <td>Kalidou Koulibaly</td>\n",
       "      <td>Serie A</td>\n",
       "      <td>https://www.transfermarkt.co.uk/kalidou-koulib...</td>\n",
       "      <td>Centre-Back</td>\n",
       "      <td>30.0</td>\n",
       "      <td>Senegal</td>\n",
       "      <td>2922.0</td>\n",
       "      <td>48.0</td>\n",
       "      <td>SSC Napoli</td>\n",
       "      <td>[Liverpool]</td>\n",
       "      <td>False</td>\n",
       "    </tr>\n",
       "    <tr>\n",
       "      <th>1</th>\n",
       "      <td>Bayer Leverkusen coach Peter Bosz accepts that...</td>\n",
       "      <td>2020</td>\n",
       "      <td>Sun</td>\n",
       "      <td>['Bayer Leverkusen', 'Chelsea', 'Real Madrid',...</td>\n",
       "      <td>Kai Havertz</td>\n",
       "      <td>Premier League</td>\n",
       "      <td>https://www.transfermarkt.co.uk/kai-havertz/pr...</td>\n",
       "      <td>Attacking Midfield</td>\n",
       "      <td>22.0</td>\n",
       "      <td>Germany</td>\n",
       "      <td>665.0</td>\n",
       "      <td>70.0</td>\n",
       "      <td>Chelsea</td>\n",
       "      <td>[Bayer Leverkusen, Real Madrid, Manchester Uni...</td>\n",
       "      <td>False</td>\n",
       "    </tr>\n",
       "    <tr>\n",
       "      <th>2</th>\n",
       "      <td>Juventus director Fabio Paratici has played do...</td>\n",
       "      <td>2020</td>\n",
       "      <td>Sky Sports Italia, via Metro</td>\n",
       "      <td>['Juventus', 'Manchester United', 'Arsenal', '...</td>\n",
       "      <td>Adrien Rabiot</td>\n",
       "      <td>Serie A</td>\n",
       "      <td>https://www.transfermarkt.co.uk/adrien-rabiot/...</td>\n",
       "      <td>Central Midfield</td>\n",
       "      <td>26.0</td>\n",
       "      <td>France</td>\n",
       "      <td>1096.0</td>\n",
       "      <td>30.0</td>\n",
       "      <td>Juventus</td>\n",
       "      <td>[Manchester United, Arsenal, Everton]</td>\n",
       "      <td>False</td>\n",
       "    </tr>\n",
       "    <tr>\n",
       "      <th>3</th>\n",
       "      <td>The much rumoured midfielder swap deal involvi...</td>\n",
       "      <td>2020</td>\n",
       "      <td>Calciomercato</td>\n",
       "      <td>['Barcelona', 'Juventus']</td>\n",
       "      <td>Miralem Pjanic</td>\n",
       "      <td>LaLiga</td>\n",
       "      <td>https://www.transfermarkt.co.uk/miralem-pjanic...</td>\n",
       "      <td>Central Midfield</td>\n",
       "      <td>31.0</td>\n",
       "      <td>Bosnia-Herzegovina</td>\n",
       "      <td>668.0</td>\n",
       "      <td>20.0</td>\n",
       "      <td>Barcelona</td>\n",
       "      <td>[Juventus]</td>\n",
       "      <td>False</td>\n",
       "    </tr>\n",
       "    <tr>\n",
       "      <th>4</th>\n",
       "      <td>Real Valladolid want to extend Sandro Ramirez'...</td>\n",
       "      <td>2020</td>\n",
       "      <td>Liverpool Echo</td>\n",
       "      <td>['Valladolid', 'Everton']</td>\n",
       "      <td>Sandro Ramirez</td>\n",
       "      <td>LaLiga</td>\n",
       "      <td>https://www.transfermarkt.co.uk/sandro-ramirez...</td>\n",
       "      <td>Centre-Forward</td>\n",
       "      <td>25.0</td>\n",
       "      <td>Spain</td>\n",
       "      <td>634.0</td>\n",
       "      <td>3.5</td>\n",
       "      <td>SD Huesca</td>\n",
       "      <td>[Valladolid, Everton]</td>\n",
       "      <td>True</td>\n",
       "    </tr>\n",
       "    <tr>\n",
       "      <th>...</th>\n",
       "      <td>...</td>\n",
       "      <td>...</td>\n",
       "      <td>...</td>\n",
       "      <td>...</td>\n",
       "      <td>...</td>\n",
       "      <td>...</td>\n",
       "      <td>...</td>\n",
       "      <td>...</td>\n",
       "      <td>...</td>\n",
       "      <td>...</td>\n",
       "      <td>...</td>\n",
       "      <td>...</td>\n",
       "      <td>...</td>\n",
       "      <td>...</td>\n",
       "      <td>...</td>\n",
       "    </tr>\n",
       "    <tr>\n",
       "      <th>995</th>\n",
       "      <td>Tottenham full-back Djed Spence, 22, is set to...</td>\n",
       "      <td>2022</td>\n",
       "      <td>Athletic - subscription required</td>\n",
       "      <td>['Tottenham', 'Rennes']</td>\n",
       "      <td>Djed Spence</td>\n",
       "      <td>Championship</td>\n",
       "      <td>https://www.transfermarkt.co.uk/djed-spence/pr...</td>\n",
       "      <td>Right-Back</td>\n",
       "      <td>21.0</td>\n",
       "      <td>England</td>\n",
       "      <td>912.0</td>\n",
       "      <td>8.0</td>\n",
       "      <td>Middlesbrough</td>\n",
       "      <td>[Tottenham, Rennes]</td>\n",
       "      <td>True</td>\n",
       "    </tr>\n",
       "    <tr>\n",
       "      <th>996</th>\n",
       "      <td>Leeds have enquired about signing Italy winger...</td>\n",
       "      <td>2022</td>\n",
       "      <td>Calciomercato</td>\n",
       "      <td>['Leeds', 'Roma']</td>\n",
       "      <td>Nicolo Zaniolo</td>\n",
       "      <td>Serie A</td>\n",
       "      <td>https://www.transfermarkt.co.uk/nicolo-zaniolo...</td>\n",
       "      <td>Attacking Midfield</td>\n",
       "      <td>22.0</td>\n",
       "      <td>Italy</td>\n",
       "      <td>1461.0</td>\n",
       "      <td>33.0</td>\n",
       "      <td>AS Roma</td>\n",
       "      <td>[Leeds]</td>\n",
       "      <td>False</td>\n",
       "    </tr>\n",
       "    <tr>\n",
       "      <th>997</th>\n",
       "      <td>A training ground bust-up between Joao Cancelo...</td>\n",
       "      <td>2022</td>\n",
       "      <td>Mail</td>\n",
       "      <td>['Manchester City', 'Bayern Munich']</td>\n",
       "      <td>Joao Cancelo</td>\n",
       "      <td>Premier League</td>\n",
       "      <td>https://www.transfermarkt.co.uk/joao-cancelo/p...</td>\n",
       "      <td>Right-Back</td>\n",
       "      <td>28.0</td>\n",
       "      <td>Portugal</td>\n",
       "      <td>1059.0</td>\n",
       "      <td>65.0</td>\n",
       "      <td>Manchester City</td>\n",
       "      <td>[Bayern Munich]</td>\n",
       "      <td>False</td>\n",
       "    </tr>\n",
       "    <tr>\n",
       "      <th>998</th>\n",
       "      <td>Norwich are close to signing 19-year-old Brazi...</td>\n",
       "      <td>2022</td>\n",
       "      <td>Express</td>\n",
       "      <td>['Norwich', 'Arsenal']</td>\n",
       "      <td>Marquinhos</td>\n",
       "      <td>Ligue 1</td>\n",
       "      <td>https://www.transfermarkt.co.uk/marquinhos/pro...</td>\n",
       "      <td>Centre-Back</td>\n",
       "      <td>28.0</td>\n",
       "      <td>Brazil</td>\n",
       "      <td>3269.0</td>\n",
       "      <td>70.0</td>\n",
       "      <td>Paris Saint-Germain</td>\n",
       "      <td>[Norwich, Arsenal]</td>\n",
       "      <td>True</td>\n",
       "    </tr>\n",
       "    <tr>\n",
       "      <th>999</th>\n",
       "      <td>Leeds are willing to listen to offers for Jack...</td>\n",
       "      <td>2022</td>\n",
       "      <td>LeedsLive</td>\n",
       "      <td>['Leeds', 'Leicester']</td>\n",
       "      <td>Jack Harrison</td>\n",
       "      <td>Premier League</td>\n",
       "      <td>https://www.transfermarkt.co.uk/jack-harrison/...</td>\n",
       "      <td>Left Winger</td>\n",
       "      <td>25.0</td>\n",
       "      <td>England</td>\n",
       "      <td>364.0</td>\n",
       "      <td>18.0</td>\n",
       "      <td>Leeds United</td>\n",
       "      <td>[Leicester]</td>\n",
       "      <td>False</td>\n",
       "    </tr>\n",
       "  </tbody>\n",
       "</table>\n",
       "<p>1849 rows × 15 columns</p>\n",
       "</div>"
      ],
      "text/plain": [
       "                                                Rumour  Year  \\\n",
       "0    Newly-crowned Premier League champions Liverpo...  2020   \n",
       "1    Bayer Leverkusen coach Peter Bosz accepts that...  2020   \n",
       "2    Juventus director Fabio Paratici has played do...  2020   \n",
       "3    The much rumoured midfielder swap deal involvi...  2020   \n",
       "4    Real Valladolid want to extend Sandro Ramirez'...  2020   \n",
       "..                                                 ...   ...   \n",
       "995  Tottenham full-back Djed Spence, 22, is set to...  2022   \n",
       "996  Leeds have enquired about signing Italy winger...  2022   \n",
       "997  A training ground bust-up between Joao Cancelo...  2022   \n",
       "998  Norwich are close to signing 19-year-old Brazi...  2022   \n",
       "999  Leeds are willing to listen to offers for Jack...  2022   \n",
       "\n",
       "                               Outlet  \\\n",
       "0              Tuttomercato, via Mail   \n",
       "1                                 Sun   \n",
       "2        Sky Sports Italia, via Metro   \n",
       "3                       Calciomercato   \n",
       "4                      Liverpool Echo   \n",
       "..                                ...   \n",
       "995  Athletic - subscription required   \n",
       "996                     Calciomercato   \n",
       "997                              Mail   \n",
       "998                           Express   \n",
       "999                         LeedsLive   \n",
       "\n",
       "                                                 Clubs             Player  \\\n",
       "0                              ['Liverpool', 'Napoli']  Kalidou Koulibaly   \n",
       "1    ['Bayer Leverkusen', 'Chelsea', 'Real Madrid',...        Kai Havertz   \n",
       "2    ['Juventus', 'Manchester United', 'Arsenal', '...      Adrien Rabiot   \n",
       "3                            ['Barcelona', 'Juventus']     Miralem Pjanic   \n",
       "4                            ['Valladolid', 'Everton']     Sandro Ramirez   \n",
       "..                                                 ...                ...   \n",
       "995                            ['Tottenham', 'Rennes']        Djed Spence   \n",
       "996                                  ['Leeds', 'Roma']     Nicolo Zaniolo   \n",
       "997               ['Manchester City', 'Bayern Munich']       Joao Cancelo   \n",
       "998                             ['Norwich', 'Arsenal']         Marquinhos   \n",
       "999                             ['Leeds', 'Leicester']      Jack Harrison   \n",
       "\n",
       "             League                                        Player Link  \\\n",
       "0           Serie A  https://www.transfermarkt.co.uk/kalidou-koulib...   \n",
       "1    Premier League  https://www.transfermarkt.co.uk/kai-havertz/pr...   \n",
       "2           Serie A  https://www.transfermarkt.co.uk/adrien-rabiot/...   \n",
       "3            LaLiga  https://www.transfermarkt.co.uk/miralem-pjanic...   \n",
       "4            LaLiga  https://www.transfermarkt.co.uk/sandro-ramirez...   \n",
       "..              ...                                                ...   \n",
       "995    Championship  https://www.transfermarkt.co.uk/djed-spence/pr...   \n",
       "996         Serie A  https://www.transfermarkt.co.uk/nicolo-zaniolo...   \n",
       "997  Premier League  https://www.transfermarkt.co.uk/joao-cancelo/p...   \n",
       "998         Ligue 1  https://www.transfermarkt.co.uk/marquinhos/pro...   \n",
       "999  Premier League  https://www.transfermarkt.co.uk/jack-harrison/...   \n",
       "\n",
       "               Position   Age             Country    Join  Market Value  \\\n",
       "0           Centre-Back  30.0             Senegal  2922.0          48.0   \n",
       "1    Attacking Midfield  22.0             Germany   665.0          70.0   \n",
       "2      Central Midfield  26.0              France  1096.0          30.0   \n",
       "3      Central Midfield  31.0  Bosnia-Herzegovina   668.0          20.0   \n",
       "4        Centre-Forward  25.0               Spain   634.0           3.5   \n",
       "..                  ...   ...                 ...     ...           ...   \n",
       "995          Right-Back  21.0             England   912.0           8.0   \n",
       "996  Attacking Midfield  22.0               Italy  1461.0          33.0   \n",
       "997          Right-Back  28.0            Portugal  1059.0          65.0   \n",
       "998         Centre-Back  28.0              Brazil  3269.0          70.0   \n",
       "999         Left Winger  25.0             England   364.0          18.0   \n",
       "\n",
       "                    Club                                   Interested_clubs  \\\n",
       "0             SSC Napoli                                        [Liverpool]   \n",
       "1               Chelsea   [Bayer Leverkusen, Real Madrid, Manchester Uni...   \n",
       "2              Juventus               [Manchester United, Arsenal, Everton]   \n",
       "3              Barcelona                                         [Juventus]   \n",
       "4              SD Huesca                              [Valladolid, Everton]   \n",
       "..                   ...                                                ...   \n",
       "995       Middlesbrough                                 [Tottenham, Rennes]   \n",
       "996              AS Roma                                            [Leeds]   \n",
       "997      Manchester City                                    [Bayern Munich]   \n",
       "998  Paris Saint-Germain                                 [Norwich, Arsenal]   \n",
       "999         Leeds United                                        [Leicester]   \n",
       "\n",
       "    Outcome  \n",
       "0     False  \n",
       "1     False  \n",
       "2     False  \n",
       "3     False  \n",
       "4      True  \n",
       "..      ...  \n",
       "995    True  \n",
       "996   False  \n",
       "997   False  \n",
       "998    True  \n",
       "999   False  \n",
       "\n",
       "[1849 rows x 15 columns]"
      ]
     },
     "execution_count": 30,
     "metadata": {},
     "output_type": "execute_result"
    }
   ],
   "source": [
    "df_players"
   ]
  },
  {
   "cell_type": "code",
   "execution_count": 31,
   "id": "f1c46a11",
   "metadata": {},
   "outputs": [],
   "source": [
    "#Checking the transfers which did happen\n",
    "#df_players.loc[df_players[\"Outcome\"] == \"True\",]"
   ]
  },
  {
   "cell_type": "code",
   "execution_count": 32,
   "id": "9d4dd30e",
   "metadata": {},
   "outputs": [],
   "source": [
    "df_players.to_csv('Uncleaned_Data.csv', encoding='utf-8')"
   ]
  }
 ],
 "metadata": {
  "kernelspec": {
   "display_name": "Python 3 (ipykernel)",
   "language": "python",
   "name": "python3"
  },
  "language_info": {
   "codemirror_mode": {
    "name": "ipython",
    "version": 3
   },
   "file_extension": ".py",
   "mimetype": "text/x-python",
   "name": "python",
   "nbconvert_exporter": "python",
   "pygments_lexer": "ipython3",
   "version": "3.10.9"
  }
 },
 "nbformat": 4,
 "nbformat_minor": 5
}
