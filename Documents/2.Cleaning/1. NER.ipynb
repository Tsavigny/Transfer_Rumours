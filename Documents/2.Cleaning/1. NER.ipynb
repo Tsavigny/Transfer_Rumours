{
 "cells": [
  {
   "cell_type": "code",
   "execution_count": 1,
   "id": "7408f66a",
   "metadata": {},
   "outputs": [],
   "source": [
    "import spacy \n",
    "import pandas as pd \n",
    "from collections import Counter\n",
    "import en_core_web_lg\n",
    "import numpy as np\n",
    "import regex as re"
   ]
  },
  {
   "cell_type": "markdown",
   "id": "60613abc",
   "metadata": {},
   "source": [
    "#### Defining Function to Find Entities"
   ]
  },
  {
   "cell_type": "code",
   "execution_count": 2,
   "id": "74ebf6b9",
   "metadata": {},
   "outputs": [],
   "source": [
    "def find_persons(text):\n",
    "    # Create Doc object\n",
    "    doc2 = nlp(text)\n",
    "\n",
    "    # Identify the persons\n",
    "    persons = [ent.text for ent in doc2.ents if ent.label_ == 'Player']\n",
    "\n",
    "    # Return persons\n",
    "    return persons"
   ]
  },
  {
   "cell_type": "code",
   "execution_count": 3,
   "id": "a453a0aa",
   "metadata": {},
   "outputs": [],
   "source": [
    "def find_clubs(text):\n",
    "    # Create Doc object\n",
    "    doc2 = nlp(text)\n",
    "\n",
    "    # Identify the persons\n",
    "    clubs = [ent.text for ent in doc2.ents if ent.label_ == 'CLUB']\n",
    "\n",
    "    # Return persons\n",
    "    return clubs"
   ]
  },
  {
   "cell_type": "markdown",
   "id": "3d1523bd",
   "metadata": {},
   "source": [
    "#### Clubs NER "
   ]
  },
  {
   "cell_type": "code",
   "execution_count": 4,
   "id": "9f15a858",
   "metadata": {},
   "outputs": [],
   "source": [
    "clubs = pd.read_csv(\"C:/Users/Titoran/Documents/Dictionaries/Football_Leagues.csv\")"
   ]
  },
  {
   "cell_type": "code",
   "execution_count": 5,
   "id": "9e7944f5",
   "metadata": {},
   "outputs": [],
   "source": [
    "#Pre-processing the clubs dictionary which is partly done in Excel to add entries\n",
    "\n",
    "#Converting to list\n",
    "arr = clubs.to_numpy().flatten()\n",
    "clubs = list(arr)\n",
    "\n",
    "#Cleaning the text\n",
    "clubs = [str(w).replace('\\xa0', ' ') for w in clubs]\n",
    "clubs = [x for x in clubs if str(x) != 'nan']\n",
    "\n",
    "#Removing trailing spaces\n",
    "clubs = [str(w).strip() for w in clubs]"
   ]
  },
  {
   "cell_type": "code",
   "execution_count": 6,
   "id": "dcef5daa",
   "metadata": {},
   "outputs": [],
   "source": [
    "#Making sure there is no weird alphabet\n",
    "from unidecode import unidecode\n",
    "clubs = [unidecode(w) for w in clubs]"
   ]
  },
  {
   "cell_type": "code",
   "execution_count": 7,
   "id": "7adb9c40",
   "metadata": {},
   "outputs": [],
   "source": [
    "# Import EntityRuler class\n",
    "from spacy.pipeline import EntityRuler\n",
    "from spacy.language import Language\n",
    "nlp = spacy.blank(\"en\")\n",
    "\n",
    "ruler = nlp.add_pipe(\"entity_ruler\")"
   ]
  },
  {
   "cell_type": "code",
   "execution_count": 8,
   "id": "c2f56854",
   "metadata": {},
   "outputs": [],
   "source": [
    "#Creating the dictionary and the labels using the club data set we imported\n",
    "for word in clubs:\n",
    "    ruler.add_patterns([{\"label\":\"CLUB\", \"pattern\": word}])"
   ]
  },
  {
   "cell_type": "markdown",
   "id": "1f512ce5",
   "metadata": {},
   "source": [
    "#### Players NER"
   ]
  },
  {
   "cell_type": "code",
   "execution_count": 9,
   "id": "a6e41f36",
   "metadata": {},
   "outputs": [],
   "source": [
    "players_2020 = pd.read_csv(\"C:/Users/Titoran/Documents/Cleaned Players Data/Players_2020.csv\", index_col = [0])\n",
    "players_2021 = pd.read_csv(\"C:/Users/Titoran/Documents/Cleaned Players Data/Players_2021.csv\", index_col = [0])\n",
    "players_2022 = pd.read_csv(\"C:/Users/Titoran/Documents/Cleaned Players Data/Players_2022.csv\", index_col = [0])\n",
    "player_list = (list(players_2020[\"Player\"]) + list(players_2021[\"Player\"]) + list(players_2022[\"Player\"]))"
   ]
  },
  {
   "cell_type": "code",
   "execution_count": 10,
   "id": "84705c90",
   "metadata": {},
   "outputs": [],
   "source": [
    "#Getting all players which are not one word\n",
    "temp = []\n",
    "for element in player_list:\n",
    "    if np.char.count(element, \" \") > 0 : \n",
    "        temp.append(element)"
   ]
  },
  {
   "cell_type": "code",
   "execution_count": 11,
   "id": "4f3771fc",
   "metadata": {},
   "outputs": [],
   "source": [
    "#Players which are one word\n",
    "temp2 = []\n",
    "for element in players_2021[\"Player\"]:\n",
    "    if np.char.count(element, \" \") == 0 : \n",
    "        temp2.append(element)"
   ]
  },
  {
   "cell_type": "code",
   "execution_count": 12,
   "id": "3813cb26",
   "metadata": {},
   "outputs": [],
   "source": [
    "#Players I still want to add\n",
    "manual_entries = [\"Thiago\", \"Alisson\", \"Neymar\", \"Denilson\", \"Vitinho\", \"Martinelli\", \"Hulk\", \"Koke\", \"Raphinha\", \"Casemiro\", \"Marcelo\", \"Jorginho\", \"Ederson\", \"Willian\", \"Antony\", \"Marquinhos\"]"
   ]
  },
  {
   "cell_type": "code",
   "execution_count": 13,
   "id": "f954cda0",
   "metadata": {},
   "outputs": [],
   "source": [
    "player_list = temp + manual_entries"
   ]
  },
  {
   "cell_type": "code",
   "execution_count": 14,
   "id": "6f46dd3c",
   "metadata": {},
   "outputs": [],
   "source": [
    "#Since we add all the players from different years, we have many duplicate names to delete. Unique returns only one instance of each value in a list\n",
    "def unique(list1):\n",
    "    # insert the list to the set\n",
    "    list_set = set(list1)\n",
    "    # convert the set to the list\n",
    "    unique_list = (list(list_set))\n",
    "    return unique_list"
   ]
  },
  {
   "cell_type": "code",
   "execution_count": 15,
   "id": "0def2e13",
   "metadata": {},
   "outputs": [],
   "source": [
    "player_list = unique(player_list)"
   ]
  },
  {
   "cell_type": "code",
   "execution_count": 16,
   "id": "172d10b9",
   "metadata": {},
   "outputs": [],
   "source": [
    "#Making sure there is no weird alphabet\n",
    "player_list = [unidecode(w) for w in player_list]"
   ]
  },
  {
   "cell_type": "code",
   "execution_count": 17,
   "id": "be4f0b65",
   "metadata": {},
   "outputs": [],
   "source": [
    "#Creating the dictionary and the labels using the players data set we imported\n",
    "for word in player_list:\n",
    "    ruler.add_patterns([{\"label\":\"Player\", \"pattern\": word}])"
   ]
  },
  {
   "cell_type": "markdown",
   "id": "7a6b4027",
   "metadata": {},
   "source": [
    "#### Storing the clubs and players"
   ]
  },
  {
   "cell_type": "code",
   "execution_count": 18,
   "id": "136c5f2c",
   "metadata": {},
   "outputs": [],
   "source": [
    "df = pd.read_csv(\"C:/Users/Titoran/Documents/1.Rumours/Rumours.csv\", index_col = [0] )"
   ]
  },
  {
   "cell_type": "code",
   "execution_count": 19,
   "id": "2b981c43",
   "metadata": {},
   "outputs": [],
   "source": [
    "clubs_involved = []\n",
    "for row in df.iloc[:,0]:\n",
    "    clubs_involved.append(find_clubs(row))"
   ]
  },
  {
   "cell_type": "code",
   "execution_count": 20,
   "id": "32f8a001",
   "metadata": {},
   "outputs": [],
   "source": [
    "players_involved = []\n",
    "for row in df.iloc[:,0]:\n",
    "    players_involved.append(find_persons(row))"
   ]
  },
  {
   "cell_type": "markdown",
   "id": "b0b523e5",
   "metadata": {},
   "source": [
    "#### Consolidating the Data + Filter"
   ]
  },
  {
   "cell_type": "code",
   "execution_count": 21,
   "id": "6f052508",
   "metadata": {},
   "outputs": [],
   "source": [
    "df[\"Clubs\"] = clubs_involved\n",
    "df[\"Player\"] = players_involved"
   ]
  },
  {
   "cell_type": "code",
   "execution_count": 22,
   "id": "f6467c7a",
   "metadata": {},
   "outputs": [],
   "source": [
    "df.to_csv('Accuracy_Testing.csv', encoding='utf-8')"
   ]
  },
  {
   "cell_type": "code",
   "execution_count": 23,
   "id": "4c40b812",
   "metadata": {},
   "outputs": [],
   "source": [
    "#list(df.loc[df[\"Player\"].apply(len) == 0, \"Rumour\"])"
   ]
  },
  {
   "cell_type": "code",
   "execution_count": 24,
   "id": "841ca34c",
   "metadata": {},
   "outputs": [],
   "source": [
    "#Only keeping when one player is mentioned\n",
    "df = df.loc[df[\"Player\"].apply(len) == 1]\n",
    "\n",
    "#Only keeping when more than one club is mentioned\n",
    "df = df.loc[df[\"Clubs\"].apply(len) > 1]"
   ]
  },
  {
   "cell_type": "code",
   "execution_count": 25,
   "id": "af54fd29",
   "metadata": {},
   "outputs": [],
   "source": [
    "df.to_csv('Rumours_NER.csv', encoding='utf-8')"
   ]
  }
 ],
 "metadata": {
  "kernelspec": {
   "display_name": "Python 3 (ipykernel)",
   "language": "python",
   "name": "python3"
  },
  "language_info": {
   "codemirror_mode": {
    "name": "ipython",
    "version": 3
   },
   "file_extension": ".py",
   "mimetype": "text/x-python",
   "name": "python",
   "nbconvert_exporter": "python",
   "pygments_lexer": "ipython3",
   "version": "3.10.9"
  }
 },
 "nbformat": 4,
 "nbformat_minor": 5
}
