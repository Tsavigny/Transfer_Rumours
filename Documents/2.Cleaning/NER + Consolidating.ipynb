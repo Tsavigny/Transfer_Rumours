{
 "cells": [
  {
   "cell_type": "code",
   "execution_count": 1,
   "id": "7408f66a",
   "metadata": {},
   "outputs": [],
   "source": [
    "import spacy \n",
    "import pandas as pd \n",
    "from collections import Counter\n",
    "import en_core_web_lg\n",
    "import numpy as np\n",
    "import regex as re"
   ]
  },
  {
   "cell_type": "markdown",
   "id": "60613abc",
   "metadata": {},
   "source": [
    "#### Defining Function to Find Entities"
   ]
  },
  {
   "cell_type": "code",
   "execution_count": 2,
   "id": "74ebf6b9",
   "metadata": {},
   "outputs": [],
   "source": [
    "def find_persons(text):\n",
    "    # Create Doc object\n",
    "    doc2 = nlp(text)\n",
    "\n",
    "    # Identify the persons\n",
    "    persons = [ent.text for ent in doc2.ents if ent.label_ == 'Player']\n",
    "\n",
    "    # Return persons\n",
    "    return persons"
   ]
  },
  {
   "cell_type": "code",
   "execution_count": 3,
   "id": "a453a0aa",
   "metadata": {},
   "outputs": [],
   "source": [
    "def find_clubs(text):\n",
    "    # Create Doc object\n",
    "    doc2 = nlp(text)\n",
    "\n",
    "    # Identify the persons\n",
    "    clubs = [ent.text for ent in doc2.ents if ent.label_ == 'CLUB']\n",
    "\n",
    "    # Return persons\n",
    "    return clubs"
   ]
  },
  {
   "cell_type": "markdown",
   "id": "3d1523bd",
   "metadata": {},
   "source": [
    "#### Clubs NER "
   ]
  },
  {
   "cell_type": "code",
   "execution_count": 4,
   "id": "9f15a858",
   "metadata": {},
   "outputs": [],
   "source": [
    "clubs = pd.read_csv(\"C:/Users/Titoran/Documents/Dictionaries/Football_Leagues.csv\")"
   ]
  },
  {
   "cell_type": "code",
   "execution_count": 5,
   "id": "9e7944f5",
   "metadata": {},
   "outputs": [],
   "source": [
    "arr = clubs.to_numpy().flatten()\n",
    "clubs = list(arr)"
   ]
  },
  {
   "cell_type": "code",
   "execution_count": 6,
   "id": "bd68568e",
   "metadata": {},
   "outputs": [],
   "source": [
    "clubs = [str(w).replace('\\xa0', '') for w in clubs]\n",
    "clubs = [x for x in clubs if str(x) != 'nan']"
   ]
  },
  {
   "cell_type": "code",
   "execution_count": 7,
   "id": "1f2ac878",
   "metadata": {},
   "outputs": [],
   "source": [
    "from unidecode import unidecode\n",
    "clubs = [unidecode(w) for w in clubs]"
   ]
  },
  {
   "cell_type": "code",
   "execution_count": 8,
   "id": "7adb9c40",
   "metadata": {},
   "outputs": [],
   "source": [
    "# Import EntityRuler class\n",
    "from spacy.pipeline import EntityRuler\n",
    "from spacy.language import Language\n",
    "nlp = spacy.blank(\"en\")\n",
    "\n",
    "\n",
    "ruler = nlp.add_pipe(\"entity_ruler\")"
   ]
  },
  {
   "cell_type": "code",
   "execution_count": 9,
   "id": "c2f56854",
   "metadata": {},
   "outputs": [],
   "source": [
    "for word in clubs:\n",
    "    ruler.add_patterns([{\"label\":\"CLUB\", \"pattern\": word}])"
   ]
  },
  {
   "cell_type": "markdown",
   "id": "1f512ce5",
   "metadata": {},
   "source": [
    "#### Players NER"
   ]
  },
  {
   "cell_type": "code",
   "execution_count": 10,
   "id": "a6e41f36",
   "metadata": {},
   "outputs": [],
   "source": [
    "players_2020 = pd.read_csv(\"C:/Users/Titoran/Documents/Cleaned Players Data/Players_2020.csv\")"
   ]
  },
  {
   "cell_type": "code",
   "execution_count": 11,
   "id": "e85309e9",
   "metadata": {},
   "outputs": [],
   "source": [
    "players_2021 = pd.read_csv(\"C:/Users/Titoran/Documents/Cleaned Players Data/Players_2021.csv\")"
   ]
  },
  {
   "cell_type": "code",
   "execution_count": 12,
   "id": "e90fe9f8",
   "metadata": {},
   "outputs": [],
   "source": [
    "players_2022 = pd.read_csv(\"C:/Users/Titoran/Documents/Cleaned Players Data/Players_2022.csv\")"
   ]
  },
  {
   "cell_type": "code",
   "execution_count": 13,
   "id": "95cf7abb",
   "metadata": {},
   "outputs": [],
   "source": [
    "player_list = (list(players_2020[\"Player\"]) + list(players_2021[\"Player\"]) + list(players_2022[\"Player\"]))"
   ]
  },
  {
   "cell_type": "code",
   "execution_count": 14,
   "id": "6f46dd3c",
   "metadata": {},
   "outputs": [],
   "source": [
    "def unique(list1):\n",
    "    # insert the list to the set\n",
    "    list_set = set(list1)\n",
    "    # convert the set to the list\n",
    "    unique_list = (list(list_set))\n",
    "    return unique_list"
   ]
  },
  {
   "cell_type": "code",
   "execution_count": 15,
   "id": "0def2e13",
   "metadata": {},
   "outputs": [],
   "source": [
    "player_list = unique(player_list)"
   ]
  },
  {
   "cell_type": "code",
   "execution_count": 16,
   "id": "172d10b9",
   "metadata": {},
   "outputs": [],
   "source": [
    "player_list = [unidecode(w) for w in player_list]"
   ]
  },
  {
   "cell_type": "code",
   "execution_count": 17,
   "id": "be4f0b65",
   "metadata": {},
   "outputs": [],
   "source": [
    "for word in player_list:\n",
    "    ruler.add_patterns([{\"label\":\"Player\", \"pattern\": word}])"
   ]
  },
  {
   "cell_type": "markdown",
   "id": "7a6b4027",
   "metadata": {},
   "source": [
    "#### Storing the clubs and players"
   ]
  },
  {
   "cell_type": "code",
   "execution_count": 18,
   "id": "136c5f2c",
   "metadata": {},
   "outputs": [],
   "source": [
    "df = pd.read_csv(\"C:/Users/Titoran/Documents/1.Rumours/Rumours.csv\", index_col = [0] )"
   ]
  },
  {
   "cell_type": "code",
   "execution_count": 19,
   "id": "635f26ed",
   "metadata": {},
   "outputs": [],
   "source": [
    "df[\"Rumour\"] =[unidecode(w) for w in df[\"Rumour\"]]"
   ]
  },
  {
   "cell_type": "code",
   "execution_count": 20,
   "id": "2b981c43",
   "metadata": {},
   "outputs": [],
   "source": [
    "clubs_involved = []\n",
    "for row in df.iloc[:,0]:\n",
    "    clubs_involved.append(find_clubs(row))"
   ]
  },
  {
   "cell_type": "code",
   "execution_count": 21,
   "id": "32f8a001",
   "metadata": {},
   "outputs": [],
   "source": [
    "players_involved = []\n",
    "for row in df.iloc[:,0]:\n",
    "    players_involved.append(find_persons(row))"
   ]
  },
  {
   "cell_type": "markdown",
   "id": "b0b523e5",
   "metadata": {},
   "source": [
    "#### Consolidating the Data"
   ]
  },
  {
   "cell_type": "code",
   "execution_count": 22,
   "id": "6f052508",
   "metadata": {},
   "outputs": [],
   "source": [
    "df[\"Clubs\"] = clubs_involved\n",
    "df[\"Player\"] = players_involved"
   ]
  },
  {
   "cell_type": "code",
   "execution_count": 28,
   "id": "4c40b812",
   "metadata": {},
   "outputs": [
    {
     "data": {
      "text/plain": [
       "16      Arsenal are prepared to spend nearly PS250m on...\n",
       "36      Liverpool have completed the signing of Ghanai...\n",
       "41      Swansea manager Steve Cooper is top of Fulham'...\n",
       "67      Crystal Palace have held positive talks with L...\n",
       "75      Liverpool have no plans to sell Kostas Tsimika...\n",
       "                              ...                        \n",
       "3295    However, Leeds want at least PS35m for Harriso...\n",
       "3297    Nottingham Forest are also considering a late ...\n",
       "3298    Women's Super League champions Chelsea are try...\n",
       "3317    Bournemouth are close to agreeing a fee with S...\n",
       "3318    The Cherries are also in talks with Dynamo Kyi...\n",
       "Name: Rumour, Length: 376, dtype: object"
      ]
     },
     "execution_count": 28,
     "metadata": {},
     "output_type": "execute_result"
    }
   ],
   "source": [
    "df.loc[df[\"Player\"].apply(len) == 0, \"Rumour\"]"
   ]
  },
  {
   "cell_type": "code",
   "execution_count": 30,
   "id": "ac20eab9",
   "metadata": {},
   "outputs": [
    {
     "ename": "KeyError",
     "evalue": "'key of type tuple not found and not a MultiIndex'",
     "output_type": "error",
     "traceback": [
      "\u001b[1;31m---------------------------------------------------------------------------\u001b[0m",
      "\u001b[1;31mKeyError\u001b[0m                                  Traceback (most recent call last)",
      "Cell \u001b[1;32mIn[30], line 1\u001b[0m\n\u001b[1;32m----> 1\u001b[0m \u001b[43mtesting\u001b[49m\u001b[43m[\u001b[49m\u001b[38;5;241;43m0\u001b[39;49m\u001b[43m,\u001b[49m\u001b[38;5;241;43m1\u001b[39;49m\u001b[43m]\u001b[49m\n",
      "File \u001b[1;32m~\\anaconda3\\lib\\site-packages\\pandas\\core\\series.py:1007\u001b[0m, in \u001b[0;36mSeries.__getitem__\u001b[1;34m(self, key)\u001b[0m\n\u001b[0;32m   1004\u001b[0m     key \u001b[38;5;241m=\u001b[39m np\u001b[38;5;241m.\u001b[39masarray(key, dtype\u001b[38;5;241m=\u001b[39m\u001b[38;5;28mbool\u001b[39m)\n\u001b[0;32m   1005\u001b[0m     \u001b[38;5;28;01mreturn\u001b[39;00m \u001b[38;5;28mself\u001b[39m\u001b[38;5;241m.\u001b[39m_get_values(key)\n\u001b[1;32m-> 1007\u001b[0m \u001b[38;5;28;01mreturn\u001b[39;00m \u001b[38;5;28;43mself\u001b[39;49m\u001b[38;5;241;43m.\u001b[39;49m\u001b[43m_get_with\u001b[49m\u001b[43m(\u001b[49m\u001b[43mkey\u001b[49m\u001b[43m)\u001b[49m\n",
      "File \u001b[1;32m~\\anaconda3\\lib\\site-packages\\pandas\\core\\series.py:1022\u001b[0m, in \u001b[0;36mSeries._get_with\u001b[1;34m(self, key)\u001b[0m\n\u001b[0;32m   1017\u001b[0m     \u001b[38;5;28;01mraise\u001b[39;00m \u001b[38;5;167;01mTypeError\u001b[39;00m(\n\u001b[0;32m   1018\u001b[0m         \u001b[38;5;124m\"\u001b[39m\u001b[38;5;124mIndexing a Series with DataFrame is not \u001b[39m\u001b[38;5;124m\"\u001b[39m\n\u001b[0;32m   1019\u001b[0m         \u001b[38;5;124m\"\u001b[39m\u001b[38;5;124msupported, use the appropriate DataFrame column\u001b[39m\u001b[38;5;124m\"\u001b[39m\n\u001b[0;32m   1020\u001b[0m     )\n\u001b[0;32m   1021\u001b[0m \u001b[38;5;28;01melif\u001b[39;00m \u001b[38;5;28misinstance\u001b[39m(key, \u001b[38;5;28mtuple\u001b[39m):\n\u001b[1;32m-> 1022\u001b[0m     \u001b[38;5;28;01mreturn\u001b[39;00m \u001b[38;5;28;43mself\u001b[39;49m\u001b[38;5;241;43m.\u001b[39;49m\u001b[43m_get_values_tuple\u001b[49m\u001b[43m(\u001b[49m\u001b[43mkey\u001b[49m\u001b[43m)\u001b[49m\n\u001b[0;32m   1024\u001b[0m \u001b[38;5;28;01melif\u001b[39;00m \u001b[38;5;129;01mnot\u001b[39;00m is_list_like(key):\n\u001b[0;32m   1025\u001b[0m     \u001b[38;5;66;03m# e.g. scalars that aren't recognized by lib.is_scalar, GH#32684\u001b[39;00m\n\u001b[0;32m   1026\u001b[0m     \u001b[38;5;28;01mreturn\u001b[39;00m \u001b[38;5;28mself\u001b[39m\u001b[38;5;241m.\u001b[39mloc[key]\n",
      "File \u001b[1;32m~\\anaconda3\\lib\\site-packages\\pandas\\core\\series.py:1060\u001b[0m, in \u001b[0;36mSeries._get_values_tuple\u001b[1;34m(self, key)\u001b[0m\n\u001b[0;32m   1057\u001b[0m     \u001b[38;5;28;01mreturn\u001b[39;00m result\n\u001b[0;32m   1059\u001b[0m \u001b[38;5;28;01mif\u001b[39;00m \u001b[38;5;129;01mnot\u001b[39;00m \u001b[38;5;28misinstance\u001b[39m(\u001b[38;5;28mself\u001b[39m\u001b[38;5;241m.\u001b[39mindex, MultiIndex):\n\u001b[1;32m-> 1060\u001b[0m     \u001b[38;5;28;01mraise\u001b[39;00m \u001b[38;5;167;01mKeyError\u001b[39;00m(\u001b[38;5;124m\"\u001b[39m\u001b[38;5;124mkey of type tuple not found and not a MultiIndex\u001b[39m\u001b[38;5;124m\"\u001b[39m)\n\u001b[0;32m   1062\u001b[0m \u001b[38;5;66;03m# If key is contained, would have returned by now\u001b[39;00m\n\u001b[0;32m   1063\u001b[0m indexer, new_index \u001b[38;5;241m=\u001b[39m \u001b[38;5;28mself\u001b[39m\u001b[38;5;241m.\u001b[39mindex\u001b[38;5;241m.\u001b[39mget_loc_level(key)\n",
      "\u001b[1;31mKeyError\u001b[0m: 'key of type tuple not found and not a MultiIndex'"
     ]
    }
   ],
   "source": [
    "testing[0,1]"
   ]
  },
  {
   "cell_type": "code",
   "execution_count": 23,
   "id": "841ca34c",
   "metadata": {},
   "outputs": [],
   "source": [
    "#Only keeping when one player is mentioned\n",
    "df = df.loc[df[\"Player\"].apply(len) == 1]"
   ]
  },
  {
   "cell_type": "code",
   "execution_count": 24,
   "id": "5697d83c",
   "metadata": {},
   "outputs": [],
   "source": [
    "df = df.loc[df[\"Clubs\"].apply(len) > 1]"
   ]
  },
  {
   "cell_type": "code",
   "execution_count": 25,
   "id": "af54fd29",
   "metadata": {},
   "outputs": [],
   "source": [
    "df.to_csv('Rumours_NER.csv', encoding='utf-8')"
   ]
  },
  {
   "cell_type": "markdown",
   "id": "6dcda2af",
   "metadata": {},
   "source": [
    "#### Adding The Player Info"
   ]
  },
  {
   "cell_type": "code",
   "execution_count": 26,
   "id": "4af784f0",
   "metadata": {},
   "outputs": [],
   "source": [
    "df_NER = pd.read_csv(\"Rumours_NER.csv\", index_col = [0] )"
   ]
  },
  {
   "cell_type": "code",
   "execution_count": 27,
   "id": "196b4f79",
   "metadata": {},
   "outputs": [],
   "source": [
    "#Unlisting the players to then join them\n",
    "#df_NER[\"Player\"] = [str(''.join(map(str, l))) for l in df_NER['Player']]"
   ]
  },
  {
   "cell_type": "code",
   "execution_count": 28,
   "id": "bfdf53c1",
   "metadata": {},
   "outputs": [],
   "source": [
    "df_NER[\"Player\"] = df_NER[\"Player\"].apply(lambda x: x[2:-2])"
   ]
  },
  {
   "cell_type": "code",
   "execution_count": 29,
   "id": "63b2a3ab",
   "metadata": {},
   "outputs": [],
   "source": [
    "df2020 = df_NER.loc[df_NER[\"Year\"] == 2020,]"
   ]
  },
  {
   "cell_type": "code",
   "execution_count": 30,
   "id": "1f966328",
   "metadata": {},
   "outputs": [],
   "source": [
    "df2021 = df_NER.loc[df_NER[\"Year\"] == 2021,]"
   ]
  },
  {
   "cell_type": "code",
   "execution_count": 31,
   "id": "d6c1d624",
   "metadata": {},
   "outputs": [],
   "source": [
    "df2022 = df_NER.loc[df_NER[\"Year\"] == 2022,]"
   ]
  },
  {
   "cell_type": "code",
   "execution_count": 32,
   "id": "671cc5cd",
   "metadata": {},
   "outputs": [],
   "source": [
    "df0 = df2020.merge(players_2020, how='left', on='Player')"
   ]
  },
  {
   "cell_type": "code",
   "execution_count": 33,
   "id": "911fe34c",
   "metadata": {},
   "outputs": [],
   "source": [
    "df0 = df0.drop(['Year_y'], axis=1)\n",
    "df0 = df0.rename(columns={'Year_x': 'Year'})"
   ]
  },
  {
   "cell_type": "code",
   "execution_count": 34,
   "id": "83d01dc2",
   "metadata": {},
   "outputs": [],
   "source": [
    "df1 = df2021.merge(players_2021, how='left', on='Player')"
   ]
  },
  {
   "cell_type": "code",
   "execution_count": 35,
   "id": "0df46a61",
   "metadata": {},
   "outputs": [],
   "source": [
    "df1 = df1.drop(['Year_y'], axis=1)\n",
    "df1 = df1.rename(columns={'Year_x': 'Year'})"
   ]
  },
  {
   "cell_type": "code",
   "execution_count": 36,
   "id": "b3706a6f",
   "metadata": {},
   "outputs": [],
   "source": [
    "df2 = df2022.merge(players_2022, how='left', on='Player')"
   ]
  },
  {
   "cell_type": "code",
   "execution_count": 37,
   "id": "bc819b64",
   "metadata": {},
   "outputs": [],
   "source": [
    "df2 = df2.drop(['Year_y'], axis=1)\n",
    "df2 = df2.rename(columns={'Year_x': 'Year'})"
   ]
  },
  {
   "cell_type": "code",
   "execution_count": 38,
   "id": "3df8541a",
   "metadata": {},
   "outputs": [],
   "source": [
    "df_players = pd.concat([ df0, df1, df2], axis=0)"
   ]
  },
  {
   "cell_type": "markdown",
   "id": "b1fcef12",
   "metadata": {},
   "source": [
    "#### Finding the interested club"
   ]
  },
  {
   "cell_type": "code",
   "execution_count": 40,
   "id": "22cac80f",
   "metadata": {},
   "outputs": [],
   "source": [
    "from difflib import SequenceMatcher\n",
    "\n",
    "def similar(a, b):\n",
    "    return SequenceMatcher(None, a, b).ratio()"
   ]
  },
  {
   "cell_type": "code",
   "execution_count": 43,
   "id": "ddd48708",
   "metadata": {},
   "outputs": [],
   "source": [
    "df_players[\"Clubs\"] = [l.replace(\"PSG\", \"Paris Saint-Germain\") for l in df_players[\"Clubs\"]]"
   ]
  },
  {
   "cell_type": "code",
   "execution_count": 51,
   "id": "11f9fd16",
   "metadata": {},
   "outputs": [],
   "source": [
    "from ast import literal_eval"
   ]
  },
  {
   "cell_type": "code",
   "execution_count": 52,
   "id": "fe8b272b",
   "metadata": {},
   "outputs": [],
   "source": [
    "n = 0\n",
    "interested_club = []\n",
    "for row in df_players[\"Clubs\"] : \n",
    "    temp = []\n",
    "    for club in literal_eval(row) : \n",
    "        if (similar(club, str(df_players.iloc[n,12])) < 0.7) & (club not in str(df_players.iloc[n,12]))  :\n",
    "            temp.append(club)\n",
    "    interested_club.append(temp)\n",
    "    n += 1"
   ]
  },
  {
   "cell_type": "code",
   "execution_count": 54,
   "id": "c5d4a8b6",
   "metadata": {},
   "outputs": [],
   "source": [
    "df_players[\"Interested_clubs\"] = interested_club"
   ]
  },
  {
   "cell_type": "code",
   "execution_count": 55,
   "id": "8c301d2b",
   "metadata": {},
   "outputs": [
    {
     "data": {
      "text/html": [
       "<div>\n",
       "<style scoped>\n",
       "    .dataframe tbody tr th:only-of-type {\n",
       "        vertical-align: middle;\n",
       "    }\n",
       "\n",
       "    .dataframe tbody tr th {\n",
       "        vertical-align: top;\n",
       "    }\n",
       "\n",
       "    .dataframe thead th {\n",
       "        text-align: right;\n",
       "    }\n",
       "</style>\n",
       "<table border=\"1\" class=\"dataframe\">\n",
       "  <thead>\n",
       "    <tr style=\"text-align: right;\">\n",
       "      <th></th>\n",
       "      <th>Clubs</th>\n",
       "      <th>Player</th>\n",
       "      <th>Club</th>\n",
       "      <th>Interested_clubs</th>\n",
       "    </tr>\n",
       "  </thead>\n",
       "  <tbody>\n",
       "    <tr>\n",
       "      <th>200</th>\n",
       "      <td>['Watford', 'Torino']</td>\n",
       "      <td>Lyanco</td>\n",
       "      <td>Torino</td>\n",
       "      <td>[Watford]</td>\n",
       "    </tr>\n",
       "    <tr>\n",
       "      <th>201</th>\n",
       "      <td>['Manchester United', 'Flamengo']</td>\n",
       "      <td>Andreas Pereira</td>\n",
       "      <td>SS Lazio</td>\n",
       "      <td>[Manchester United, Flamengo]</td>\n",
       "    </tr>\n",
       "    <tr>\n",
       "      <th>202</th>\n",
       "      <td>['Tottenham', 'Lyon', 'Juventus']</td>\n",
       "      <td>Houssem Aouar</td>\n",
       "      <td>Lyon</td>\n",
       "      <td>[Tottenham, Juventus]</td>\n",
       "    </tr>\n",
       "    <tr>\n",
       "      <th>203</th>\n",
       "      <td>['Arsenal', 'Juventus', 'Sassuolo']</td>\n",
       "      <td>Manuel Locatelli</td>\n",
       "      <td>US Sassuolo</td>\n",
       "      <td>[Arsenal, Juventus]</td>\n",
       "    </tr>\n",
       "    <tr>\n",
       "      <th>204</th>\n",
       "      <td>['Tottenham', 'Eindhoven']</td>\n",
       "      <td>Noni Madueke</td>\n",
       "      <td>PSV Eindhoven</td>\n",
       "      <td>[Tottenham]</td>\n",
       "    </tr>\n",
       "    <tr>\n",
       "      <th>205</th>\n",
       "      <td>['Arsenal', 'Chelsea', 'Roma']</td>\n",
       "      <td>Granit Xhaka</td>\n",
       "      <td>Arsenal</td>\n",
       "      <td>[Chelsea, Roma]</td>\n",
       "    </tr>\n",
       "    <tr>\n",
       "      <th>206</th>\n",
       "      <td>['Tottenham', 'Juventus']</td>\n",
       "      <td>Weston McKennie</td>\n",
       "      <td>Juventus</td>\n",
       "      <td>[Tottenham]</td>\n",
       "    </tr>\n",
       "    <tr>\n",
       "      <th>207</th>\n",
       "      <td>['Manchester United', 'Wolves']</td>\n",
       "      <td>Ruben Neves</td>\n",
       "      <td>Wolves</td>\n",
       "      <td>[Manchester United]</td>\n",
       "    </tr>\n",
       "    <tr>\n",
       "      <th>208</th>\n",
       "      <td>['Burnley', 'Lyon']</td>\n",
       "      <td>Maxwel Cornet</td>\n",
       "      <td>Lyon</td>\n",
       "      <td>[Burnley]</td>\n",
       "    </tr>\n",
       "    <tr>\n",
       "      <th>209</th>\n",
       "      <td>['Roma', 'Barcelona']</td>\n",
       "      <td>Clement Lenglet</td>\n",
       "      <td>Barcelona</td>\n",
       "      <td>[Roma]</td>\n",
       "    </tr>\n",
       "  </tbody>\n",
       "</table>\n",
       "</div>"
      ],
      "text/plain": [
       "                                   Clubs            Player           Club  \\\n",
       "200                ['Watford', 'Torino']            Lyanco        Torino    \n",
       "201    ['Manchester United', 'Flamengo']   Andreas Pereira       SS Lazio   \n",
       "202    ['Tottenham', 'Lyon', 'Juventus']     Houssem Aouar           Lyon   \n",
       "203  ['Arsenal', 'Juventus', 'Sassuolo']  Manuel Locatelli    US Sassuolo   \n",
       "204           ['Tottenham', 'Eindhoven']      Noni Madueke  PSV Eindhoven   \n",
       "205       ['Arsenal', 'Chelsea', 'Roma']      Granit Xhaka       Arsenal    \n",
       "206            ['Tottenham', 'Juventus']   Weston McKennie      Juventus    \n",
       "207      ['Manchester United', 'Wolves']       Ruben Neves         Wolves   \n",
       "208                  ['Burnley', 'Lyon']     Maxwel Cornet           Lyon   \n",
       "209                ['Roma', 'Barcelona']   Clement Lenglet      Barcelona   \n",
       "\n",
       "                  Interested_clubs  \n",
       "200                      [Watford]  \n",
       "201  [Manchester United, Flamengo]  \n",
       "202          [Tottenham, Juventus]  \n",
       "203            [Arsenal, Juventus]  \n",
       "204                    [Tottenham]  \n",
       "205                [Chelsea, Roma]  \n",
       "206                    [Tottenham]  \n",
       "207            [Manchester United]  \n",
       "208                      [Burnley]  \n",
       "209                         [Roma]  "
      ]
     },
     "execution_count": 55,
     "metadata": {},
     "output_type": "execute_result"
    }
   ],
   "source": [
    "df_players.iloc[200:210,[3,4,12,13]]"
   ]
  },
  {
   "cell_type": "markdown",
   "id": "ab02ea4a",
   "metadata": {},
   "source": [
    "#### Checking for the Transfer"
   ]
  },
  {
   "cell_type": "code",
   "execution_count": 57,
   "id": "f16136b0",
   "metadata": {},
   "outputs": [],
   "source": [
    "transfers = pd.read_csv(\"C:/Users/Titoran/Documents/Transfers Data/transfers.csv\", index_col = [0])"
   ]
  },
  {
   "cell_type": "code",
   "execution_count": 58,
   "id": "2f189ee9",
   "metadata": {},
   "outputs": [],
   "source": [
    "Outcome = []\n",
    "n = 0 \n",
    "for player in df_players[\"Player\"] :\n",
    "    temp = 0 \n",
    "    try : \n",
    "        for interested in df_players.iloc[n,13] : \n",
    "            for club in transfers.loc[(transfers[\"player_name\"] == player), \"club_name\"] :\n",
    "                if ((similar(club, str(interested)) > 0.7) | (club in str(interested))):  \n",
    "                    temp = 1\n",
    "        if temp == 1 : \n",
    "            Outcome.append(\"True\")\n",
    "        else : \n",
    "            Outcome.append(\"False\")\n",
    "    except IndexError : \n",
    "            Outcome.append(\"False\")\n",
    "    n += 1"
   ]
  },
  {
   "cell_type": "code",
   "execution_count": 59,
   "id": "ec7a975a",
   "metadata": {},
   "outputs": [],
   "source": [
    "df_players[\"Outcome\"] = Outcome"
   ]
  },
  {
   "cell_type": "code",
   "execution_count": 61,
   "id": "f1c46a11",
   "metadata": {},
   "outputs": [
    {
     "data": {
      "text/html": [
       "<div>\n",
       "<style scoped>\n",
       "    .dataframe tbody tr th:only-of-type {\n",
       "        vertical-align: middle;\n",
       "    }\n",
       "\n",
       "    .dataframe tbody tr th {\n",
       "        vertical-align: top;\n",
       "    }\n",
       "\n",
       "    .dataframe thead th {\n",
       "        text-align: right;\n",
       "    }\n",
       "</style>\n",
       "<table border=\"1\" class=\"dataframe\">\n",
       "  <thead>\n",
       "    <tr style=\"text-align: right;\">\n",
       "      <th></th>\n",
       "      <th>Rumour</th>\n",
       "      <th>Year</th>\n",
       "      <th>Outlet</th>\n",
       "      <th>Clubs</th>\n",
       "      <th>Player</th>\n",
       "      <th>League</th>\n",
       "      <th>Player Link</th>\n",
       "      <th>Position</th>\n",
       "      <th>Age</th>\n",
       "      <th>Country</th>\n",
       "      <th>Join</th>\n",
       "      <th>Market Value</th>\n",
       "      <th>Club</th>\n",
       "      <th>Interested_clubs</th>\n",
       "      <th>Outcome</th>\n",
       "    </tr>\n",
       "  </thead>\n",
       "  <tbody>\n",
       "    <tr>\n",
       "      <th>2</th>\n",
       "      <td>Sergio Ramos is a target for Manchester United...</td>\n",
       "      <td>2020</td>\n",
       "      <td>90min</td>\n",
       "      <td>['Manchester United', 'Paris Saint-Germain', '...</td>\n",
       "      <td>Sergio Ramos</td>\n",
       "      <td>LaLiga</td>\n",
       "      <td>https://www.transfermarkt.co.uk/sergio-ramos/p...</td>\n",
       "      <td>Centre-Back</td>\n",
       "      <td>35.0</td>\n",
       "      <td>Spain</td>\n",
       "      <td>6148.0</td>\n",
       "      <td>10.0</td>\n",
       "      <td>Real Madrid</td>\n",
       "      <td>[Manchester United, Paris Saint-Germain, Sevilla]</td>\n",
       "      <td>True</td>\n",
       "    </tr>\n",
       "    <tr>\n",
       "      <th>3</th>\n",
       "      <td>Real Madrid and France defender Raphael Varane...</td>\n",
       "      <td>2020</td>\n",
       "      <td>Goal</td>\n",
       "      <td>['Real Madrid', 'Manchester United', 'Chelsea']</td>\n",
       "      <td>Raphael Varane</td>\n",
       "      <td>LaLiga</td>\n",
       "      <td>https://www.transfermarkt.co.uk/raphael-varane...</td>\n",
       "      <td>Centre-Back</td>\n",
       "      <td>28.0</td>\n",
       "      <td>France</td>\n",
       "      <td>4018.0</td>\n",
       "      <td>70.0</td>\n",
       "      <td>Real Madrid</td>\n",
       "      <td>[Manchester United, Chelsea]</td>\n",
       "      <td>True</td>\n",
       "    </tr>\n",
       "    <tr>\n",
       "      <th>8</th>\n",
       "      <td>Arsenal's French midfielder Matteo Guendouzi, ...</td>\n",
       "      <td>2020</td>\n",
       "      <td>Fabrizio Romano via Sun</td>\n",
       "      <td>['Arsenal', 'Hertha', 'Marseille']</td>\n",
       "      <td>Matteo Guendouzi</td>\n",
       "      <td>Bundesliga</td>\n",
       "      <td>https://www.transfermarkt.co.uk/matteo-guendou...</td>\n",
       "      <td>Central Midfield</td>\n",
       "      <td>22.0</td>\n",
       "      <td>France</td>\n",
       "      <td>634.0</td>\n",
       "      <td>20.0</td>\n",
       "      <td>Hertha</td>\n",
       "      <td>[Arsenal, Marseille]</td>\n",
       "      <td>True</td>\n",
       "    </tr>\n",
       "    <tr>\n",
       "      <th>14</th>\n",
       "      <td>Manchester United have made a new bid of more ...</td>\n",
       "      <td>2020</td>\n",
       "      <td>Mail on Sunday</td>\n",
       "      <td>['Manchester United', 'Dortmund']</td>\n",
       "      <td>Jadon Sancho</td>\n",
       "      <td>Bundesliga</td>\n",
       "      <td>https://www.transfermarkt.co.uk/jadon-sancho/p...</td>\n",
       "      <td>Left Winger</td>\n",
       "      <td>21.0</td>\n",
       "      <td>England</td>\n",
       "      <td>1765.0</td>\n",
       "      <td>100.0</td>\n",
       "      <td>Borussia Dortmund</td>\n",
       "      <td>[Manchester United]</td>\n",
       "      <td>True</td>\n",
       "    </tr>\n",
       "    <tr>\n",
       "      <th>18</th>\n",
       "      <td>Portugal and Wolves goalkeeper Rui Patricio, 3...</td>\n",
       "      <td>2020</td>\n",
       "      <td>Sky Sports - in Italian</td>\n",
       "      <td>['Wolves', 'Roma']</td>\n",
       "      <td>Rui Patricio</td>\n",
       "      <td>Premier League</td>\n",
       "      <td>https://www.transfermarkt.co.uk/rui-patricio/p...</td>\n",
       "      <td>Goalkeeper</td>\n",
       "      <td>33.0</td>\n",
       "      <td>Portugal</td>\n",
       "      <td>1461.0</td>\n",
       "      <td>10.0</td>\n",
       "      <td>Wolves</td>\n",
       "      <td>[Roma]</td>\n",
       "      <td>True</td>\n",
       "    </tr>\n",
       "    <tr>\n",
       "      <th>...</th>\n",
       "      <td>...</td>\n",
       "      <td>...</td>\n",
       "      <td>...</td>\n",
       "      <td>...</td>\n",
       "      <td>...</td>\n",
       "      <td>...</td>\n",
       "      <td>...</td>\n",
       "      <td>...</td>\n",
       "      <td>...</td>\n",
       "      <td>...</td>\n",
       "      <td>...</td>\n",
       "      <td>...</td>\n",
       "      <td>...</td>\n",
       "      <td>...</td>\n",
       "      <td>...</td>\n",
       "    </tr>\n",
       "    <tr>\n",
       "      <th>880</th>\n",
       "      <td>Crystal Palace are interested in bringing Chel...</td>\n",
       "      <td>2022</td>\n",
       "      <td>Sky Sports</td>\n",
       "      <td>['Crystal Palace', 'Chelsea']</td>\n",
       "      <td>Conor Gallagher</td>\n",
       "      <td>Premier League</td>\n",
       "      <td>https://www.transfermarkt.co.uk/conor-gallaghe...</td>\n",
       "      <td>Central Midfield</td>\n",
       "      <td>22.0</td>\n",
       "      <td>England</td>\n",
       "      <td>336.0</td>\n",
       "      <td>25.0</td>\n",
       "      <td>Crystal Palace</td>\n",
       "      <td>[Chelsea]</td>\n",
       "      <td>True</td>\n",
       "    </tr>\n",
       "    <tr>\n",
       "      <th>891</th>\n",
       "      <td>Newcastle and Tottenham could move for 29-year...</td>\n",
       "      <td>2022</td>\n",
       "      <td>Calciomercato - in Italian</td>\n",
       "      <td>['Tottenham', 'Inter Milan', 'Chelsea']</td>\n",
       "      <td>Romelu Lukaku</td>\n",
       "      <td>Premier League</td>\n",
       "      <td>https://www.transfermarkt.co.uk/romelu-lukaku/...</td>\n",
       "      <td>Centre-Forward</td>\n",
       "      <td>29.0</td>\n",
       "      <td>Belgium</td>\n",
       "      <td>323.0</td>\n",
       "      <td>70.0</td>\n",
       "      <td>Chelsea</td>\n",
       "      <td>[Tottenham, Inter Milan]</td>\n",
       "      <td>True</td>\n",
       "    </tr>\n",
       "    <tr>\n",
       "      <th>904</th>\n",
       "      <td>Sporting Lisbon will replace Porro with fellow...</td>\n",
       "      <td>2022</td>\n",
       "      <td>Fabrizio Romano</td>\n",
       "      <td>['Sporting', 'Barcelona']</td>\n",
       "      <td>Hector Bellerin</td>\n",
       "      <td>Premier League</td>\n",
       "      <td>https://www.transfermarkt.co.uk/hector-belleri...</td>\n",
       "      <td>Right-Back</td>\n",
       "      <td>27.0</td>\n",
       "      <td>Spain</td>\n",
       "      <td>2922.0</td>\n",
       "      <td>20.0</td>\n",
       "      <td>Arsenal</td>\n",
       "      <td>[Sporting, Barcelona]</td>\n",
       "      <td>True</td>\n",
       "    </tr>\n",
       "    <tr>\n",
       "      <th>910</th>\n",
       "      <td>Southampton have agreed to meet the PS26.2m re...</td>\n",
       "      <td>2022</td>\n",
       "      <td>Football Insider</td>\n",
       "      <td>['Southampton', 'Braga']</td>\n",
       "      <td>Vitinha</td>\n",
       "      <td>Liga Portugal</td>\n",
       "      <td>https://www.transfermarkt.co.uk/vitinha/profil...</td>\n",
       "      <td>Central Midfield</td>\n",
       "      <td>22.0</td>\n",
       "      <td>Portugal</td>\n",
       "      <td>904.0</td>\n",
       "      <td>30.0</td>\n",
       "      <td>Porto</td>\n",
       "      <td>[Southampton, Braga]</td>\n",
       "      <td>True</td>\n",
       "    </tr>\n",
       "    <tr>\n",
       "      <th>911</th>\n",
       "      <td>Norwich are close to signing 19-year-old Brazi...</td>\n",
       "      <td>2022</td>\n",
       "      <td>Express</td>\n",
       "      <td>['Norwich', 'Arsenal']</td>\n",
       "      <td>Marquinhos</td>\n",
       "      <td>Ligue 1</td>\n",
       "      <td>https://www.transfermarkt.co.uk/marquinhos/pro...</td>\n",
       "      <td>Centre-Back</td>\n",
       "      <td>28.0</td>\n",
       "      <td>Brazil</td>\n",
       "      <td>3269.0</td>\n",
       "      <td>70.0</td>\n",
       "      <td>Paris Saint-Germain</td>\n",
       "      <td>[Norwich, Arsenal]</td>\n",
       "      <td>True</td>\n",
       "    </tr>\n",
       "  </tbody>\n",
       "</table>\n",
       "<p>462 rows × 15 columns</p>\n",
       "</div>"
      ],
      "text/plain": [
       "                                                Rumour  Year  \\\n",
       "2    Sergio Ramos is a target for Manchester United...  2020   \n",
       "3    Real Madrid and France defender Raphael Varane...  2020   \n",
       "8    Arsenal's French midfielder Matteo Guendouzi, ...  2020   \n",
       "14   Manchester United have made a new bid of more ...  2020   \n",
       "18   Portugal and Wolves goalkeeper Rui Patricio, 3...  2020   \n",
       "..                                                 ...   ...   \n",
       "880  Crystal Palace are interested in bringing Chel...  2022   \n",
       "891  Newcastle and Tottenham could move for 29-year...  2022   \n",
       "904  Sporting Lisbon will replace Porro with fellow...  2022   \n",
       "910  Southampton have agreed to meet the PS26.2m re...  2022   \n",
       "911  Norwich are close to signing 19-year-old Brazi...  2022   \n",
       "\n",
       "                         Outlet  \\\n",
       "2                         90min   \n",
       "3                          Goal   \n",
       "8       Fabrizio Romano via Sun   \n",
       "14               Mail on Sunday   \n",
       "18      Sky Sports - in Italian   \n",
       "..                          ...   \n",
       "880                  Sky Sports   \n",
       "891  Calciomercato - in Italian   \n",
       "904             Fabrizio Romano   \n",
       "910            Football Insider   \n",
       "911                     Express   \n",
       "\n",
       "                                                 Clubs            Player  \\\n",
       "2    ['Manchester United', 'Paris Saint-Germain', '...      Sergio Ramos   \n",
       "3      ['Real Madrid', 'Manchester United', 'Chelsea']    Raphael Varane   \n",
       "8                   ['Arsenal', 'Hertha', 'Marseille']  Matteo Guendouzi   \n",
       "14                   ['Manchester United', 'Dortmund']      Jadon Sancho   \n",
       "18                                  ['Wolves', 'Roma']      Rui Patricio   \n",
       "..                                                 ...               ...   \n",
       "880                      ['Crystal Palace', 'Chelsea']   Conor Gallagher   \n",
       "891            ['Tottenham', 'Inter Milan', 'Chelsea']     Romelu Lukaku   \n",
       "904                          ['Sporting', 'Barcelona']   Hector Bellerin   \n",
       "910                           ['Southampton', 'Braga']           Vitinha   \n",
       "911                             ['Norwich', 'Arsenal']        Marquinhos   \n",
       "\n",
       "             League                                        Player Link  \\\n",
       "2            LaLiga  https://www.transfermarkt.co.uk/sergio-ramos/p...   \n",
       "3            LaLiga  https://www.transfermarkt.co.uk/raphael-varane...   \n",
       "8        Bundesliga  https://www.transfermarkt.co.uk/matteo-guendou...   \n",
       "14       Bundesliga  https://www.transfermarkt.co.uk/jadon-sancho/p...   \n",
       "18   Premier League  https://www.transfermarkt.co.uk/rui-patricio/p...   \n",
       "..              ...                                                ...   \n",
       "880  Premier League  https://www.transfermarkt.co.uk/conor-gallaghe...   \n",
       "891  Premier League  https://www.transfermarkt.co.uk/romelu-lukaku/...   \n",
       "904  Premier League  https://www.transfermarkt.co.uk/hector-belleri...   \n",
       "910   Liga Portugal  https://www.transfermarkt.co.uk/vitinha/profil...   \n",
       "911         Ligue 1  https://www.transfermarkt.co.uk/marquinhos/pro...   \n",
       "\n",
       "             Position   Age   Country    Join  Market Value  \\\n",
       "2         Centre-Back  35.0     Spain  6148.0          10.0   \n",
       "3         Centre-Back  28.0    France  4018.0          70.0   \n",
       "8    Central Midfield  22.0    France   634.0          20.0   \n",
       "14        Left Winger  21.0   England  1765.0         100.0   \n",
       "18         Goalkeeper  33.0  Portugal  1461.0          10.0   \n",
       "..                ...   ...       ...     ...           ...   \n",
       "880  Central Midfield  22.0   England   336.0          25.0   \n",
       "891    Centre-Forward  29.0   Belgium   323.0          70.0   \n",
       "904        Right-Back  27.0     Spain  2922.0          20.0   \n",
       "910  Central Midfield  22.0  Portugal   904.0          30.0   \n",
       "911       Centre-Back  28.0    Brazil  3269.0          70.0   \n",
       "\n",
       "                    Club                                   Interested_clubs  \\\n",
       "2            Real Madrid  [Manchester United, Paris Saint-Germain, Sevilla]   \n",
       "3            Real Madrid                       [Manchester United, Chelsea]   \n",
       "8                 Hertha                               [Arsenal, Marseille]   \n",
       "14     Borussia Dortmund                                [Manchester United]   \n",
       "18                Wolves                                             [Roma]   \n",
       "..                   ...                                                ...   \n",
       "880       Crystal Palace                                          [Chelsea]   \n",
       "891             Chelsea                            [Tottenham, Inter Milan]   \n",
       "904             Arsenal                               [Sporting, Barcelona]   \n",
       "910                Porto                               [Southampton, Braga]   \n",
       "911  Paris Saint-Germain                                 [Norwich, Arsenal]   \n",
       "\n",
       "    Outcome  \n",
       "2      True  \n",
       "3      True  \n",
       "8      True  \n",
       "14     True  \n",
       "18     True  \n",
       "..      ...  \n",
       "880    True  \n",
       "891    True  \n",
       "904    True  \n",
       "910    True  \n",
       "911    True  \n",
       "\n",
       "[462 rows x 15 columns]"
      ]
     },
     "execution_count": 61,
     "metadata": {},
     "output_type": "execute_result"
    }
   ],
   "source": [
    "#df_players.loc[df_players[\"Outcome\"] == \"True\",]"
   ]
  },
  {
   "cell_type": "code",
   "execution_count": 63,
   "id": "9d4dd30e",
   "metadata": {},
   "outputs": [],
   "source": [
    "df_players.to_csv('Uncleaned_Data.csv', encoding='utf-8')"
   ]
  }
 ],
 "metadata": {
  "kernelspec": {
   "display_name": "Python 3 (ipykernel)",
   "language": "python",
   "name": "python3"
  },
  "language_info": {
   "codemirror_mode": {
    "name": "ipython",
    "version": 3
   },
   "file_extension": ".py",
   "mimetype": "text/x-python",
   "name": "python",
   "nbconvert_exporter": "python",
   "pygments_lexer": "ipython3",
   "version": "3.10.9"
  }
 },
 "nbformat": 4,
 "nbformat_minor": 5
}
