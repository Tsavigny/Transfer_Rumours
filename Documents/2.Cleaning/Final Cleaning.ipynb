{
 "cells": [
  {
   "cell_type": "code",
   "execution_count": 13,
   "id": "7408f66a",
   "metadata": {},
   "outputs": [],
   "source": [
    "import pandas as pd \n",
    "import numpy as np\n",
    "import regex as re"
   ]
  },
  {
   "cell_type": "code",
   "execution_count": 11,
   "id": "a54345ac",
   "metadata": {},
   "outputs": [],
   "source": [
    "df = pd.read_csv(\"Outlets_Cleaned.csv\", index_col = [0] )"
   ]
  },
  {
   "cell_type": "markdown",
   "id": "8a91deff",
   "metadata": {},
   "source": [
    "#### Handling NA Values"
   ]
  },
  {
   "cell_type": "code",
   "execution_count": 17,
   "id": "0d2e62cc",
   "metadata": {},
   "outputs": [],
   "source": [
    "#Sometimes there is no join date, therefore rather than removing these entries we take the average join date and input that\n",
    "round(df.describe(),0)\n",
    "df.loc[df['Join'].isna() == True, \"Join\"] = df['Join'].median()"
   ]
  },
  {
   "cell_type": "code",
   "execution_count": 18,
   "id": "eb7bf0a2",
   "metadata": {},
   "outputs": [],
   "source": [
    "df = df.dropna().reset_index(drop=True)"
   ]
  },
  {
   "cell_type": "code",
   "execution_count": 3,
   "id": "b91de6c0",
   "metadata": {},
   "outputs": [],
   "source": [
    "#Rows wich have the same rumour by the same outlet\n",
    "df = df.drop_duplicates(subset=['Outlet','Year','Player','Interested_clubs'], keep='first')"
   ]
  },
  {
   "cell_type": "markdown",
   "id": "342db851",
   "metadata": {},
   "source": [
    "#### Converting the positions to Attack, Midfield, Defence"
   ]
  },
  {
   "cell_type": "code",
   "execution_count": 6,
   "id": "e5467889",
   "metadata": {},
   "outputs": [],
   "source": [
    "Attackers = [\"Left Winger\", \"Centre-Forward\", \"Right Winger\", \"Second Striker\"]\n",
    "Midfielders = ['Attacking Midfield', 'Central Midfield','Left Midfield', 'Defensive Midfield','Right Midfield']\n",
    "Defenders = ['Left-Back','Right-Back', 'Centre-Back', 'Goalkeeper']"
   ]
  },
  {
   "cell_type": "code",
   "execution_count": 7,
   "id": "66a27367",
   "metadata": {},
   "outputs": [],
   "source": [
    "df.loc[df[\"Position\"].isin(Attackers) , \"Position\"] = \"Attacker\"\n",
    "df.loc[df[\"Position\"].isin(Midfielders) , \"Position\"] = \"Midfielder\"\n",
    "df.loc[df[\"Position\"].isin(Defenders) , \"Position\"] = \"Defender\""
   ]
  },
  {
   "cell_type": "markdown",
   "id": "d1591b2f",
   "metadata": {},
   "source": [
    "#### Adding Player Agents"
   ]
  },
  {
   "cell_type": "code",
   "execution_count": 8,
   "id": "c91992bd",
   "metadata": {},
   "outputs": [],
   "source": [
    "from bs4 import BeautifulSoup\n",
    "import requests"
   ]
  },
  {
   "cell_type": "code",
   "execution_count": 9,
   "id": "c4a5bba2",
   "metadata": {},
   "outputs": [],
   "source": [
    "headers = {\n",
    "    # 'Host' : 'https://www.zim.com/',\n",
    "    'Connection': 'keep-alive',\n",
    "    'User-Agent': 'Chrome/102.0.5005.63 Mozilla/5.0 (Windows NT 6.1; WOW64) AppleWebKit/536.5 (KHTML, like Gecko) Safari/536.5',\n",
    "    'Accept': '*/*',\n",
    "    'Accept-Encoding': 'gzip, deflate',\n",
    "    'Content-Type': 'text',\n",
    "    'Accept-Language': 'en-US,en;q=0.8'\n",
    "}\n",
    "\n",
    "def get_data(URL):\n",
    "    soup = BeautifulSoup(requests.get(URL, headers=headers).content, 'lxml')\n",
    "    agent = 'Unknown'\n",
    "    try:\n",
    "        agent = soup.find('span', {'onclick': 'tmEvent(\"spielerprofil\", \"click\", \"berater-spielerdaten\")'}).text.replace('\\n', '')\n",
    "    except:\n",
    "        pass\n",
    "    \n",
    "    try:\n",
    "        agent = soup.find('a', {'onclick': 'tmEvent(\"spielerprofil\", \"click\", \"berater-spielerdaten\")'}).text.replace('\\n', '')\n",
    "    except:\n",
    "        pass\n",
    "    \n",
    "    return agent"
   ]
  },
  {
   "cell_type": "code",
   "execution_count": 10,
   "id": "6ea9b72b",
   "metadata": {},
   "outputs": [],
   "source": [
    "#In case a line causes problems\n",
    "#df = df.drop(df.index[395])"
   ]
  },
  {
   "cell_type": "code",
   "execution_count": 11,
   "id": "b5b0dcd1",
   "metadata": {},
   "outputs": [],
   "source": [
    "#agent = []\n",
    "#n = 0\n",
    "#for url in df[\"Player Link\"] : \n",
    "#    agent.append(get_data(url))\n",
    "#    n += 1        "
   ]
  },
  {
   "cell_type": "code",
   "execution_count": 11,
   "id": "e223f76f",
   "metadata": {},
   "outputs": [],
   "source": [
    "df.insert(3, \"Agent\", agent)"
   ]
  },
  {
   "cell_type": "code",
   "execution_count": 231,
   "id": "9e8589b8",
   "metadata": {},
   "outputs": [],
   "source": [
    "df.to_csv('Agents_Data.csv', encoding='utf-8')"
   ]
  },
  {
   "cell_type": "markdown",
   "id": "1afae262",
   "metadata": {},
   "source": [
    "#### Data for Outlet Analysis"
   ]
  },
  {
   "cell_type": "code",
   "execution_count": 137,
   "id": "4d9e3a76",
   "metadata": {},
   "outputs": [],
   "source": [
    "df_outlet = pd.read_csv('Agents_Data.csv', index_col = [0] )\n",
    "df_outlet = df_outlet.drop_duplicates(subset=['Outlet','Year','Player'], keep='first')\n",
    "df_outlet = df_outlet.drop(['Rumour', 'Year', 'Player', 'Club', 'Interested_clubs', 'Clubs', 'Player Link'], axis=1)"
   ]
  },
  {
   "cell_type": "code",
   "execution_count": 138,
   "id": "e758a4d2",
   "metadata": {},
   "outputs": [],
   "source": [
    "df_outlet = df_outlet.iloc[:,[0,2,8]]"
   ]
  },
  {
   "cell_type": "code",
   "execution_count": 139,
   "id": "ac7ebac0",
   "metadata": {},
   "outputs": [
    {
     "data": {
      "text/plain": [
       "Mail                       146\n",
       "The Sun                    123\n",
       "Sky Sports                  93\n",
       "The Athletic                92\n",
       "Football Insider            73\n",
       "Mirror                      72\n",
       "90 Min                      64\n",
       "Marca                       63\n",
       "Calcio mercato              62\n",
       "L'Equipe                    58\n",
       "Fabrizio Romano             55\n",
       "Corriere dello Sport        53\n",
       "Independent Journalists     45\n",
       "Goal                        42\n",
       "Name: Outlet, dtype: int64"
      ]
     },
     "execution_count": 139,
     "metadata": {},
     "output_type": "execute_result"
    }
   ],
   "source": [
    "df_outlet[\"Outlet\"].value_counts()[0:14]"
   ]
  },
  {
   "cell_type": "code",
   "execution_count": 140,
   "id": "95bb4e61",
   "metadata": {},
   "outputs": [],
   "source": [
    "df_outlet = df_outlet.groupby('Outlet').filter(lambda x : len(x)>70)"
   ]
  },
  {
   "cell_type": "code",
   "execution_count": 141,
   "id": "508b7be5",
   "metadata": {},
   "outputs": [],
   "source": [
    "#features = pd.get_dummies(df_outlet)"
   ]
  },
  {
   "cell_type": "code",
   "execution_count": 142,
   "id": "050d18e9",
   "metadata": {},
   "outputs": [],
   "source": [
    "df_outlet.to_csv('Outlet_Analysis_Data.csv', encoding='utf-8')"
   ]
  },
  {
   "cell_type": "markdown",
   "id": "32f98a51",
   "metadata": {},
   "source": [
    "#### Data for Regression"
   ]
  },
  {
   "cell_type": "code",
   "execution_count": 114,
   "id": "c287d7f0",
   "metadata": {},
   "outputs": [],
   "source": [
    "df_reg = pd.read_csv('Agents_Data.csv', index_col = [0] )"
   ]
  },
  {
   "cell_type": "code",
   "execution_count": 115,
   "id": "ae2fc97a",
   "metadata": {},
   "outputs": [],
   "source": [
    "df_reg = df_reg.drop_duplicates(subset=['Outlet','Year','Player'], keep='first')"
   ]
  },
  {
   "cell_type": "code",
   "execution_count": 116,
   "id": "882228b4",
   "metadata": {},
   "outputs": [
    {
     "data": {
      "text/plain": [
       "1638"
      ]
     },
     "execution_count": 116,
     "metadata": {},
     "output_type": "execute_result"
    }
   ],
   "source": [
    "len(df_reg)"
   ]
  },
  {
   "cell_type": "code",
   "execution_count": 117,
   "id": "5e1bf022",
   "metadata": {},
   "outputs": [],
   "source": [
    "n = 14\n",
    "df_reg = df_reg.groupby('League').filter(lambda x : len(x)>n)\n",
    "df_reg = df_reg.groupby('Country').filter(lambda x : len(x)>n)\n",
    "df_reg = df_reg.groupby('Outlet').filter(lambda x : len(x)>n)\n",
    "df_reg = df_reg.groupby('Agent').filter(lambda x : len(x)>7)"
   ]
  },
  {
   "cell_type": "code",
   "execution_count": 118,
   "id": "1b5c6f89",
   "metadata": {},
   "outputs": [],
   "source": [
    "#Storing for later\n",
    "continuous = df_reg[[\"Market Value\", \"Join\", \"Age\"]]"
   ]
  },
  {
   "cell_type": "code",
   "execution_count": 119,
   "id": "08e2167b",
   "metadata": {},
   "outputs": [],
   "source": [
    "df_reg = df_reg.iloc[:,[2,3,6,8,10,15]]\n",
    "#df_reg = df_reg.drop(['Rumour', 'Year', 'Player', 'Club', 'Interested_clubs', \"Market Value\", \"Join\", \"Age\"], axis=1)"
   ]
  },
  {
   "cell_type": "code",
   "execution_count": 120,
   "id": "73940f38",
   "metadata": {},
   "outputs": [],
   "source": [
    "features = pd.get_dummies(df_reg)"
   ]
  },
  {
   "cell_type": "code",
   "execution_count": 121,
   "id": "708912fe",
   "metadata": {},
   "outputs": [],
   "source": [
    "df_reg = pd.concat([continuous, features], axis=1)"
   ]
  },
  {
   "cell_type": "code",
   "execution_count": 83,
   "id": "71c18b06",
   "metadata": {},
   "outputs": [],
   "source": [
    "df_reg.to_csv('Regression_Data.csv', encoding='utf-8')"
   ]
  },
  {
   "cell_type": "markdown",
   "id": "4698abc4",
   "metadata": {},
   "source": [
    "#### Categorical Variables Thresholds"
   ]
  },
  {
   "cell_type": "code",
   "execution_count": 4,
   "id": "d2d45ab8",
   "metadata": {},
   "outputs": [],
   "source": [
    "df_analysis = pd.read_csv('Agents_Data.csv', index_col = [0] )"
   ]
  },
  {
   "cell_type": "code",
   "execution_count": 5,
   "id": "b70cb387",
   "metadata": {},
   "outputs": [],
   "source": [
    "df_analysis = df_analysis.drop_duplicates(subset=['Outlet','Year','Player'], keep='first')"
   ]
  },
  {
   "cell_type": "code",
   "execution_count": 6,
   "id": "09b4882c",
   "metadata": {},
   "outputs": [],
   "source": [
    "df_analysis = df_analysis.drop(['Rumour', 'Year', 'Player', 'Club', 'Interested_clubs', 'Clubs', 'Player Link'], axis=1)"
   ]
  },
  {
   "cell_type": "code",
   "execution_count": 7,
   "id": "fe80be2d",
   "metadata": {},
   "outputs": [
    {
     "name": "stdout",
     "output_type": "stream",
     "text": [
      "11\n",
      "60\n",
      "139\n",
      "253\n",
      "1638\n"
     ]
    }
   ],
   "source": [
    "#Checking lengths of categorical variables\n",
    "print(len(df_analysis[\"League\"].value_counts()))\n",
    "print(len(df_analysis[\"Country\"].value_counts()))\n",
    "print(len(df_analysis[\"Outlet\"].value_counts()))\n",
    "print(len(df_analysis[\"Agent\"].value_counts()))\n",
    "print(len(df_analysis))"
   ]
  },
  {
   "cell_type": "code",
   "execution_count": 8,
   "id": "f7867a65",
   "metadata": {},
   "outputs": [],
   "source": [
    "n = 14"
   ]
  },
  {
   "cell_type": "code",
   "execution_count": 9,
   "id": "049e064d",
   "metadata": {},
   "outputs": [],
   "source": [
    "df_analysis = df_analysis.groupby('League').filter(lambda x : len(x)>n)\n",
    "df_analysis = df_analysis.groupby('Country').filter(lambda x : len(x)>n)\n",
    "df_analysis = df_analysis.groupby('Outlet').filter(lambda x : len(x)>n)\n",
    "df_analysis = df_analysis.groupby('Agent').filter(lambda x : len(x)>7)"
   ]
  },
  {
   "cell_type": "code",
   "execution_count": 10,
   "id": "0f8b4976",
   "metadata": {},
   "outputs": [
    {
     "data": {
      "text/plain": [
       "Mail                       83\n",
       "The Sun                    66\n",
       "The Athletic               51\n",
       "Sky Sports                 47\n",
       "Football Insider           44\n",
       "90 Min                     41\n",
       "Marca                      40\n",
       "Mirror                     39\n",
       "L'Equipe                   30\n",
       "Telegraph                  28\n",
       "Independent Journalists    26\n",
       "Fabrizio Romano            26\n",
       "Goal                       24\n",
       "Mundo Deportivo            23\n",
       "Star                       21\n",
       "Calcio mercato             19\n",
       "Times                      17\n",
       "Bild                       17\n",
       "Corriere dello Sport       17\n",
       "Talksport                  16\n",
       "Evening Standard           16\n",
       "Express                    15\n",
       "Sport                      15\n",
       "Guardian                   15\n",
       "ESPN                       14\n",
       "Metro                      13\n",
       "Manchester Evening News    13\n",
       "Liverpool Echo              9\n",
       "Name: Outlet, dtype: int64"
      ]
     },
     "execution_count": 10,
     "metadata": {},
     "output_type": "execute_result"
    }
   ],
   "source": [
    "df_analysis[\"Outlet\"].value_counts()"
   ]
  },
  {
   "cell_type": "code",
   "execution_count": 24,
   "id": "4a22c434",
   "metadata": {},
   "outputs": [],
   "source": [
    "#Shortening Names\n",
    "df_analysis.loc[df_analysis['Outlet'].str.contains(\"Independent Journalists\"), \"Outlet\"] = \"Journalists\"\n",
    "df_analysis.loc[df_analysis['Outlet'].str.contains(\"Fabrizio Romano\"), \"Outlet\"] = \"F. Romano\" \n",
    "df_analysis.loc[df_analysis['Outlet'].str.contains(\"Manchester Evening News\"), \"Outlet\"] = \"Manchester N.\" \n",
    "df_analysis.loc[df_analysis['Outlet'].str.contains(\"Evening Standard\"), \"Outlet\"] = \"Evening Std\" \n",
    "df_analysis.loc[df_analysis['Outlet'].str.contains(\"Liverpool Echo\"), \"Outlet\"] = \"Liverpool E.\" \n",
    "df_analysis.loc[df_analysis['Outlet'].str.contains(\"Corriere dello Sport\"), \"Outlet\"] = \"Corriere S.\" \n",
    "df_analysis.loc[df_analysis['Outlet'].str.contains(\"Football Insider\"), \"Outlet\"] = \"Insider\" \n",
    "df_analysis.loc[df_analysis['Outlet'].str.contains(\"Calcio mercato\"), \"Outlet\"] = \"Calcio M.\" \n",
    "df_analysis.loc[df_analysis['Outlet'].str.contains(\"Mundo Deportivo\"), \"Outlet\"] = \"Mundo D.\" \n",
    "df_analysis.loc[df_analysis['Outlet'].str.contains(\"The Athletic\"), \"Outlet\"] = \"The Athletic\""
   ]
  },
  {
   "cell_type": "code",
   "execution_count": 25,
   "id": "6de32289",
   "metadata": {},
   "outputs": [
    {
     "name": "stdout",
     "output_type": "stream",
     "text": [
      "10\n",
      "24\n",
      "28\n",
      "29\n",
      "785\n"
     ]
    }
   ],
   "source": [
    "#Checking lengths of categorical variables after thresholds\n",
    "print(len(df_analysis[\"League\"].value_counts()))\n",
    "print(len(df_analysis[\"Country\"].value_counts()))\n",
    "print(len(df_analysis[\"Outlet\"].value_counts()))\n",
    "print(len(df_analysis[\"Agent\"].value_counts()))\n",
    "print(len(df_analysis))"
   ]
  },
  {
   "cell_type": "code",
   "execution_count": 26,
   "id": "1dda0e1d",
   "metadata": {},
   "outputs": [],
   "source": [
    "#df1 = df_analysis.loc[(df_analysis['Outlet'].str.contains(\"F. Romano\") & df_analysis['Outcome'] == True), ]\n",
    "#df2 = df_analysis.loc[(df_analysis['Outlet'].str.contains(\"Marca\") & df_analysis['Outcome'] == True), ]\n",
    "#\n",
    "#df3 = df_analysis.loc[df_analysis['Outlet'].str.contains(\"Mail\"), ]\n",
    "#df4 = df_analysis.loc[df_analysis['Outlet'].str.contains(\"Sun\"), ]\n",
    "#\n",
    "#df_analysis = pd.concat([ df1, df3, df3, df4], axis=0)"
   ]
  },
  {
   "cell_type": "code",
   "execution_count": 27,
   "id": "7b0983a6",
   "metadata": {},
   "outputs": [
    {
     "name": "stdout",
     "output_type": "stream",
     "text": [
      "200\n",
      "81\n",
      "55\n",
      "208\n"
     ]
    }
   ],
   "source": [
    "#Testing proportions of different categorical variables\n",
    "xxx = df_analysis.loc[df_analysis['Outcome'] == True , ]\n",
    "print(len(df_analysis.loc[df_analysis['Join'] > 2000,]))\n",
    "print(len(xxx.loc[xxx['Join'] > 2000,]))\n",
    "\n",
    "print(len(df_analysis.loc[df_analysis['Country'].str.contains(\"England\") & df_analysis['Outcome'] == True , ]))\n",
    "print(len(df_analysis.loc[df_analysis['Country'].str.contains(\"England\"),]))\n"
   ]
  },
  {
   "cell_type": "code",
   "execution_count": 28,
   "id": "095a3db4",
   "metadata": {},
   "outputs": [],
   "source": [
    "df_analysis.to_csv('Analysis_Data.csv', encoding='utf-8')"
   ]
  },
  {
   "cell_type": "code",
   "execution_count": 15,
   "id": "534f2663",
   "metadata": {},
   "outputs": [
    {
     "data": {
      "text/html": [
       "<div>\n",
       "<style scoped>\n",
       "    .dataframe tbody tr th:only-of-type {\n",
       "        vertical-align: middle;\n",
       "    }\n",
       "\n",
       "    .dataframe tbody tr th {\n",
       "        vertical-align: top;\n",
       "    }\n",
       "\n",
       "    .dataframe thead th {\n",
       "        text-align: right;\n",
       "    }\n",
       "</style>\n",
       "<table border=\"1\" class=\"dataframe\">\n",
       "  <thead>\n",
       "    <tr style=\"text-align: right;\">\n",
       "      <th></th>\n",
       "      <th>Age</th>\n",
       "      <th>Join</th>\n",
       "      <th>Market Value</th>\n",
       "    </tr>\n",
       "  </thead>\n",
       "  <tbody>\n",
       "    <tr>\n",
       "      <th>count</th>\n",
       "      <td>785.000000</td>\n",
       "      <td>785.000000</td>\n",
       "      <td>785.000000</td>\n",
       "    </tr>\n",
       "    <tr>\n",
       "      <th>mean</th>\n",
       "      <td>25.414013</td>\n",
       "      <td>1519.861146</td>\n",
       "      <td>33.259745</td>\n",
       "    </tr>\n",
       "    <tr>\n",
       "      <th>std</th>\n",
       "      <td>4.102396</td>\n",
       "      <td>1045.936904</td>\n",
       "      <td>27.230780</td>\n",
       "    </tr>\n",
       "    <tr>\n",
       "      <th>min</th>\n",
       "      <td>16.000000</td>\n",
       "      <td>-62.000000</td>\n",
       "      <td>0.000000</td>\n",
       "    </tr>\n",
       "    <tr>\n",
       "      <th>25%</th>\n",
       "      <td>23.000000</td>\n",
       "      <td>730.000000</td>\n",
       "      <td>14.000000</td>\n",
       "    </tr>\n",
       "    <tr>\n",
       "      <th>50%</th>\n",
       "      <td>25.000000</td>\n",
       "      <td>1096.000000</td>\n",
       "      <td>25.000000</td>\n",
       "    </tr>\n",
       "    <tr>\n",
       "      <th>75%</th>\n",
       "      <td>28.000000</td>\n",
       "      <td>2130.000000</td>\n",
       "      <td>45.000000</td>\n",
       "    </tr>\n",
       "    <tr>\n",
       "      <th>max</th>\n",
       "      <td>37.000000</td>\n",
       "      <td>6209.000000</td>\n",
       "      <td>160.000000</td>\n",
       "    </tr>\n",
       "  </tbody>\n",
       "</table>\n",
       "</div>"
      ],
      "text/plain": [
       "              Age         Join  Market Value\n",
       "count  785.000000   785.000000    785.000000\n",
       "mean    25.414013  1519.861146     33.259745\n",
       "std      4.102396  1045.936904     27.230780\n",
       "min     16.000000   -62.000000      0.000000\n",
       "25%     23.000000   730.000000     14.000000\n",
       "50%     25.000000  1096.000000     25.000000\n",
       "75%     28.000000  2130.000000     45.000000\n",
       "max     37.000000  6209.000000    160.000000"
      ]
     },
     "execution_count": 15,
     "metadata": {},
     "output_type": "execute_result"
    }
   ],
   "source": [
    "df_analysis.describe()"
   ]
  },
  {
   "cell_type": "code",
   "execution_count": null,
   "id": "067a1bce",
   "metadata": {},
   "outputs": [],
   "source": []
  }
 ],
 "metadata": {
  "kernelspec": {
   "display_name": "Python 3 (ipykernel)",
   "language": "python",
   "name": "python3"
  },
  "language_info": {
   "codemirror_mode": {
    "name": "ipython",
    "version": 3
   },
   "file_extension": ".py",
   "mimetype": "text/x-python",
   "name": "python",
   "nbconvert_exporter": "python",
   "pygments_lexer": "ipython3",
   "version": "3.10.9"
  }
 },
 "nbformat": 4,
 "nbformat_minor": 5
}
