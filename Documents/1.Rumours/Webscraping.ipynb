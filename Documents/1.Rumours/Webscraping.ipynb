{
 "cells": [
  {
   "cell_type": "code",
   "execution_count": 9,
   "id": "2165a1fb",
   "metadata": {},
   "outputs": [],
   "source": [
    "from bs4 import BeautifulSoup\n",
    "import pandas as pd\n",
    "import requests as rq\n",
    "import numpy as np\n",
    "import regex as re"
   ]
  },
  {
   "cell_type": "markdown",
   "id": "8815a105",
   "metadata": {},
   "source": [
    "### Defining Scraping Functions"
   ]
  },
  {
   "cell_type": "code",
   "execution_count": 10,
   "id": "83ade7d3",
   "metadata": {},
   "outputs": [],
   "source": [
    "def bbc_gossip_scraper():\n",
    "        # Find the container that holds the gossips\n",
    "        gossip_container = soup.find('div', class_='story-body')\n",
    "        \n",
    "        # Find all the gossip items within the container, p is for the text\n",
    "        gossip_items = gossip_container.find_all(\"p\")\n",
    "        \n",
    "        gossips = []\n",
    "        # Extract and print the gossips\n",
    "        for item in gossip_items:\n",
    "            gossips.append(item.text.strip())\n",
    "            \n",
    "        return gossips"
   ]
  },
  {
   "cell_type": "code",
   "execution_count": 11,
   "id": "ccb83eb2",
   "metadata": {},
   "outputs": [],
   "source": [
    "def bbc_links():\n",
    "        gossip_container = soup.find('div', class_='story-body')\n",
    "\n",
    "        links_items = gossip_container.find_all(\"a\", href = True)\n",
    "        \n",
    "        links = []\n",
    "        # Extract and print the gossips\n",
    "        for a_href in links_items:\n",
    "                links.append(a_href[\"href\"])\n",
    "                \n",
    "        return links\n",
    "            "
   ]
  },
  {
   "cell_type": "markdown",
   "id": "f329b525",
   "metadata": {},
   "source": [
    "#### 2020 Urls"
   ]
  },
  {
   "cell_type": "code",
   "execution_count": 14,
   "id": "600ead2d",
   "metadata": {},
   "outputs": [],
   "source": [
    "urls_2020 = [\"https://web.archive.org/web/20210619021751/https://www.bbc.com/sport/football/gossip\", \"https://web.archive.org/web/20210620183734/https://www.bbc.com/sport/football/gossip\", \n",
    "               \"https://web.archive.org/web/20210621183844/https://www.bbc.com/sport/football/gossip\", \"https://web.archive.org/web/20210622133004/https://www.bbc.com/sport/football/gossip\",\n",
    "               \"https://web.archive.org/web/20210628230838/https://www.bbc.com/sport/football/gossip\", \"https://web.archive.org/web/20210703201137/https://www.bbc.com/sport/football/gossip\", \n",
    "               \"https://web.archive.org/web/20210704154347/https://www.bbc.com/sport/football/gossip\", \"https://web.archive.org/web/20210707122920/https://www.bbc.com/sport/football/gossip\", \n",
    "               \"https://web.archive.org/web/20210708130813/https://www.bbc.com/sport/football/gossip\", \"https://web.archive.org/web/20210709221612/https://www.bbc.com/sport/football/gossip\", \n",
    "               \"https://web.archive.org/web/20210711212613/https://www.bbc.com/sport/football/gossip\", \"https://web.archive.org/web/20210712230850/https://www.bbc.com/sport/football/gossip\", \n",
    "               \"https://web.archive.org/web/20210713215941/https://www.bbc.com/sport/football/gossip\", \"https://web.archive.org/web/20210727232506/https://www.bbc.com/sport/football/gossip\", \n",
    "               \"https://web.archive.org/web/20210801060507/https://www.bbc.com/sport/football/gossip\", \"https://web.archive.org/web/20210802110808/https://www.bbc.com/sport/football/gossip\", \n",
    "               \"https://web.archive.org/web/20210805011519/https://www.bbc.com/sport/football/gossip\", \"https://web.archive.org/web/20210811074217/https://www.bbc.com/sport/football/gossip\",\n",
    "               \"https://web.archive.org/web/20210817003229/https://www.bbc.com/sport/football/gossip\", \"https://web.archive.org/web/20210818210400/https://www.bbc.com/sport/football/gossip\",\n",
    "               \"https://web.archive.org/web/20210823113416/https://www.bbc.com/sport/football/gossip\", \"https://web.archive.org/web/20210824142954/https://www.bbc.com/sport/football/gossip\",\n",
    "               \"https://web.archive.org/web/20210826230124/https://www.bbc.com/sport/football/gossip\", \"https://web.archive.org/web/20210827034603/https://www.bbc.com/sport/football/gossip\",\n",
    "               \"https://web.archive.org/web/20210828214456/https://www.bbc.com/sport/football/gossip\", \"https://web.archive.org/web/20210829172157/https://www.bbc.com/sport/football/gossip\", \n",
    "               \"https://web.archive.org/web/20210830074254/https://www.bbc.com/sport/football/gossip\", \"https://web.archive.org/web/20210831133518/https://www.bbc.com/sport/football/gossip\", ]"
   ]
  },
  {
   "cell_type": "code",
   "execution_count": 15,
   "id": "70fef169",
   "metadata": {},
   "outputs": [],
   "source": [
    "rumours_2020 = []\n",
    "links_2020 = []\n",
    "\n",
    "for url in (urls_2020) : \n",
    "    url = url\n",
    "    # Send a GET request to the URL\n",
    "    response = rq.get(url)\n",
    "    # Create a BeautifulSoup object to parse the HTML content\n",
    "    soup = BeautifulSoup(response.content, 'html.parser')\n",
    "    gossips = bbc_gossip_scraper()\n",
    "    link = bbc_links()\n",
    "    link = link[0:len(gossips)]\n",
    "    \n",
    "    rumours_2020 += gossips\n",
    "    links_2020 += link"
   ]
  },
  {
   "cell_type": "code",
   "execution_count": 16,
   "id": "7165e527",
   "metadata": {},
   "outputs": [],
   "source": [
    "year_2020 = [\"2020\"] * len(rumours_2020)"
   ]
  },
  {
   "cell_type": "markdown",
   "id": "b686fbf5",
   "metadata": {},
   "source": [
    "#### All 2021 Urls"
   ]
  },
  {
   "cell_type": "code",
   "execution_count": 17,
   "id": "143e655e",
   "metadata": {},
   "outputs": [],
   "source": [
    "urls_June_2021 = [\"https://web.archive.org/web/20210602160703/https://www.bbc.com/sport/football/gossip\",\n",
    "        \"https://web.archive.org/web/20210604170315/https://www.bbc.com/sport/football/gossip\",\n",
    "        \"https://web.archive.org/web/20210606172056/https://www.bbc.com/sport/football/gossip\",\n",
    "        \"https://web.archive.org/web/20210607174753/https://www.bbc.com/sport/football/gossip\",\n",
    "        \"https://web.archive.org/web/20210614170345/https://www.bbc.com/sport/football/gossip\", \n",
    "        \"https://web.archive.org/web/20210615024005/https://www.bbc.com/sport/football/gossip\",  \n",
    "        \"https://web.archive.org/web/20210619021751/https://www.bbc.com/sport/football/gossip\",  \n",
    "        \"https://web.archive.org/web/20210620183734/https://www.bbc.com/sport/football/gossip\",  \n",
    "        \"https://web.archive.org/web/20210621183844/https://www.bbc.com/sport/football/gossip\",  \n",
    "        \"https://web.archive.org/web/20210622133004/https://www.bbc.com/sport/football/gossip\",  \n",
    "        \"https://web.archive.org/web/20210628172824/https://www.bbc.com/sport/football/gossip\"]"
   ]
  },
  {
   "cell_type": "code",
   "execution_count": 18,
   "id": "af86e5fd",
   "metadata": {},
   "outputs": [],
   "source": [
    "urls_July_2021 = [\"https://web.archive.org/web/20210703201137/https://www.bbc.com/sport/football/gossip\", \n",
    "        \"https://web.archive.org/web/20210704154347/https://www.bbc.com/sport/football/gossip\",\n",
    "        \"https://web.archive.org/web/20210707122920/https://www.bbc.com/sport/football/gossip\",  \n",
    "        \"https://web.archive.org/web/20210708130813/https://www.bbc.com/sport/football/gossip\",  \n",
    "        \"https://web.archive.org/web/20210709014832/https://www.bbc.com/sport/football/gossip\",  \n",
    "        \"https://web.archive.org/web/20210711014254/https://www.bbc.com/sport/football/gossip\",  \n",
    "        \"https://web.archive.org/web/20210712043329/https://www.bbc.com/sport/football/gossip\",  \n",
    "        \"https://web.archive.org/web/20210713064856/https://www.bbc.com/sport/football/gossip\",  \n",
    "        \"https://web.archive.org/web/20210727232506/https://www.bbc.com/sport/football/gossip\"]"
   ]
  },
  {
   "cell_type": "code",
   "execution_count": 19,
   "id": "9f11da19",
   "metadata": {},
   "outputs": [],
   "source": [
    "urls_August_2021 = [\"https://web.archive.org/web/20210801060507/https://www.bbc.com/sport/football/gossip\", \"https://web.archive.org/web/20210802110808/https://www.bbc.com/sport/football/gossip\", \n",
    "               \"https://web.archive.org/web/20210805011519/https://www.bbc.com/sport/football/gossip\", \"https://web.archive.org/web/20210811074217/https://www.bbc.com/sport/football/gossip\", \n",
    "               \"https://web.archive.org/web/20210817003229/https://www.bbc.com/sport/football/gossip\", \"https://web.archive.org/web/20210818210400/https://www.bbc.com/sport/football/gossip\", \n",
    "               \"https://web.archive.org/web/20210823113416/https://www.bbc.com/sport/football/gossip\", \"https://web.archive.org/web/20210824142954/https://www.bbc.com/sport/football/gossip\", \n",
    "               \"https://web.archive.org/web/20210826230124/https://www.bbc.com/sport/football/gossip\", \"https://web.archive.org/web/20210827034603/https://www.bbc.com/sport/football/gossip\", \n",
    "               \"https://web.archive.org/web/20210828214456/https://www.bbc.com/sport/football/gossip\", \"https://web.archive.org/web/20210829172157/https://www.bbc.com/sport/football/gossip\", \n",
    "               \"https://web.archive.org/web/20210830074254/https://www.bbc.com/sport/football/gossip\", \"https://web.archive.org/web/20210831133518/https://www.bbc.com/sport/football/gossip\"]"
   ]
  },
  {
   "cell_type": "code",
   "execution_count": 20,
   "id": "39da849e",
   "metadata": {},
   "outputs": [],
   "source": [
    "urls_Winter_2021 = [\"https://web.archive.org/web/20211120033056/https://www.bbc.com/sport/football/gossip\", \"https://web.archive.org/web/20211121101156/https://www.bbc.com/sport/football/gossip\", \n",
    "               \"https://web.archive.org/web/20211122215005/https://www.bbc.com/sport/football/gossip\", \"https://web.archive.org/web/20211124060340/https://www.bbc.com/sport/football/gossip\",\n",
    "               \"https://web.archive.org/web/20211127192930/https://www.bbc.com/sport/football/gossip\", \"https://web.archive.org/web/20211128185612/https://www.bbc.com/sport/football/gossip\", \n",
    "               \"https://web.archive.org/web/20211129195657/https://www.bbc.com/sport/football/gossip\", \"https://web.archive.org/web/20211130213838/https://www.bbc.com/sport/football/gossip\", \n",
    "               \"https://web.archive.org/web/20211203160534/https://www.bbc.com/sport/football/gossip\", \"https://web.archive.org/web/20211204045345/https://www.bbc.com/sport/football/gossip\", \n",
    "               \"https://web.archive.org/web/20211215163625/https://www.bbc.com/sport/football/gossip\", \"https://web.archive.org/web/20211217072438/https://www.bbc.com/sport/football/gossip\", \n",
    "               \"https://web.archive.org/web/20211218052954/https://www.bbc.com/sport/football/gossip\", \"https://web.archive.org/web/20211219080615/https://www.bbc.com/sport/football/gossip\", \n",
    "               \"https://web.archive.org/web/20211230213858/https://www.bbc.com/sport/football/gossip\", \"https://web.archive.org/web/20220106153553/https://www.bbc.com/sport/football/gossip\", \n",
    "               \"https://web.archive.org/web/20220108132446/https://www.bbc.com/sport/football/gossip\", \"https://web.archive.org/web/20220111172426/https://www.bbc.com/sport/football/gossip\",\n",
    "               \"https://web.archive.org/web/20220114133438/https://www.bbc.com/sport/football/gossip\", \"https://web.archive.org/web/20220119203937/https://www.bbc.com/sport/football/gossip\",\n",
    "               \"https://web.archive.org/web/20220125165540/https://www.bbc.com/sport/football/gossip\", \"https://web.archive.org/web/20220130004709/https://www.bbc.com/sport/football/gossip\"]"
   ]
  },
  {
   "cell_type": "code",
   "execution_count": 21,
   "id": "9607b8d8",
   "metadata": {},
   "outputs": [],
   "source": [
    "rumours_2021 = []\n",
    "links_2021 = []\n",
    "\n",
    "for url in (urls_June_2021 + urls_July_2021 + urls_August_2021 + urls_Winter_2021) : \n",
    "    url = url\n",
    "    # Send a GET request to the URL\n",
    "    response = rq.get(url)\n",
    "    # Create a BeautifulSoup object to parse the HTML content\n",
    "    soup = BeautifulSoup(response.content, 'html.parser')\n",
    "    gossips = bbc_gossip_scraper()\n",
    "    link = bbc_links()\n",
    "    link = link[0:len(gossips)]\n",
    "    \n",
    "    rumours_2021 += gossips\n",
    "    links_2021 += link\n"
   ]
  },
  {
   "cell_type": "code",
   "execution_count": 22,
   "id": "2e494ce6",
   "metadata": {},
   "outputs": [],
   "source": [
    "year_2021 = [\"2021\"] * len(rumours_2021)"
   ]
  },
  {
   "cell_type": "markdown",
   "id": "43dc6dff",
   "metadata": {},
   "source": [
    "#### 2022 URLS"
   ]
  },
  {
   "cell_type": "code",
   "execution_count": 23,
   "id": "6e22ba16",
   "metadata": {},
   "outputs": [],
   "source": [
    "urls_June_2022 = [\"https://web.archive.org/web/20220601094959/https://www.bbc.com/sport/football/gossip\", \"https://web.archive.org/web/20220602101813/https://www.bbc.com/sport/football/gossip\",   \n",
    "        \"https://web.archive.org/web/20220603104417/https://www.bbc.com/sport/football/gossip\", \"https://web.archive.org/web/20220604102039/https://www.bbc.com/sport/football/gossip\", \n",
    "        \"https://web.archive.org/web/20220605084452/https://www.bbc.com/sport/football/gossip\", \"https://web.archive.org/web/20220606090441/https://www.bbc.com/sport/football/gossip\", \n",
    "        \"https://web.archive.org/web/20220608080521/https://www.bbc.com/sport/football/gossip\", \"https://web.archive.org/web/20220609104557/https://www.bbc.com/sport/football/gossip\", \n",
    "        \"https://web.archive.org/web/20220610153024/https://www.bbc.com/sport/football/gossip\", \"https://web.archive.org/web/20220611155107/https://www.bbc.com/sport/football/gossip\", \n",
    "        \"https://web.archive.org/web/20220613145601/https://www.bbc.com/sport/football/gossip\", \"https://web.archive.org/web/20220614145144/https://www.bbc.com/sport/football/gossip\", \n",
    "        \"https://web.archive.org/web/20220615123458/https://www.bbc.com/sport/football/gossip\", \"https://web.archive.org/web/20220616134400/https://www.bbc.com/sport/football/gossip\", \n",
    "        \"https://web.archive.org/web/20220617095515/https://www.bbc.com/sport/football/gossip\", \"https://web.archive.org/web/20220618183212/https://www.bbc.com/sport/football/gossip\", \n",
    "        \"https://web.archive.org/web/20220619144143/https://www.bbc.com/sport/football/gossip\", \"https://web.archive.org/web/20220620101859/https://www.bbc.com/sport/football/gossip\", \n",
    "        \"https://web.archive.org/web/20220621124822/https://www.bbc.com/sport/football/gossip\", \"https://web.archive.org/web/20220622134921/https://www.bbc.com/sport/football/gossip\", \n",
    "        \"https://web.archive.org/web/20220623133619/https://www.bbc.com/sport/football/gossip\", \"https://web.archive.org/web/20220624143618/https://www.bbc.com/sport/football/gossip\", \n",
    "        \"https://web.archive.org/web/20220628182107/https://www.bbc.com/sport/football/gossip\", \"https://web.archive.org/web/20220629182856/https://www.bbc.com/sport/football/gossip\",\n",
    "        \"https://web.archive.org/web/20220630194101/https://www.bbc.com/sport/football/gossip\"]"
   ]
  },
  {
   "cell_type": "code",
   "execution_count": 24,
   "id": "3ad1d03a",
   "metadata": {},
   "outputs": [],
   "source": [
    "urls_July_2022 = [\"https://web.archive.org/web/20220701181146/https://www.bbc.com/sport/football/gossip\", \"https://web.archive.org/web/20220702190637/https://www.bbc.com/sport/football/gossip\",   \n",
    "        \"https://web.archive.org/web/20220703134805/https://www.bbc.com/sport/football/gossip\", \"https://web.archive.org/web/20220704201318/https://www.bbc.com/sport/football/gossip\", \n",
    "        \"https://web.archive.org/web/20220706230638/https://www.bbc.com/sport/football/gossip\", \"https://web.archive.org/web/20220707192840/https://www.bbc.com/sport/football/gossip\", \n",
    "        \"https://web.archive.org/web/20220709222652/https://www.bbc.com/sport/football/gossip\", \"https://web.archive.org/web/20220710220140/https://www.bbc.com/sport/football/gossip\", \n",
    "        \"https://web.archive.org/web/20220711225020/https://www.bbc.com/sport/football/gossip\", \"https://web.archive.org/web/20220712235916/https://www.bbc.com/sport/football/gossip\", \n",
    "        \"https://web.archive.org/web/20220714210457/https://www.bbc.com/sport/football/gossip\", \"https://web.archive.org/web/20220716013739/https://www.bbc.com/sport/football/gossip\", \n",
    "        \"https://web.archive.org/web/20220718001703/https://www.bbc.com/sport/football/gossip\", \"https://web.archive.org/web/20220719031538/https://www.bbc.com/sport/football/gossip\", \n",
    "        \"https://web.archive.org/web/20220720102548/https://www.bbc.com/sport/football/gossip\", \"https://web.archive.org/web/20220721063419/https://www.bbc.com/sport/football/gossip\", \n",
    "        \"https://web.archive.org/web/20220722073219/https://www.bbc.com/sport/football/gossip\", \"https://web.archive.org/web/20220723075610/https://www.bbc.com/sport/football/gossip\", \n",
    "        \"https://web.archive.org/web/20220725074433/https://www.bbc.com/sport/football/gossip\", \"https://web.archive.org/web/20220726090854/https://www.bbc.com/sport/football/gossip\", \n",
    "        \"https://web.archive.org/web/20220727175431/https://www.bbc.com/sport/football/gossip\", \"https://web.archive.org/web/20220729140258/https://www.bbc.com/sport/football/gossip\", \n",
    "        \"https://web.archive.org/web/20220730152232/https://www.bbc.com/sport/football/gossip\", \"https://web.archive.org/web/20220731142107/https://www.bbc.com/sport/football/gossip\"]"
   ]
  },
  {
   "cell_type": "code",
   "execution_count": 25,
   "id": "b7f6d237",
   "metadata": {},
   "outputs": [],
   "source": [
    "urls_August_2022 = [\"https://web.archive.org/web/20220801131446/https://www.bbc.com/sport/football/gossip\", \"https://web.archive.org/web/20220802175102/https://www.bbc.com/sport/football/gossip\", \n",
    "               \"https://web.archive.org/web/20220806185644/https://www.bbc.com/sport/football/gossip\", \"https://web.archive.org/web/20220807180927/https://www.bbc.com/sport/football/gossip\", \n",
    "               \"https://web.archive.org/web/20220808115023/https://www.bbc.com/sport/football/gossip\", \"https://web.archive.org/web/20220810140713/https://www.bbc.com/sport/football/gossip\", \n",
    "               \"https://web.archive.org/web/20220811153322/https://www.bbc.com/sport/football/gossip\", \"https://web.archive.org/web/20220812174459/https://www.bbc.com/sport/football/gossip\", \n",
    "               \"https://web.archive.org/web/20220813220640/https://www.bbc.com/sport/football/gossip\", \"https://web.archive.org/web/20220814172937/https://www.bbc.com/sport/football/gossip\", \n",
    "               \"https://web.archive.org/web/20220815203217/https://www.bbc.com/sport/football/gossip\", \"https://web.archive.org/web/20220816194342/https://www.bbc.com/sport/football/gossip\", \n",
    "               \"https://web.archive.org/web/20220817154722/https://www.bbc.com/sport/football/gossip\", \"https://web.archive.org/web/20220818190427/https://www.bbc.com/sport/football/gossip\", \n",
    "               \"https://web.archive.org/web/20220819043728/https://www.bbc.com/sport/football/gossip\", \"https://web.archive.org/web/20220820160526/https://www.bbc.com/sport/football/gossip\", \n",
    "               \"https://web.archive.org/web/20220821044247/https://www.bbc.com/sport/football/gossip\", \"https://web.archive.org/web/20220822223459/https://www.bbc.com/sport/football/gossip\", \n",
    "               \"https://web.archive.org/web/20220823222234/https://www.bbc.com/sport/football/gossip\", \"https://web.archive.org/web/20220824223820/https://www.bbc.com/sport/football/gossip\", \n",
    "               \"https://web.archive.org/web/20220826092949/https://www.bbc.com/sport/football/gossip\", \"https://web.archive.org/web/20220828204950/https://www.bbc.com/sport/football/gossip\",\n",
    "               \"https://web.archive.org/web/20220830053942/https://www.bbc.com/sport/football/gossip\", \"https://web.archive.org/web/20220831110708/https://www.bbc.com/sport/football/gossip\"]"
   ]
  },
  {
   "cell_type": "code",
   "execution_count": 26,
   "id": "343756d8",
   "metadata": {},
   "outputs": [],
   "source": [
    "urls_Winter_2022 = [\"https://web.archive.org/web/20221201191619/https://www.bbc.com/sport/football/gossip\", \"https://web.archive.org/web/20221206201449/https://www.bbc.com/sport/football/gossip\", \n",
    "               \"https://web.archive.org/web/20221207201729/https://www.bbc.com/sport/football/gossip\", \"https://web.archive.org/web/20221208203114/https://www.bbc.com/sport/football/gossip\",\n",
    "               \"https://web.archive.org/web/20221210201037/https://www.bbc.com/sport/football/gossip\", \"https://web.archive.org/web/20221212200907/https://www.bbc.com/sport/football/gossip\", \n",
    "               \"https://web.archive.org/web/20221213191609/https://www.bbc.com/sport/football/gossip\", \"https://web.archive.org/web/20221214210506/https://www.bbc.com/sport/football/gossip\", \n",
    "               \"https://web.archive.org/web/20221215205323/https://www.bbc.com/sport/football/gossip\", \"https://web.archive.org/web/20221216214801/https://www.bbc.com/sport/football/gossip\", \n",
    "               \"https://web.archive.org/web/20221217224442/https://www.bbc.com/sport/football/gossip\", \"https://web.archive.org/web/20221219135409/https://www.bbc.com/sport/football/gossip\", \n",
    "               \"https://web.archive.org/web/20221220230317/https://www.bbc.com/sport/football/gossip\", \"https://web.archive.org/web/20221222005208/https://www.bbc.com/sport/football/gossip\", \n",
    "               \"https://web.archive.org/web/20221223054412/https://www.bbc.com/sport/football/gossip\", \"https://web.archive.org/web/20221224004809/https://www.bbc.com/sport/football/gossip\", \n",
    "               \"https://web.archive.org/web/20221225030020/https://www.bbc.com/sport/football/gossip\", \"https://web.archive.org/web/20221227050758/https://www.bbc.com/sport/football/gossip\",\n",
    "               \"https://web.archive.org/web/20221228020821/https://www.bbc.com/sport/football/gossip\", \"https://web.archive.org/web/20221229033012/https://www.bbc.com/sport/football/gossip\",\n",
    "               \"https://web.archive.org/web/20221231005654/https://www.bbc.com/sport/football/gossip\", \"https://web.archive.org/web/20230101071133/https://www.bbc.com/sport/football/gossip\",\n",
    "               \"https://web.archive.org/web/20230102060050/https://www.bbc.com/sport/football/gossip\", \"https://web.archive.org/web/20230103054419/https://www.bbc.com/sport/football/gossip\",\n",
    "               \"https://web.archive.org/web/20230104073604/https://www.bbc.com/sport/football/gossip\", \"https://web.archive.org/web/20230107104029/https://www.bbc.com/sport/football/gossip\",\n",
    "               \"https://web.archive.org/web/20230108094522/https://www.bbc.com/sport/football/gossip\", \"https://web.archive.org/web/20230110085315/https://www.bbc.com/sport/football/gossip\",\n",
    "               \"https://web.archive.org/web/20230111070425/https://www.bbc.com/sport/football/gossip\", \"https://web.archive.org/web/20230112000645/https://www.bbc.com/sport/football/gossip\",\n",
    "               \"https://web.archive.org/web/20230113084303/https://www.bbc.com/sport/football/gossip\", \"https://web.archive.org/web/20230114040848/https://www.bbc.com/sport/football/gossip\",\n",
    "               \"https://web.archive.org/web/20230115203817/https://www.bbc.com/sport/football/gossip\", \"https://web.archive.org/web/20230116153200/https://www.bbc.com/sport/football/gossip\",\n",
    "               \"https://web.archive.org/web/20230117232438/https://www.bbc.com/sport/football/gossip\", \"https://web.archive.org/web/20230123055912/https://www.bbc.com/sport/football/gossip\",\n",
    "               \"https://web.archive.org/web/20230129143225/https://www.bbc.com/sport/football/gossip\", \"https://web.archive.org/web/20230131083612/https://www.bbc.com/sport/football/gossip\"]"
   ]
  },
  {
   "cell_type": "markdown",
   "id": "94f9759b",
   "metadata": {},
   "source": [
    "#### For loops to scrape each page "
   ]
  },
  {
   "cell_type": "code",
   "execution_count": 27,
   "id": "87272ff9",
   "metadata": {},
   "outputs": [],
   "source": [
    "rumours_2022 = []\n",
    "links_2022 = []\n",
    "\n",
    "\n",
    "for url in (urls_June_2021 + urls_July_2022 + urls_August_2022 + urls_Winter_2022) : \n",
    "    url = url\n",
    "    # Send a GET request to the URL\n",
    "    response = rq.get(url)\n",
    "    # Create a BeautifulSoup object to parse the HTML content\n",
    "    soup = BeautifulSoup(response.content, 'html.parser')\n",
    "    \n",
    "    gossips = bbc_gossip_scraper()\n",
    "    link = bbc_links()\n",
    "    link = link[0:len(gossips)]\n",
    "    \n",
    "    rumours_2022 += gossips\n",
    "    links_2022 += link\n"
   ]
  },
  {
   "cell_type": "code",
   "execution_count": 28,
   "id": "b4686128",
   "metadata": {},
   "outputs": [],
   "source": [
    "#Precising the year for each entry\n",
    "year_2022 = [\"2022\"] * len(rumours_2022)"
   ]
  },
  {
   "cell_type": "code",
   "execution_count": 29,
   "id": "7f5b81d6",
   "metadata": {},
   "outputs": [],
   "source": [
    "#len(year_2022)"
   ]
  },
  {
   "cell_type": "code",
   "execution_count": 30,
   "id": "0459ee51",
   "metadata": {},
   "outputs": [],
   "source": [
    "#len(links_2022)"
   ]
  },
  {
   "cell_type": "markdown",
   "id": "282e6c72",
   "metadata": {},
   "source": [
    "### Combining the Data + Cleaning"
   ]
  },
  {
   "cell_type": "code",
   "execution_count": 31,
   "id": "6aff7570",
   "metadata": {},
   "outputs": [],
   "source": [
    "df = pd.DataFrame(\n",
    "    {'Rumour': (rumours_2020 + rumours_2021 + rumours_2022 ),\n",
    "     #'Link': (links_2021 + links_2022), --> Issues with length\n",
    "     'Year' : (year_2020 + year_2021 + year_2022),\n",
    "    })\n"
   ]
  },
  {
   "cell_type": "code",
   "execution_count": 32,
   "id": "022d315d",
   "metadata": {},
   "outputs": [],
   "source": [
    "import re"
   ]
  },
  {
   "cell_type": "code",
   "execution_count": 33,
   "id": "74092f42",
   "metadata": {
    "scrolled": true
   },
   "outputs": [],
   "source": [
    "#Looking for the writing in between brackets (The outlet) to the right of the last punctuation mark to account for fringe cases\n",
    "Outlet = []\n",
    "for row in df.iloc[:,0]:\n",
    "    try : \n",
    "        Outlet.append(re.search(r'\\((.*?)\\)',row[row.rindex('.')+1:]).group(1))\n",
    "    except (ValueError, AttributeError): \n",
    "        Outlet.append(\"NA\")\n"
   ]
  },
  {
   "cell_type": "code",
   "execution_count": 34,
   "id": "78f0bbd0",
   "metadata": {},
   "outputs": [],
   "source": [
    "df1 = df"
   ]
  },
  {
   "cell_type": "code",
   "execution_count": 35,
   "id": "808870f2",
   "metadata": {},
   "outputs": [],
   "source": [
    "df1[\"Outlet\"] = Outlet"
   ]
  },
  {
   "cell_type": "code",
   "execution_count": 36,
   "id": "082445fc",
   "metadata": {},
   "outputs": [],
   "source": [
    "df1 = df1.loc[df1[\"Outlet\"] != \"NA\",]"
   ]
  },
  {
   "cell_type": "code",
   "execution_count": 37,
   "id": "72496331",
   "metadata": {},
   "outputs": [],
   "source": [
    "df2 = df1"
   ]
  },
  {
   "cell_type": "code",
   "execution_count": 38,
   "id": "6ca10660",
   "metadata": {},
   "outputs": [],
   "source": [
    "#Extracting the text without the outlet at the end \n",
    "cleaned = []\n",
    "for row in df1.iloc[:,0]:\n",
    "    try : \n",
    "        cleaned.append(row.rsplit('.', 1)[0])\n",
    "    except (ValueError, AttributeError): \n",
    "        cleaned.append(\"NA\") \n"
   ]
  },
  {
   "cell_type": "code",
   "execution_count": 39,
   "id": "db091d45",
   "metadata": {},
   "outputs": [
    {
     "name": "stderr",
     "output_type": "stream",
     "text": [
      "C:\\Users\\Titoran\\AppData\\Local\\Temp\\ipykernel_29320\\3685982613.py:1: SettingWithCopyWarning: \n",
      "A value is trying to be set on a copy of a slice from a DataFrame.\n",
      "Try using .loc[row_indexer,col_indexer] = value instead\n",
      "\n",
      "See the caveats in the documentation: https://pandas.pydata.org/pandas-docs/stable/user_guide/indexing.html#returning-a-view-versus-a-copy\n",
      "  df2[\"Rumour\"] = cleaned\n"
     ]
    }
   ],
   "source": [
    "df2[\"Rumour\"] = cleaned"
   ]
  },
  {
   "cell_type": "code",
   "execution_count": 40,
   "id": "f94654ec",
   "metadata": {},
   "outputs": [
    {
     "data": {
      "text/html": [
       "<div>\n",
       "<style scoped>\n",
       "    .dataframe tbody tr th:only-of-type {\n",
       "        vertical-align: middle;\n",
       "    }\n",
       "\n",
       "    .dataframe tbody tr th {\n",
       "        vertical-align: top;\n",
       "    }\n",
       "\n",
       "    .dataframe thead th {\n",
       "        text-align: right;\n",
       "    }\n",
       "</style>\n",
       "<table border=\"1\" class=\"dataframe\">\n",
       "  <thead>\n",
       "    <tr style=\"text-align: right;\">\n",
       "      <th></th>\n",
       "      <th>Rumour</th>\n",
       "      <th>Year</th>\n",
       "      <th>Outlet</th>\n",
       "    </tr>\n",
       "  </thead>\n",
       "  <tbody>\n",
       "    <tr>\n",
       "      <th>0</th>\n",
       "      <td>Tottenham and England striker Harry Kane, 27, ...</td>\n",
       "      <td>2020</td>\n",
       "      <td>90min</td>\n",
       "    </tr>\n",
       "    <tr>\n",
       "      <th>1</th>\n",
       "      <td>PSG are to make renewed attempts to sign Manch...</td>\n",
       "      <td>2020</td>\n",
       "      <td>Le Parisien - in French</td>\n",
       "    </tr>\n",
       "    <tr>\n",
       "      <th>2</th>\n",
       "      <td>Arsenal will make another attempt to sign 22-y...</td>\n",
       "      <td>2020</td>\n",
       "      <td>Sun</td>\n",
       "    </tr>\n",
       "    <tr>\n",
       "      <th>3</th>\n",
       "      <td>Sergio Ramos is a target for Manchester United...</td>\n",
       "      <td>2020</td>\n",
       "      <td>90min</td>\n",
       "    </tr>\n",
       "    <tr>\n",
       "      <th>5</th>\n",
       "      <td>Real Madrid and France defender Raphael Varane...</td>\n",
       "      <td>2020</td>\n",
       "      <td>Goal</td>\n",
       "    </tr>\n",
       "    <tr>\n",
       "      <th>...</th>\n",
       "      <td>...</td>\n",
       "      <td>...</td>\n",
       "      <td>...</td>\n",
       "    </tr>\n",
       "    <tr>\n",
       "      <th>3326</th>\n",
       "      <td>Manchester United forward Charlie McNeill, 19,...</td>\n",
       "      <td>2022</td>\n",
       "      <td>Mail</td>\n",
       "    </tr>\n",
       "    <tr>\n",
       "      <th>3327</th>\n",
       "      <td>Everton want to sign at least two attacking pl...</td>\n",
       "      <td>2022</td>\n",
       "      <td>Liverpool Echo</td>\n",
       "    </tr>\n",
       "    <tr>\n",
       "      <th>3328</th>\n",
       "      <td>The Toffees are also targeting Union Berlin's ...</td>\n",
       "      <td>2022</td>\n",
       "      <td>Mail</td>\n",
       "    </tr>\n",
       "    <tr>\n",
       "      <th>3329</th>\n",
       "      <td>Norwich are close to signing 19-year-old Brazi...</td>\n",
       "      <td>2022</td>\n",
       "      <td>Express</td>\n",
       "    </tr>\n",
       "    <tr>\n",
       "      <th>3330</th>\n",
       "      <td>Leeds are willing to listen to offers for Jack...</td>\n",
       "      <td>2022</td>\n",
       "      <td>LeedsLive</td>\n",
       "    </tr>\n",
       "  </tbody>\n",
       "</table>\n",
       "<p>3088 rows × 3 columns</p>\n",
       "</div>"
      ],
      "text/plain": [
       "                                                 Rumour  Year  \\\n",
       "0     Tottenham and England striker Harry Kane, 27, ...  2020   \n",
       "1     PSG are to make renewed attempts to sign Manch...  2020   \n",
       "2     Arsenal will make another attempt to sign 22-y...  2020   \n",
       "3     Sergio Ramos is a target for Manchester United...  2020   \n",
       "5     Real Madrid and France defender Raphael Varane...  2020   \n",
       "...                                                 ...   ...   \n",
       "3326  Manchester United forward Charlie McNeill, 19,...  2022   \n",
       "3327  Everton want to sign at least two attacking pl...  2022   \n",
       "3328  The Toffees are also targeting Union Berlin's ...  2022   \n",
       "3329  Norwich are close to signing 19-year-old Brazi...  2022   \n",
       "3330  Leeds are willing to listen to offers for Jack...  2022   \n",
       "\n",
       "                       Outlet  \n",
       "0                       90min  \n",
       "1     Le Parisien - in French  \n",
       "2                         Sun  \n",
       "3                       90min  \n",
       "5                        Goal  \n",
       "...                       ...  \n",
       "3326                     Mail  \n",
       "3327           Liverpool Echo  \n",
       "3328                     Mail  \n",
       "3329                  Express  \n",
       "3330                LeedsLive  \n",
       "\n",
       "[3088 rows x 3 columns]"
      ]
     },
     "execution_count": 40,
     "metadata": {},
     "output_type": "execute_result"
    }
   ],
   "source": [
    "df2"
   ]
  },
  {
   "cell_type": "code",
   "execution_count": 41,
   "id": "bb5ff712",
   "metadata": {},
   "outputs": [],
   "source": [
    "#Removing where we don't have an outlet (Unwanted rows)\n",
    "df3 = df2.loc[df2['Outlet'] != \"NA\"]"
   ]
  },
  {
   "cell_type": "code",
   "execution_count": 42,
   "id": "ff02a164",
   "metadata": {},
   "outputs": [],
   "source": [
    "#Saving the data\n",
    "df3.to_csv('Rumours.csv', encoding='utf-8')"
   ]
  },
  {
   "cell_type": "code",
   "execution_count": 43,
   "id": "a69f165c",
   "metadata": {},
   "outputs": [
    {
     "data": {
      "text/html": [
       "<div>\n",
       "<style scoped>\n",
       "    .dataframe tbody tr th:only-of-type {\n",
       "        vertical-align: middle;\n",
       "    }\n",
       "\n",
       "    .dataframe tbody tr th {\n",
       "        vertical-align: top;\n",
       "    }\n",
       "\n",
       "    .dataframe thead th {\n",
       "        text-align: right;\n",
       "    }\n",
       "</style>\n",
       "<table border=\"1\" class=\"dataframe\">\n",
       "  <thead>\n",
       "    <tr style=\"text-align: right;\">\n",
       "      <th></th>\n",
       "      <th>Rumour</th>\n",
       "      <th>Year</th>\n",
       "      <th>Outlet</th>\n",
       "    </tr>\n",
       "  </thead>\n",
       "  <tbody>\n",
       "    <tr>\n",
       "      <th>0</th>\n",
       "      <td>Tottenham and England striker Harry Kane, 27, ...</td>\n",
       "      <td>2020</td>\n",
       "      <td>90min</td>\n",
       "    </tr>\n",
       "    <tr>\n",
       "      <th>1</th>\n",
       "      <td>PSG are to make renewed attempts to sign Manch...</td>\n",
       "      <td>2020</td>\n",
       "      <td>Le Parisien - in French</td>\n",
       "    </tr>\n",
       "    <tr>\n",
       "      <th>2</th>\n",
       "      <td>Arsenal will make another attempt to sign 22-y...</td>\n",
       "      <td>2020</td>\n",
       "      <td>Sun</td>\n",
       "    </tr>\n",
       "    <tr>\n",
       "      <th>3</th>\n",
       "      <td>Sergio Ramos is a target for Manchester United...</td>\n",
       "      <td>2020</td>\n",
       "      <td>90min</td>\n",
       "    </tr>\n",
       "    <tr>\n",
       "      <th>5</th>\n",
       "      <td>Real Madrid and France defender Raphael Varane...</td>\n",
       "      <td>2020</td>\n",
       "      <td>Goal</td>\n",
       "    </tr>\n",
       "    <tr>\n",
       "      <th>...</th>\n",
       "      <td>...</td>\n",
       "      <td>...</td>\n",
       "      <td>...</td>\n",
       "    </tr>\n",
       "    <tr>\n",
       "      <th>3326</th>\n",
       "      <td>Manchester United forward Charlie McNeill, 19,...</td>\n",
       "      <td>2022</td>\n",
       "      <td>Mail</td>\n",
       "    </tr>\n",
       "    <tr>\n",
       "      <th>3327</th>\n",
       "      <td>Everton want to sign at least two attacking pl...</td>\n",
       "      <td>2022</td>\n",
       "      <td>Liverpool Echo</td>\n",
       "    </tr>\n",
       "    <tr>\n",
       "      <th>3328</th>\n",
       "      <td>The Toffees are also targeting Union Berlin's ...</td>\n",
       "      <td>2022</td>\n",
       "      <td>Mail</td>\n",
       "    </tr>\n",
       "    <tr>\n",
       "      <th>3329</th>\n",
       "      <td>Norwich are close to signing 19-year-old Brazi...</td>\n",
       "      <td>2022</td>\n",
       "      <td>Express</td>\n",
       "    </tr>\n",
       "    <tr>\n",
       "      <th>3330</th>\n",
       "      <td>Leeds are willing to listen to offers for Jack...</td>\n",
       "      <td>2022</td>\n",
       "      <td>LeedsLive</td>\n",
       "    </tr>\n",
       "  </tbody>\n",
       "</table>\n",
       "<p>3088 rows × 3 columns</p>\n",
       "</div>"
      ],
      "text/plain": [
       "                                                 Rumour  Year  \\\n",
       "0     Tottenham and England striker Harry Kane, 27, ...  2020   \n",
       "1     PSG are to make renewed attempts to sign Manch...  2020   \n",
       "2     Arsenal will make another attempt to sign 22-y...  2020   \n",
       "3     Sergio Ramos is a target for Manchester United...  2020   \n",
       "5     Real Madrid and France defender Raphael Varane...  2020   \n",
       "...                                                 ...   ...   \n",
       "3326  Manchester United forward Charlie McNeill, 19,...  2022   \n",
       "3327  Everton want to sign at least two attacking pl...  2022   \n",
       "3328  The Toffees are also targeting Union Berlin's ...  2022   \n",
       "3329  Norwich are close to signing 19-year-old Brazi...  2022   \n",
       "3330  Leeds are willing to listen to offers for Jack...  2022   \n",
       "\n",
       "                       Outlet  \n",
       "0                       90min  \n",
       "1     Le Parisien - in French  \n",
       "2                         Sun  \n",
       "3                       90min  \n",
       "5                        Goal  \n",
       "...                       ...  \n",
       "3326                     Mail  \n",
       "3327           Liverpool Echo  \n",
       "3328                     Mail  \n",
       "3329                  Express  \n",
       "3330                LeedsLive  \n",
       "\n",
       "[3088 rows x 3 columns]"
      ]
     },
     "execution_count": 43,
     "metadata": {},
     "output_type": "execute_result"
    }
   ],
   "source": [
    "df3"
   ]
  }
 ],
 "metadata": {
  "kernelspec": {
   "display_name": "Python 3 (ipykernel)",
   "language": "python",
   "name": "python3"
  },
  "language_info": {
   "codemirror_mode": {
    "name": "ipython",
    "version": 3
   },
   "file_extension": ".py",
   "mimetype": "text/x-python",
   "name": "python",
   "nbconvert_exporter": "python",
   "pygments_lexer": "ipython3",
   "version": "3.10.9"
  }
 },
 "nbformat": 4,
 "nbformat_minor": 5
}
